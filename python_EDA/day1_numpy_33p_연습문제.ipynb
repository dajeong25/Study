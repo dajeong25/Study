{
 "cells": [
  {
   "cell_type": "code",
   "execution_count": 1,
   "metadata": {},
   "outputs": [
    {
     "name": "stdout",
     "output_type": "stream",
     "text": [
      "[5.48813504 7.15189366 6.02763376 5.44883183 4.23654799 6.45894113\n",
      " 4.37587211 8.91773001 9.63662761 3.83441519]\n",
      "[5. 7. 6. 5. 4. 6. 4. 8. 9. 3.]\n"
     ]
    }
   ],
   "source": [
    "#1 ndarray 객체 Z의 원소들로부터 정수 부분만 추출\n",
    "# np.random.seed(0)\n",
    "# Z=np.random.uniform(0, 10, 10)\n",
    "import numpy as np\n",
    "np.random.seed(0)\n",
    "Z=np.random.uniform(0, 10, 10)\n",
    "print(Z)\n",
    "print(Z//1)"
   ]
  },
  {
   "cell_type": "code",
   "execution_count": null,
   "metadata": {},
   "outputs": [],
   "source": [
    "#또다른 풀이\n",
    "np.random.seed(0) \n",
    "Z = np.random.uniform(0,10,10)\n",
    "print(Z)\n",
    "print(Z-(Z%1))\n",
    "print(Z.astype(int))\n",
    "print(np.trunc(Z))\n",
    "print(np.floor(Z))"
   ]
  },
  {
   "cell_type": "code",
   "execution_count": 2,
   "metadata": {},
   "outputs": [
    {
     "name": "stdout",
     "output_type": "stream",
     "text": [
      "[[0 1 1 0 1]\n",
      " [4 3 0 3 0]\n",
      " [2 3 0 1 3]\n",
      " [3 3 0 1 1]\n",
      " [1 0 2 4 3]]\n"
     ]
    }
   ],
   "source": [
    "#2 행의 값이 0~4 정수 데이터로 구성된 5x5 2차원배열 객체 생성\n",
    "import numpy as np\n",
    "a = np.random.randint(0, 5, [5,5])\n",
    "print(a)"
   ]
  },
  {
   "cell_type": "code",
   "execution_count": null,
   "metadata": {},
   "outputs": [],
   "source": [
    "#또다른 풀이\n",
    "Z = np.random.randint(0, 5, 25).reshape(5,5) \n",
    "print(Z)\n",
    "\n",
    "#또다른 풀이\n",
    "Z = np.zeros((5,5))\n",
    "Z += np.arange(5)\n",
    "print(Z)"
   ]
  },
  {
   "cell_type": "code",
   "execution_count": 4,
   "metadata": {},
   "outputs": [
    {
     "name": "stdout",
     "output_type": "stream",
     "text": [
      "변경 전 : [0.96702984 0.54723225 0.97268436 0.71481599 0.69772882 0.2160895\n",
      " 0.97627445 0.00623026 0.25298236 0.43479153]\n",
      "최댓값 : 6\n",
      "변경 후 : [0.96702984 0.54723225 0.97268436 0.71481599 0.69772882 0.2160895\n",
      " 0.         0.00623026 0.25298236 0.43479153]\n"
     ]
    }
   ],
   "source": [
    "#3 random()함수로 10개의 원소를 생성하고, 생성된 원소 중 최대값을 0으로 변경하시오\n",
    "import numpy as np\n",
    "np.random.seed(4)\n",
    "a = np.random.random(10)\n",
    "print('변경 전 :', a)\n",
    "print('최댓값 :', np.argmax(a))\n",
    "a[np.argmax(a)] = 0\n",
    "print('변경 후 :', a)"
   ]
  },
  {
   "cell_type": "code",
   "execution_count": null,
   "metadata": {},
   "outputs": [],
   "source": [
    "#또다른 풀이\n",
    "import numpy as np\n",
    "np.random.seed(0)\n",
    "Z = np.random.rand(10)\n",
    "for i in range(10):\n",
    "    if Z[i] == max(Z):\n",
    "        Z[i] = 0\n",
    "print('변경 후 :', Z)\n",
    "\n",
    "import numpy as np\n",
    "np.random.seed(0)\n",
    "Z = np.random.rand(10)\n",
    "Z.sort()         ######벡터이니까 for 안 쓰고 이렇게 하는 게 좋음\n",
    "Z[9] = 0\n",
    "print(Z)\n",
    "\n",
    "import numpy as np \n",
    "np.random.seed(0)\n",
    "Z = np.random.random(10)\n",
    "print('변경 전 :', Z)\n",
    "Z[Z.argmax()] = 0         ######벡터이니까 for 안 쓰고 이렇게 하는 게 좋음\n",
    "print('변경 후 :', Z)"
   ]
  },
  {
   "cell_type": "code",
   "execution_count": 5,
   "metadata": {},
   "outputs": [
    {
     "name": "stdout",
     "output_type": "stream",
     "text": [
      "[0.00623026 0.2160895  0.25298236 0.43479153 0.54723225 0.69772882\n",
      " 0.71481599 0.96702984 0.97268436 0.97627445]\n"
     ]
    }
   ],
   "source": [
    "#4 크기가 10인 랜덤 벡터를 생성하고 벡터의 원소를 오름차순으로 정렬하시오\n",
    "import numpy as np\n",
    "np.random.seed(4)\n",
    "a = np.random.random(10)\n",
    "a.sort()\n",
    "print(a)"
   ]
  },
  {
   "cell_type": "code",
   "execution_count": 7,
   "metadata": {},
   "outputs": [
    {
     "name": "stdout",
     "output_type": "stream",
     "text": [
      "[8 9 3 8 8 0 5 3 9 9 5 7 6 0 4 7 8 1 6 2 2 1 3 5 8 1 8 7 8 1 0 5 4 1 5 4 7\n",
      " 6 0 0 9 2 4 5 8 8 7 5 1 1]\n",
      "빈도수가 가장 높은 값 : 8\n"
     ]
    }
   ],
   "source": [
    "#5 Z배열 객체에서 빈도수가 가장 높은 값을 찾아 출력하시오\n",
    "#Z = np.random.randint(0, 10, 50)\n",
    "import numpy as np\n",
    "np.random.seed(3)\n",
    "Z = np.random.randint(0, 10, 50)\n",
    "print(Z)\n",
    "print('빈도수가 가장 높은 값 :',np.bincount(Z).argmax())"
   ]
  },
  {
   "cell_type": "code",
   "execution_count": 9,
   "metadata": {},
   "outputs": [
    {
     "name": "stdout",
     "output_type": "stream",
     "text": [
      "3.73\n"
     ]
    }
   ],
   "source": [
    "#6 주사위를 100번 던져서 나오는 숫자의 평균을 구하라.\n",
    "import numpy as np\n",
    "a = np.random.randint(1,7,100)\n",
    "print(a.mean())"
   ]
  },
  {
   "cell_type": "code",
   "execution_count": 10,
   "metadata": {},
   "outputs": [
    {
     "name": "stdout",
     "output_type": "stream",
     "text": [
      "[10005, 9996, 9996, 10008, 9995, 9984, 9991, 10000, 10001, 10012, 9993, 10007, 10004, 9999, 10008, 10004, 9992, 10010, 9988, 10000, 10000, 10004, 9993, 10000, 9999, 10009, 9993, 10000, 9998, 9988, 10026, 10000, 9986, 10014, 9990, 10003, 10008, 9994, 9996, 9995, 9999, 9984, 9988, 9999, 10010, 10006, 10017, 10006, 9995, 9999, 9980, 9991, 9990, 10002, 10006, 9995, 9995, 9985, 9999, 10002, 10004, 9993, 10019, 10011, 10000, 9995, 9997, 10001, 10000, 10004, 10007, 10013, 10011, 9999, 10003, 9997, 9995, 10019, 9996, 10019, 9997, 10002, 10010, 10000, 10003, 9998, 9996, 9999, 9994, 10016, 9999, 10017, 9974, 10000, 10005, 9998, 10010, 10006, 9998, 10004, 10028, 10002, 10002, 9996, 10001, 9988, 9999, 10024, 10010, 10006, 10011, 10018, 10005, 10020, 10010, 10001, 10017, 9977, 9995, 10002, 9991, 9999, 9994, 9994, 10027, 10006, 10000, 10013, 9998, 10008, 10003, 10016, 9986, 10007, 10001, 9989, 10010, 9992, 10016, 10005, 10006, 10000, 10009, 9982, 10000, 9994, 10002, 10000, 10006, 9992, 10018, 10023, 9998, 10000, 10002, 10012, 10018, 9988, 9994, 9990, 9989, 9984, 10003, 9989, 10015, 10009, 9990, 9990, 9994, 10013, 9992, 9986, 10000, 10003, 9994, 10016, 10002, 10004, 9992, 10000, 9999, 9978, 10002, 9983, 10000, 9986, 10020, 10003, 10008, 10009, 9987, 9978, 9997, 10008, 10000, 10007, 10009, 9986, 10002, 10019, 9995, 9980, 9998, 9996, 10004, 9992, 10000, 9978, 10008, 10015, 10012, 9985, 10003, 9971, 10002, 10000, 9991, 10003, 10001, 10009, 10001, 10002, 9981, 9989, 9996, 10002, 10000, 10015, 9992, 9998, 10002, 9998, 10004, 9995, 10014, 9997, 10011, 10000, 10014, 9987, 10005, 9996, 10002, 10011, 9989, 9987, 9991, 10002, 9982, 10000]\n"
     ]
    }
   ],
   "source": [
    "#7 가격이 10,000원인 주식이 있다. 이 주식의 일간 수익률(%)은 기댓값이 0%이고 \n",
    "# 표준편차가 1%인 표준 정규 분포를 따른다고 하자. 250일 동안의 주가를 무작위로 생성하라\n",
    "import numpy as np\n",
    "a = [10000+int(n*10) for n in np.random.normal(0,1,size=250)]\n",
    "print(a)"
   ]
  },
  {
   "cell_type": "code",
   "execution_count": 11,
   "metadata": {},
   "outputs": [
    {
     "name": "stdout",
     "output_type": "stream",
     "text": [
      "[1 1 0 1 0 0 0 0 1 1]\n"
     ]
    }
   ],
   "source": [
    "# 동전을 10번 던져 앞면(숫자 1)과 뒷면(숫자 0)이 나오는 가상 실험을 파이썬으로 작성한다.\n",
    "import numpy as np\n",
    "a = np.random.randint(0,2,10)\n",
    "print(a)"
   ]
  }
 ],
 "metadata": {
  "kernelspec": {
   "display_name": "Python 3.9.12 ('base')",
   "language": "python",
   "name": "python3"
  },
  "language_info": {
   "codemirror_mode": {
    "name": "ipython",
    "version": 3
   },
   "file_extension": ".py",
   "mimetype": "text/x-python",
   "name": "python",
   "nbconvert_exporter": "python",
   "pygments_lexer": "ipython3",
   "version": "3.9.12"
  },
  "orig_nbformat": 4,
  "vscode": {
   "interpreter": {
    "hash": "631926b96873d2007fbe5ba14401cac9ce99e5e76ded0bffc18be58f3fefa61b"
   }
  }
 },
 "nbformat": 4,
 "nbformat_minor": 2
}
