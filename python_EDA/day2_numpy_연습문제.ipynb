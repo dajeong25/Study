{
 "cells": [
  {
   "cell_type": "code",
   "execution_count": 1,
   "metadata": {},
   "outputs": [
    {
     "name": "stdout",
     "output_type": "stream",
     "text": [
      "1.22.4\n"
     ]
    }
   ],
   "source": [
    "# Q. numpy를 np로 가져오고 버전 확인\n",
    "import numpy as np\n",
    "print(np.version.version)"
   ]
  },
  {
   "cell_type": "code",
   "execution_count": 3,
   "metadata": {},
   "outputs": [
    {
     "name": "stdout",
     "output_type": "stream",
     "text": [
      "[0 5 5 8 6 8 3 1 1 2]\n"
     ]
    }
   ],
   "source": [
    "# Q. 0에서 9까지의 숫자로 구성된 1D 배열 생성\n",
    "import numpy as np\n",
    "a = np.random.randint(0,10,10)\n",
    "print(a)"
   ]
  },
  {
   "cell_type": "code",
   "execution_count": 8,
   "metadata": {},
   "outputs": [
    {
     "name": "stdout",
     "output_type": "stream",
     "text": [
      "[[ True  True  True]\n",
      " [ True  True  True]\n",
      " [ True  True  True]]\n"
     ]
    }
   ],
   "source": [
    "# Q. 모든 True의 3×3 numpy 배열 생성\n",
    "import numpy as np\n",
    "t = np.zeros((3,3))\n",
    "t = (t == 0)\n",
    "print(t) "
   ]
  },
  {
   "cell_type": "code",
   "execution_count": 11,
   "metadata": {},
   "outputs": [
    {
     "name": "stdout",
     "output_type": "stream",
     "text": [
      "[1 3 5 7 9]\n"
     ]
    }
   ],
   "source": [
    "# Q. 1D 배열에서 모든 홀수를 추출\n",
    "# 입력 > arr = np.array([0, 1, 2, 3, 4, 5, 6, 7, 8, 9])\n",
    "# 출력 > array([1, 3, 5, 7, 9])\n",
    "import numpy as np\n",
    "arr = np.array([0, 1, 2, 3, 4, 5, 6, 7, 8, 9])\n",
    "print(arr[arr%2!=0])"
   ]
  },
  {
   "cell_type": "code",
   "execution_count": 12,
   "metadata": {},
   "outputs": [
    {
     "name": "stdout",
     "output_type": "stream",
     "text": [
      "[ 0 -1  2 -1  4 -1  6 -1  8 -1]\n"
     ]
    }
   ],
   "source": [
    "# Q. 모든 홀수 arr를 -1 로 바꿉니다.\n",
    "# 입력 > arr = np.array([0, 1, 2, 3, 4, 5, 6, 7, 8, 9])\n",
    "# 출력 > array([ 0, -1,  2, -1,  4, -1,  6, -1,  8, -1])\n",
    "import numpy as np\n",
    "arr = np.array([0, 1, 2, 3, 4, 5, 6, 7, 8, 9])\n",
    "arr[arr%2!=0] = -1\n",
    "print(arr)"
   ]
  },
  {
   "cell_type": "code",
   "execution_count": 13,
   "metadata": {},
   "outputs": [
    {
     "name": "stdout",
     "output_type": "stream",
     "text": [
      "[ 0 -1  2 -1  4 -1  6 -1  8 -1]\n",
      "[0 1 2 3 4 5 6 7 8 9]\n"
     ]
    }
   ],
   "source": [
    "# Q. arr의 모든 홀수를 변경하지 않고 -1로 바꿉니다\n",
    "# 입력 > arr = np.array([0, 1, 2, 3, 4, 5, 6, 7, 8, 9])\n",
    "# 출력 > array([ 0, -1,  2, -1,  4, -1,  6, -1,  8, -1])\n",
    "#           arr는 array([0, 1, 2, 3, 4, 5, 6, 7, 8, 9])\n",
    "import numpy as np\n",
    "arr = np.array([0, 1, 2, 3, 4, 5, 6, 7, 8, 9])\n",
    "arr_odd = arr.flatten()\n",
    "arr_odd[arr_odd%2!=0] = -1\n",
    "print(arr_odd)\n",
    "print(arr)"
   ]
  },
  {
   "cell_type": "code",
   "execution_count": 14,
   "metadata": {},
   "outputs": [
    {
     "data": {
      "text/plain": [
       "array([[0, 1, 2, 3, 4],\n",
       "       [5, 6, 7, 8, 9]])"
      ]
     },
     "execution_count": 14,
     "metadata": {},
     "output_type": "execute_result"
    }
   ],
   "source": [
    "# Q. 1D 배열을 2행이 있는 2D 배열로 변환\n",
    "# 입력 > np.arange(10)\n",
    "# 출력 > array([[0, 1, 2, 3, 4],\n",
    "#                   [5, 6, 7, 8, 9]])\n",
    "import numpy as np\n",
    "a = np.arange(10)\n",
    "a = a.reshape(2,5)\n",
    "print(a)"
   ]
  },
  {
   "cell_type": "code",
   "execution_count": 16,
   "metadata": {},
   "outputs": [
    {
     "name": "stdout",
     "output_type": "stream",
     "text": [
      "[[0 1 2 3 4]\n",
      " [5 6 7 8 9]\n",
      " [1 1 1 1 1]\n",
      " [1 1 1 1 1]]\n"
     ]
    }
   ],
   "source": [
    "# Q. 두 개의 어레이를 수직으로 쌓기\n",
    "# 입력 > a = np.arange(10).reshape(2,-1)\n",
    "#        b = np.repeat(1, 10).reshape(2,-1)\n",
    "# 출력 >  array([[0, 1, 2, 3, 4],\n",
    "#        [5, 6, 7, 8, 9],\n",
    "# \t     [1, 1, 1, 1, 1],\n",
    "# \t     [1, 1, 1, 1, 1]])\n",
    "import numpy as np\n",
    "a = np.arange(10).reshape(2,-1)\n",
    "b = np.repeat(1, 10).reshape(2,-1)\n",
    "c = np.vstack([a,b])\n",
    "print(c)"
   ]
  },
  {
   "cell_type": "code",
   "execution_count": 17,
   "metadata": {},
   "outputs": [
    {
     "name": "stdout",
     "output_type": "stream",
     "text": [
      "[[0 1 2 3 4 1 1 1 1 1]\n",
      " [5 6 7 8 9 1 1 1 1 1]]\n"
     ]
    }
   ],
   "source": [
    "# Q. 두 개의 어레이를 수평으로 쌓기\n",
    "# 입력 > a = np.arange(10).reshape(2,-1)\n",
    "#           b = np.repeat(1, 10).reshape(2,-1)\n",
    "\n",
    "# 출력 >  array([[0, 1, 2, 3, 4, 1, 1, 1, 1, 1],\n",
    "#                     [5, 6, 7, 8, 9, 1, 1, 1, 1, 1]])\n",
    "import numpy as np\n",
    "a = np.arange(10).reshape(2,-1)\n",
    "b = np.repeat(1, 10).reshape(2,-1)\n",
    "c = np.hstack([a,b])\n",
    "print(c)"
   ]
  },
  {
   "cell_type": "code",
   "execution_count": 30,
   "metadata": {},
   "outputs": [
    {
     "name": "stdout",
     "output_type": "stream",
     "text": [
      "[1 1 1 2 2 2 3 3 3 1 2 3 1 2 3 1 2 3]\n"
     ]
    }
   ],
   "source": [
    "# Q. 하드코딩 없이 아래 입력 배열만 사용 출력과 같은 패턴을 만드시오\n",
    "# 입력 > a = np.array([1,2,3])\n",
    "# 출력 > array([1, 1, 1, 2, 2, 2, 3, 3, 3, 1, 2, 3, 1, 2, 3, 1, 2, 3])\n",
    "import numpy as np\n",
    "a = np.array([1,2,3])\n",
    "result1 = np.dstack([a,a,a]).ravel()\n",
    "result2 = np.tile(a, 3)\n",
    "print(np.hstack([result1, result2]))\n"
   ]
  },
  {
   "cell_type": "code",
   "execution_count": 38,
   "metadata": {},
   "outputs": [
    {
     "name": "stdout",
     "output_type": "stream",
     "text": [
      "[2 4]\n"
     ]
    }
   ],
   "source": [
    "# Q 두 파이썬 numpy 배열 사이의 공통 항목  출력\n",
    "# 입력 > a = np.array([1,2,3,2,3,4,3,4,5,6])\n",
    "#          b = np.array([7,2,10,2,7,4,9,4,9,8])\n",
    "# 출력 >  array([2, 4])\n",
    "import numpy as np\n",
    "a = np.array([1,2,3,2,3,4,3,4,5,6])\n",
    "b = np.array([7,2,10,2,7,4,9,4,9,8])\n",
    "c = np.intersect1d(a,b)\n",
    "print(c)"
   ]
  },
  {
   "cell_type": "code",
   "execution_count": 39,
   "metadata": {},
   "outputs": [
    {
     "name": "stdout",
     "output_type": "stream",
     "text": [
      "[1 2 3 4]\n"
     ]
    }
   ],
   "source": [
    "# Q. 배열 a에서 b 배열에 있는 모든 항목을 제거합니다.\n",
    "# 입력 > a = np.array([1,2,3,4,5])\n",
    "#           b = np.array([5,6,7,8,9])\n",
    "# 출력 > array([1,2,3,4])\n",
    "import numpy as np\n",
    "a = np.array([1,2,3,4,5])\n",
    "b = np.array([5,6,7,8,9])\n",
    "c = np.setdiff1d(a,b)\n",
    "print(c)"
   ]
  },
  {
   "cell_type": "code",
   "execution_count": 52,
   "metadata": {},
   "outputs": [
    {
     "name": "stdout",
     "output_type": "stream",
     "text": [
      "[[1, 3, 5, 7]]\n"
     ]
    }
   ],
   "source": [
    "# Q. a, b두 배열의 요소가 일치하는 위치를 출력\n",
    "# 입력 > a = np.array([1,2,3,2,3,4,3,4,5,6])\n",
    "#           b = np.array([7,2,10,2,7,4,9,4,9,8])\n",
    "# 출력 > (array([1, 3, 5, 7]),)\n",
    "import numpy as np\n",
    "a = np.array([1,2,3,2,3,4,3,4,5,6])\n",
    "b = np.array([7,2,10,2,7,4,9,4,9,8])\n",
    "c = []\n",
    "[c.append(idx) for idx in range(len(a)) if a[idx] == b[idx]]\n",
    "c = np.array(c)\n",
    "print(c)"
   ]
  },
  {
   "cell_type": "code",
   "execution_count": 77,
   "metadata": {},
   "outputs": [
    {
     "name": "stdout",
     "output_type": "stream",
     "text": [
      "[False  True False  True  True False  True]\n"
     ]
    }
   ],
   "source": [
    "# Q. a배열에서  5에서 10 사이의 모든 항목을 에서 가져옵니다 \n",
    "# 입력 > a = np.array([2, 6, 1, 9, 10, 3, 27])\n",
    "# 출력 > ( array ([ 6 , 9 , 10 ]),)  \n",
    "import numpy as np\n",
    "a = np.array([2, 6, 1, 9, 10, 3, 27])\n",
    "b = np.arange(5, 11)\n",
    "c = []\n",
    "#[c.append(value) for value in a if b.any(a)]\n",
    "#c = np.array(c)\n",
    "print(a>=5)"
   ]
  },
  {
   "cell_type": "markdown",
   "metadata": {},
   "source": [
    "Q. maxx두 개의 스칼라에서 작동하는 함수를 두 개의 배열에서 작동하도록 변환하시오\n",
    "- 입력 > def maxx(x, y):\n",
    "    \"\"\"Get the maximum of two items\"\"\"\n",
    "    if x >= y:\n",
    "        return x\n",
    "    else:\n",
    "        return y\n",
    "\n",
    "maxx(1, 5)  #호출\n",
    "5             #출력\n",
    "\n",
    "출력 > a = np.array([5, 7, 9, 8, 6, 4, 5])\n",
    "          b = np.array([6, 3, 4, 8, 9, 7, 1])\n",
    "          pair_max(a, b)     #함수 호출\n",
    "          array([ 6.,  7.,  9.,  8.,  9.,  7.,  5.])  #출력\n",
    "\n"
   ]
  },
  {
   "cell_type": "code",
   "execution_count": 13,
   "metadata": {},
   "outputs": [
    {
     "data": {
      "text/plain": [
       "array([6, 7, 9, 8, 9, 7, 5])"
      ]
     },
     "execution_count": 13,
     "metadata": {},
     "output_type": "execute_result"
    }
   ],
   "source": [
    "import numpy as np\n",
    "def pair_max(x, y):\n",
    "    return np.maximum(x,y)\n",
    "\n",
    "a = np.array([5, 7, 9, 8, 6, 4, 5])\n",
    "b = np.array([6, 3, 4, 8, 9, 7, 1])\n",
    "pair_max(a, b)"
   ]
  },
  {
   "cell_type": "code",
   "execution_count": 83,
   "metadata": {},
   "outputs": [
    {
     "name": "stdout",
     "output_type": "stream",
     "text": [
      "[[0 1 2]\n",
      " [3 4 5]\n",
      " [6 7 8]]\n",
      "[[1 0 2]\n",
      " [4 3 5]\n",
      " [7 6 8]]\n"
     ]
    }
   ],
   "source": [
    "# Q.  2d numpy 배열에서 배열의 1열과 2열을 바꿉니다\n",
    "# 입력 > arr = np.arange(9).reshape(3,3)\n",
    "import numpy as np\n",
    "arr = np.arange(9).reshape(3,3)\n",
    "print(arr)\n",
    "print(arr[:, [1,0,2]])"
   ]
  },
  {
   "cell_type": "code",
   "execution_count": 86,
   "metadata": {},
   "outputs": [
    {
     "name": "stdout",
     "output_type": "stream",
     "text": [
      "[[0 1 2]\n",
      " [3 4 5]\n",
      " [6 7 8]]\n",
      "[[6 7 8]\n",
      " [3 4 5]\n",
      " [0 1 2]]\n"
     ]
    }
   ],
   "source": [
    "# Q. 2D 배열의 행을 뒤집습니다.\n",
    "# 입력 >  arr = np.arange(9).reshape(3,3)\n",
    "import numpy as np\n",
    "arr = np.arange(9).reshape(3,3)\n",
    "print(arr)\n",
    "print(arr[[2,1,0], :])"
   ]
  },
  {
   "cell_type": "code",
   "execution_count": 87,
   "metadata": {},
   "outputs": [
    {
     "name": "stdout",
     "output_type": "stream",
     "text": [
      "[[0 1 2]\n",
      " [3 4 5]\n",
      " [6 7 8]]\n",
      "[[2 1 0]\n",
      " [5 4 3]\n",
      " [8 7 6]]\n"
     ]
    }
   ],
   "source": [
    "# Q. 2D 배열의 열을 뒤집습니다.\n",
    "# 입력 >  arr = np.arange(9).reshape(3,3)\n",
    "import numpy as np\n",
    "arr = np.arange(9).reshape(3,3)\n",
    "print(arr)\n",
    "print(arr[:, [2,1,0]])\n"
   ]
  },
  {
   "cell_type": "code",
   "execution_count": 88,
   "metadata": {},
   "outputs": [
    {
     "name": "stdout",
     "output_type": "stream",
     "text": [
      "[[10 10 10]\n",
      " [ 8  5  9]\n",
      " [10  6  8]\n",
      " [ 7  9 10]\n",
      " [ 7  7 10]]\n"
     ]
    }
   ],
   "source": [
    "# Q. 5에서 10 사이의 임의의 십진수를 포함하는 5x3 모양의 2D 배열을 만듭니다.\n",
    "import numpy as np\n",
    "a = np.random.randint(5,11,[5,3])\n",
    "print(a)"
   ]
  },
  {
   "cell_type": "code",
   "execution_count": 92,
   "metadata": {},
   "outputs": [
    {
     "name": "stdout",
     "output_type": "stream",
     "text": [
      "[[ 7.18829219  9.60003241  6.59439589]\n",
      " [10.88121094  8.88779184  7.26171435]\n",
      " [ 8.13081973  8.92808636 10.46453042]\n",
      " [ 7.43873561  6.68018073  8.01001313]\n",
      " [ 8.82610813  8.59224259 10.45835955]]\n"
     ]
    }
   ],
   "source": [
    "# Q. 5에서 10 사이의 임의의 부동 소수점을 포함하는 5x3 모양의  2D 배열 만듭니다.\n",
    "import numpy as np\n",
    "a = np.random.uniform(5,11,[5,3])\n",
    "print(a)"
   ]
  },
  {
   "cell_type": "code",
   "execution_count": 93,
   "metadata": {},
   "outputs": [
    {
     "name": "stdout",
     "output_type": "stream",
     "text": [
      "[[0.415 0.964 0.345]\n",
      " [0.294 0.442 0.875]\n",
      " [0.175 0.802 0.7  ]\n",
      " [0.535 0.747 0.208]\n",
      " [0.343 0.665 0.761]]\n"
     ]
    }
   ],
   "source": [
    "# Q. numpy 배열의 소수점 이하 세 자리만 출력합니다.\n",
    "# 입력 > rand_arr = np.random.random((5,3))\n",
    "import numpy as np\n",
    "rand_arr = np.random.random((5,3))\n",
    "print(rand_arr.round(3))"
   ]
  },
  {
   "cell_type": "code",
   "execution_count": 97,
   "metadata": {},
   "outputs": [
    {
     "name": "stdout",
     "output_type": "stream",
     "text": [
      "[[0.000543 0.000278 0.000425]\n",
      " [0.000845 0.000005 0.000122]\n",
      " [0.000671 0.000826 0.000137]]\n"
     ]
    }
   ],
   "source": [
    "# Q.  과학적 표기법(예: 1e10)을 억제하여 numpy 배열을 예쁘게 출력하시오\n",
    "# 입력 > np.random.seed(100)\n",
    "#           rand_arr = np.random.random([3,3])/1e3\n",
    "\n",
    "# 출력 > array([[ 0.000543,  0.000278,  0.000425],\n",
    "#                   [ 0.000845,  0.000005,  0.000122],\n",
    "#                   [ 0.000671,  0.000826,  0.000137]])\n",
    "import numpy as np\n",
    "np.random.seed(100)\n",
    "rand_arr = np.random.random([3,3])/1e3\n",
    "np.set_printoptions(precision=6, suppress=True)\n",
    "print(rand_arr)"
   ]
  },
  {
   "cell_type": "code",
   "execution_count": 99,
   "metadata": {},
   "outputs": [
    {
     "name": "stdout",
     "output_type": "stream",
     "text": [
      "[ 0  1  2 ... 12 13 14]\n"
     ]
    }
   ],
   "source": [
    "# Q.   numpy 배열의 출력에 인쇄되는 항목 수를 최대 6개 요소로 제한하시오\n",
    "# 입력 >  a = np.arange(15)\n",
    "# 출력 >  array([ 0,  1,  2, ..., 12, 13, 14])\n",
    "import numpy as np\n",
    "a = np.arange(15)\n",
    "np.set_printoptions(threshold=7)\n",
    "print(a)"
   ]
  },
  {
   "cell_type": "code",
   "execution_count": 100,
   "metadata": {},
   "outputs": [
    {
     "name": "stdout",
     "output_type": "stream",
     "text": [
      "[ 0  1  2  3  4  5  6  7  8  9 10 11 12 13 14]\n"
     ]
    }
   ],
   "source": [
    "# Q.  출력에 데이터 항목이 제한된 numpy 배열의  모든 데이터를 출력하시오\n",
    "# 입력 > np.set_printoptions(threshold=6)\n",
    "#           a = np.arange(15)\n",
    "# 출력 > array([ 0,  1,  2,  3,  4,  5,  6,  7,  8,  9, 10, 11, 12, 13, 14])\n",
    "import numpy as np\n",
    "np.set_printoptions(threshold=np.inf)\n",
    "a = np.arange(15)\n",
    "print(a)"
   ]
  }
 ],
 "metadata": {
  "kernelspec": {
   "display_name": "Python 3.9.12 ('base')",
   "language": "python",
   "name": "python3"
  },
  "language_info": {
   "codemirror_mode": {
    "name": "ipython",
    "version": 3
   },
   "file_extension": ".py",
   "mimetype": "text/x-python",
   "name": "python",
   "nbconvert_exporter": "python",
   "pygments_lexer": "ipython3",
   "version": "3.9.12"
  },
  "orig_nbformat": 4,
  "vscode": {
   "interpreter": {
    "hash": "631926b96873d2007fbe5ba14401cac9ce99e5e76ded0bffc18be58f3fefa61b"
   }
  }
 },
 "nbformat": 4,
 "nbformat_minor": 2
}
