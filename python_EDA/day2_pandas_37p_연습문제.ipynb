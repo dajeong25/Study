{
 "cells": [
  {
   "cell_type": "code",
   "execution_count": 4,
   "metadata": {},
   "outputs": [],
   "source": [
    "import pandas as pd\n",
    "data = {\n",
    "    \"국어\" : [80, 90, 70, 30],\n",
    "    \"영어\" : [90, 70, 60, 40],\n",
    "    \"수학\" : [90, 60, 80, 70]\n",
    "}\n",
    "columns = [\"국어\", \"영어\", \"수학\"]\n",
    "index = ['춘향', '몽룡', '향단', '방자']\n",
    "df = pd.DataFrame(data, index=index, columns=columns)"
   ]
  },
  {
   "cell_type": "code",
   "execution_count": 5,
   "metadata": {},
   "outputs": [
    {
     "name": "stdout",
     "output_type": "stream",
     "text": [
      "춘향    90\n",
      "몽룡    60\n",
      "향단    80\n",
      "방자    70\n",
      "Name: 수학, dtype: int64\n"
     ]
    }
   ],
   "source": [
    "#1 모든 학생의 수학 점수를 시리즈로 나타낸다\n",
    "print(df['수학'])"
   ]
  },
  {
   "cell_type": "code",
   "execution_count": 6,
   "metadata": {},
   "outputs": [
    {
     "name": "stdout",
     "output_type": "stream",
     "text": [
      "    국어  영어\n",
      "춘향  80  90\n",
      "몽룡  90  70\n",
      "향단  70  60\n",
      "방자  30  40\n"
     ]
    }
   ],
   "source": [
    "# (2) 모든 학생의 국어와 영어 점수를 데이터 프레임으로 나타낸다.\n",
    "print(df[[\"국어\", \"영어\"]])"
   ]
  },
  {
   "cell_type": "code",
   "execution_count": 7,
   "metadata": {},
   "outputs": [
    {
     "name": "stdout",
     "output_type": "stream",
     "text": [
      "    국어  영어  수학         평균\n",
      "춘향  80  90  90  86.666667\n",
      "몽룡  90  70  60  73.333333\n",
      "향단  70  60  80  70.000000\n",
      "방자  30  40  70  46.666667\n"
     ]
    }
   ],
   "source": [
    "# (3) 모든 학생의 각 과목 평균 점수를 새로운 열로 추가한다.\n",
    "#meal, 축 지정\n",
    "import numpy as np\n",
    "df['평균'] = np.mean(df, axis=1)\n",
    "print(df)"
   ]
  },
  {
   "cell_type": "code",
   "execution_count": 8,
   "metadata": {},
   "outputs": [
    {
     "name": "stdout",
     "output_type": "stream",
     "text": [
      "    국어  영어  수학         평균\n",
      "춘향  80  90  90  86.666667\n",
      "몽룡  90  70  60  73.333333\n",
      "향단  70  60  80  70.000000\n",
      "방자  30  80  70  56.666667\n"
     ]
    }
   ],
   "source": [
    "# (4) 방자의 영어 점수를 80점으로 수정하고 평균 점수도 다시 계산한다.\n",
    "import numpy as np\n",
    "df.loc['방자', '영어'] = 80\n",
    "df['평균'] = np.mean(df, axis=1)\n",
    "print(df)"
   ]
  },
  {
   "cell_type": "code",
   "execution_count": 9,
   "metadata": {},
   "outputs": [
    {
     "name": "stdout",
     "output_type": "stream",
     "text": [
      "    국어  영어  수학         평균\n",
      "춘향  80  90  90  86.666667 <class 'pandas.core.frame.DataFrame'>\n"
     ]
    }
   ],
   "source": [
    "# (5) 춘향의 점수를 데이터프레임으로 나타낸다.\n",
    "a = df['춘향':'춘향']\n",
    "print(a, type(a))"
   ]
  },
  {
   "cell_type": "code",
   "execution_count": 10,
   "metadata": {},
   "outputs": [
    {
     "name": "stdout",
     "output_type": "stream",
     "text": [
      "<class 'pandas.core.frame.DataFrame'>\n",
      "    국어  영어  수학         평균\n",
      "춘향  80  90  90  86.666667\n",
      "<class 'pandas.core.frame.DataFrame'>\n",
      "    국어  영어  수학         평균\n",
      "춘향  80  90  90  86.666667\n"
     ]
    }
   ],
   "source": [
    "#또 다른 풀이\n",
    "s3 = df[:1] \n",
    "print(type(s3))\n",
    "print(s3)\n",
    "##\n",
    "s3 = df[:\"춘향\"]\n",
    "print(type(s3))\n",
    "print(s3)"
   ]
  },
  {
   "cell_type": "code",
   "execution_count": 11,
   "metadata": {},
   "outputs": [
    {
     "name": "stdout",
     "output_type": "stream",
     "text": [
      "국어    70.0\n",
      "영어    60.0\n",
      "수학    80.0\n",
      "평균    70.0\n",
      "Name: 향단, dtype: float64 <class 'pandas.core.series.Series'>\n"
     ]
    }
   ],
   "source": [
    "# (6) 향단의 점수를 시리즈로 나타낸다.\n",
    "a = df.loc['향단']\n",
    "print(a, type(a))"
   ]
  },
  {
   "cell_type": "code",
   "execution_count": 12,
   "metadata": {},
   "outputs": [
    {
     "name": "stdout",
     "output_type": "stream",
     "text": [
      "<class 'pandas.core.series.Series'> 0        국어  영어  수학    평균\n",
      "향단  70  60  80  70.0\n",
      "dtype: object\n"
     ]
    }
   ],
   "source": [
    "# 또다른 풀이\n",
    "s2 = pd.Series([df[2:3]])\n",
    "print(type(s2), s2)"
   ]
  }
 ],
 "metadata": {
  "kernelspec": {
   "display_name": "Python 3.10.5 64-bit",
   "language": "python",
   "name": "python3"
  },
  "language_info": {
   "codemirror_mode": {
    "name": "ipython",
    "version": 3
   },
   "file_extension": ".py",
   "mimetype": "text/x-python",
   "name": "python",
   "nbconvert_exporter": "python",
   "pygments_lexer": "ipython3",
   "version": "3.10.5"
  },
  "orig_nbformat": 4,
  "vscode": {
   "interpreter": {
    "hash": "fb4569285eef3a3450cb62085a5b1e0da4bce0af555edc33dcf29baf3acc1368"
   }
  }
 },
 "nbformat": 4,
 "nbformat_minor": 2
}
