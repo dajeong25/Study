{
 "cells": [
  {
   "attachments": {},
   "cell_type": "markdown",
   "metadata": {},
   "source": [
    "- 저서 : 파이썬 생활밀착형 프로젝트 / 백견 불여일타"
   ]
  },
  {
   "attachments": {},
   "cell_type": "markdown",
   "metadata": {},
   "source": [
    "# 2장. 나에게 카카오톡 메시지 보내기"
   ]
  },
  {
   "attachments": {},
   "cell_type": "markdown",
   "metadata": {},
   "source": [
    "1. 접근 권한 설정하기\n",
    "2. api 사용 권한 받기\n",
    "    1. 인증코드 요청 ->\n",
    "    2. 인증코드 전달 <-\n",
    "    3. 인증코드로 토큰 요청 ->\n",
    "    4. 토큰전달 <-\n",
    "    5. 토큰으로 api 호출 ->\n",
    "    6. 토큰 유효성 확인 >> 응답전달 <-\n",
    ">> 완전 처음이라면 카카오톡 로그인하고 사용동의 + 카카오+open 활용동의 + code를 알 수 있음"
   ]
  },
  {
   "attachments": {},
   "cell_type": "markdown",
   "metadata": {},
   "source": [
    "https://localhost.com/?code=hrqkQaccTMHTH9HBvDCWsr4qjK1FYH6-C0ve3IRaywtXpUn__un_z3JYANRso0u1jcgMgAoqJQ8AAAGIaef4Sg"
   ]
  },
  {
   "cell_type": "code",
   "execution_count": null,
   "metadata": {},
   "outputs": [],
   "source": [
    "import requests\n",
    "import pprint\n",
    "\n",
    "url = \"https://kauth.kakao.com/oauth/token\"\n",
    "\n",
    "data = {\n",
    "    \"grant_type\" : \"authorization_code\",\n",
    "    \"client_id\" : \"\",\n",
    "    \"redirect_uri\" : \"https://localhost.com\",\n",
    "    \"code\" : \"\"\n",
    "}\n",
    "\n",
    "response = requests.post(url, data=data)\n",
    "\n",
    "# 요청에 실패했다면,\n",
    "if response.status_code != 200:\n",
    "    print(\"error! because \", response.json())\n",
    "else: # 성공했다면,\n",
    "    tokens = response.json()\n",
    "    pprint.pprint(tokens)"
   ]
  },
  {
   "attachments": {},
   "cell_type": "markdown",
   "metadata": {},
   "source": [
    "3. token 관리"
   ]
  },
  {
   "cell_type": "code",
   "execution_count": null,
   "metadata": {},
   "outputs": [],
   "source": [
    "import json\n",
    "import requests\n",
    "import datetime\n",
    "import os\n",
    "\n",
    "# 카카오 토큰을 저장할 파일명\n",
    "KAKAO_TOKEN_FILENAME = \"kakao_message/kakao_token.json\"\n",
    "\n",
    "# 저장하는 함수\n",
    "def save_tokens(filename, tokens):\n",
    "    with open(filename, \"w\") as fp:\n",
    "        json.dump(tokens, fp)\n",
    "\n",
    "# 읽어오는 함수\n",
    "def load_tokens(filename):\n",
    "    with open(filename) as fp:\n",
    "        tokens = json.load(fp)\n",
    "\n",
    "    return tokens\n",
    "\n",
    "# refresh_token으로 access_token 갱신하는 함수\n",
    "def update_tokens(app_key, filename) :\n",
    "    tokens = load_tokens(filename)\n",
    "\n",
    "    url = \"https://kauth.kakao.com/oauth/token\"\n",
    "    data = {\n",
    "        \"grant_type\" : \"refresh_token\",\n",
    "        \"client_id\" : app_key,\n",
    "        \"refresh_token\" : tokens['refresh_token']\n",
    "    }\n",
    "    response = requests.post(url, data=data)\n",
    "\n",
    "    # 요청에 실패했다면,\n",
    "    if response.status_code != 200:\n",
    "        print(\"error! because \", response.json())\n",
    "        tokens = None\n",
    "    else: # 성공했다면,\n",
    "        print(response.json())\n",
    "        # 기존 파일 백업\n",
    "        now = datetime.datetime.now().strftime(\"%Y%m%d_%H%M%S\")\n",
    "        backup_filename = filename+\".\"+ now\n",
    "        os.rename(filename, backup_filename)\n",
    "        # 갱신된 토큰 저장\n",
    "        tokens['access_token'] = response.json()['access_token']\n",
    "        save_tokens(filename, tokens)\n",
    "        \n",
    "    return tokens\n",
    "\n",
    "# 토큰 저장\n",
    "save_tokens(KAKAO_TOKEN_FILENAME, tokens)\n",
    "\n",
    "# 토큰 업데이트 -> 토큰 저장 필수!\n",
    "# KAKAO_APP_KEY = \"\" # REST_API 앱키\n",
    "# tokens = update_tokens(KAKAO_APP_KEY, KAKAO_TOKEN_FILENAME)\n",
    "# save_tokens(KAKAO_TOKEN_FILENAME, tokens)"
   ]
  },
  {
   "attachments": {},
   "cell_type": "markdown",
   "metadata": {},
   "source": [
    "## 사전 지식\n",
    "1. 활용할 서비스 확인 : https://developers.kakao.com/docs/latest/ko/message/common#kakaotalk\n",
    "2. 메시지 종류 : https://developers.kakao.com/docs/latest/ko/message/message-template#type\n",
    "3. 텍스트와 리스트 메시지 템플릿 확인\n",
    "    : 텍스트 https://developers.kakao.com/docs/latest/ko/message/message-template#text\n",
    "        🅐 텍스트: 최대 200자 표시\n",
    "        🅑 버튼: 최대 2개 표시, 버튼명 8자 이하 권장\n",
    "    : 리스트 https://developers.kakao.com/docs/latest/ko/message/message-template#list\n",
    "        🅐 헤더\n",
    "        🅑 아이템 리스트: 기본 템플릿의 경우 최대 3개, 사용자 정의 템플릿의 경우 최대 5개 목록 표시\n",
    "        🅒 제목/설명: 최대 3줄 표시 (제목 2줄, 설명 1줄)\n",
    "        🅓 이미지: 목록별 하나의 이미지 표시, 최소 200x200 픽셀 이상, 2MB이하\n",
    "        🅔 버튼: 최대 2개 표시, 버튼명 8자 이하 권장"
   ]
  },
  {
   "attachments": {},
   "cell_type": "markdown",
   "metadata": {},
   "source": [
    "> 메시지를 보낼 수 있는 친구 옵션\n",
    "- 사업자 정보 등록을 하고 검수 단계를 거친 사용자\n",
    "- 카카오 개발자 사이트에서 [내어플리케이션] -> 설정 -> 팀 관리에서 추가한 카카오 계정의 친구"
   ]
  },
  {
   "attachments": {},
   "cell_type": "markdown",
   "metadata": {},
   "source": [
    "## 구현\n",
    "1. 텍스트 메시지 템플릿을 사용하여 카카오톡 메시지 보내기"
   ]
  },
  {
   "cell_type": "code",
   "execution_count": 4,
   "metadata": {},
   "outputs": [
    {
     "name": "stdout",
     "output_type": "stream",
     "text": [
      "200\n",
      "메시지를 성공적으로 보냈습니다.\n"
     ]
    }
   ],
   "source": [
    "import json\n",
    "import requests\n",
    "\n",
    "# 저장된 토큰 정보를 읽어 옴\n",
    "tokens = load_tokens(KAKAO_TOKEN_FILENAME)\n",
    "\n",
    "# 텍스트 메시지 url\n",
    "url = \"https://kapi.kakao.com/v2/api/talk/memo/default/send\"\n",
    "\n",
    "# request parameter 설정\n",
    "headers = {\n",
    "    \"Authorization\": \"Bearer \" + tokens['access_token']\n",
    "}\n",
    "\n",
    "\n",
    "data = {\n",
    "    \"template_object\" : json.dumps({ \"object_type\" : \"text\",\n",
    "                                     \"text\" : \"Hello, world!\",\n",
    "                                     \"link\" : {\n",
    "                                         \"web_url\" : \"www.naver.com\"\n",
    "                                     }\n",
    "                                     })\n",
    "}\n",
    "\n",
    "# 나에게 카카오톡 메시지 보내기 요청 (text)\n",
    "response = requests.post(url, headers=headers, data=data)\n",
    "print(response.status_code)\n",
    "\n",
    "# 요청에 실패했다면,\n",
    "if response.status_code != 200:\n",
    "    print(\"error! because \", response.json())\n",
    "else: # 성공했다면,\n",
    "    print('메시지를 성공적으로 보냈습니다.')"
   ]
  },
  {
   "attachments": {},
   "cell_type": "markdown",
   "metadata": {},
   "source": [
    "2. 리스트 메시지 템플릿을 사용하여 카카오촉 메시지 보내기"
   ]
  },
  {
   "cell_type": "code",
   "execution_count": 5,
   "metadata": {},
   "outputs": [
    {
     "name": "stdout",
     "output_type": "stream",
     "text": [
      "200\n",
      "메시지를 성공적으로 보냈습니다.\n"
     ]
    }
   ],
   "source": [
    "import json\n",
    "import requests\n",
    "\n",
    "# 저장된 토큰 정보를 읽어옴\n",
    "tokens = load_tokens(KAKAO_TOKEN_FILENAME)\n",
    "\n",
    "# 리스트 메시지 url\n",
    "url = \"https://kapi.kakao.com/v2/api/talk/memo/default/send\"\n",
    "\n",
    "# request parameter 설정\n",
    "headers = {\n",
    "    \"Authorization\": \"Bearer \" + tokens['access_token']\n",
    "}\n",
    "\n",
    "template = {\n",
    "    \"object_type\" : \"list\",\n",
    "    \"header_title\" : \"초밥 사진\",\n",
    "    \"header_link\" : {\n",
    "        \"web_url\" : \"www.naver.com\",\n",
    "        \"mobile_web_url\" : \"www.naver.com\"\n",
    "    },\n",
    "    \"contents\" : [\n",
    "        {\n",
    "            \"title\" : \"1. 광어초밥\",\n",
    "            \"description\" : \"광어는 맛있다\",\n",
    "            \"image_url\" : \"https://search1.kakaocdn.net/argon/0x200_85_hr/8x5qcdbcQwi\",\n",
    "            \"image_width\" : 50, \"image_height\" : 50,\n",
    "            \"link\" : {\n",
    "                \"web_url\" : \"www.naver.com\",\n",
    "                \"mobile_web_url\" : \"www.naver.com\"\n",
    "            }\n",
    "        },\n",
    "        {\n",
    "            \"title\" : \"2. 참치초밥\",\n",
    "            \"description\" : \"참치는 맛있다\",\n",
    "            \"image_url\" : \"https://search2.kakaocdn.net/argon/0x200_85_hr/IjIToH1S7J1\",\n",
    "            \"image_width\" : 50, \"image_height\" : 50,\n",
    "            \"link\" : {\n",
    "                \"web_url\" : \"www.naver.com\",\n",
    "                \"mobile_web_url\" : \"www.naver.com\"\n",
    "            }\n",
    "        }\n",
    "\n",
    "    ],\n",
    "    \"buttons\" : [\n",
    "        {\n",
    "            \"title\" : \"웹으로 이동\",\n",
    "            \"link\" : {\n",
    "                \"web_url\" : \"www.naver.com\",\n",
    "                \"mobile_web_url\" : \"www.naver.com\"\n",
    "            }\n",
    "        }\n",
    "    ]\n",
    "\n",
    "}\n",
    "\n",
    "data = {\n",
    "    \"template_object\" : json.dumps(template)\n",
    "}\n",
    "\n",
    "# 나에게 카카오톡 메시지 보내기 요청(list)\n",
    "res = requests.post(url, data=data, headers=headers)\n",
    "print(response.status_code)\n",
    "\n",
    "# 요청에 실패했다면,\n",
    "if response.status_code != 200:\n",
    "    print(\"error! because \", response.json())\n",
    "else: # 성공했다면,\n",
    "    print('메시지를 성공적으로 보냈습니다.')"
   ]
  },
  {
   "attachments": {},
   "cell_type": "markdown",
   "metadata": {},
   "source": [
    "## py파일로 함수 저장 후 모듈을 불러서 사용하기"
   ]
  },
  {
   "cell_type": "code",
   "execution_count": null,
   "metadata": {},
   "outputs": [],
   "source": [
    "import kakao_utils\n",
    "\n",
    "KAKAO_TOKEN_FILENAME = \"kakao_message/kakao_token.json\"\n",
    "KAKAO_APP_KEY = \"\" #<REST_API 앱 키를 입력하세요>\n",
    "# 토큰 업데이트하기\n",
    "tokens = kakao_utils.update_tokens(KAKAO_APP_KEY, KAKAO_TOKEN_FILENAME)\n",
    "# 업데이트한 토큰 저장하기\n",
    "save_tokens(KAKAO_TOKEN_FILENAME, tokens)\n",
    "\n",
    "# 텍스트 템플릿 형식 만들기\n",
    "template = {\n",
    "    \"object_type\": \"text\",\n",
    "    \"text\": \"Hello, world!\",\n",
    "    \"link\": {\n",
    "        \"web_url\": \"www.naver.com\"\n",
    "    },\n",
    "}\n",
    "\n",
    "# 카카오톡 메시지 보내기\n",
    "res = kakao_utils.send_message(KAKAO_TOKEN_FILENAME, template)\n",
    "# 요청에 실패했다면,\n",
    "if res.status_code != 200:\n",
    "    print(\"error! because \", response.json())\n",
    "else: # 성공했다면,\n",
    "    print('메시지를 성공적으로 보냈습니다.')"
   ]
  },
  {
   "attachments": {},
   "cell_type": "markdown",
   "metadata": {},
   "source": [
    "> 코드 구현하면서 더 간결하고 재사용성이 뛰어난 함수와 모듈을 만드는 것이 best\n",
    "\n",
    "중요정보는 별도 보관해서 사용하는 함수 구현 필수"
   ]
  },
  {
   "cell_type": "code",
   "execution_count": null,
   "metadata": {},
   "outputs": [],
   "source": []
  }
 ],
 "metadata": {
  "kernelspec": {
   "display_name": "base",
   "language": "python",
   "name": "python3"
  },
  "language_info": {
   "codemirror_mode": {
    "name": "ipython",
    "version": 3
   },
   "file_extension": ".py",
   "mimetype": "text/x-python",
   "name": "python",
   "nbconvert_exporter": "python",
   "pygments_lexer": "ipython3",
   "version": "3.9.12"
  },
  "orig_nbformat": 4
 },
 "nbformat": 4,
 "nbformat_minor": 2
}
