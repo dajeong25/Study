{
 "cells": [
  {
   "attachments": {},
   "cell_type": "markdown",
   "metadata": {},
   "source": [
    "> 출처 : https://www.datamanim.com/dataset/99_pandas/pandasMain.html"
   ]
  },
  {
   "attachments": {},
   "cell_type": "markdown",
   "metadata": {},
   "source": [
    "# 01 Getting & Knowing Data\n",
    "\n",
    "> 롤 랭킹 데이터 : https://www.kaggle.com/datasnaek/league-of-legends <br>\n",
    "> DataUrl = ‘https://raw.githubusercontent.com/Datamanim/pandas/main/lol.csv’\n",
    "\n",
    "1. 데이터를 로드하라. 데이터는 \\t을 기준으로 구분되어있다."
   ]
  },
  {
   "cell_type": "code",
   "execution_count": 2,
   "metadata": {},
   "outputs": [],
   "source": [
    "import pandas as pd"
   ]
  },
  {
   "cell_type": "code",
   "execution_count": 5,
   "metadata": {},
   "outputs": [
    {
     "name": "stdout",
     "output_type": "stream",
     "text": [
      "<class 'pandas.core.frame.DataFrame'>\n",
      "RangeIndex: 51490 entries, 0 to 51489\n",
      "Data columns (total 61 columns):\n",
      " #   Column              Non-Null Count  Dtype\n",
      "---  ------              --------------  -----\n",
      " 0   gameId              51490 non-null  int64\n",
      " 1   creationTime        51490 non-null  int64\n",
      " 2   gameDuration        51490 non-null  int64\n",
      " 3   seasonId            51490 non-null  int64\n",
      " 4   winner              51490 non-null  int64\n",
      " 5   firstBlood          51490 non-null  int64\n",
      " 6   firstTower          51490 non-null  int64\n",
      " 7   firstInhibitor      51490 non-null  int64\n",
      " 8   firstBaron          51490 non-null  int64\n",
      " 9   firstDragon         51490 non-null  int64\n",
      " 10  firstRiftHerald     51490 non-null  int64\n",
      " 11  t1_champ1id         51490 non-null  int64\n",
      " 12  t1_champ1_sum1      51490 non-null  int64\n",
      " 13  t1_champ1_sum2      51490 non-null  int64\n",
      " 14  t1_champ2id         51490 non-null  int64\n",
      " 15  t1_champ2_sum1      51490 non-null  int64\n",
      " 16  t1_champ2_sum2      51490 non-null  int64\n",
      " 17  t1_champ3id         51490 non-null  int64\n",
      " 18  t1_champ3_sum1      51490 non-null  int64\n",
      " 19  t1_champ3_sum2      51490 non-null  int64\n",
      " 20  t1_champ4id         51490 non-null  int64\n",
      " 21  t1_champ4_sum1      51490 non-null  int64\n",
      " 22  t1_champ4_sum2      51490 non-null  int64\n",
      " 23  t1_champ5id         51490 non-null  int64\n",
      " 24  t1_champ5_sum1      51490 non-null  int64\n",
      " 25  t1_champ5_sum2      51490 non-null  int64\n",
      " 26  t1_towerKills       51490 non-null  int64\n",
      " 27  t1_inhibitorKills   51490 non-null  int64\n",
      " 28  t1_baronKills       51490 non-null  int64\n",
      " 29  t1_dragonKills      51490 non-null  int64\n",
      " 30  t1_riftHeraldKills  51490 non-null  int64\n",
      " 31  t1_ban1             51490 non-null  int64\n",
      " 32  t1_ban2             51490 non-null  int64\n",
      " 33  t1_ban3             51490 non-null  int64\n",
      " 34  t1_ban4             51490 non-null  int64\n",
      " 35  t1_ban5             51490 non-null  int64\n",
      " 36  t2_champ1id         51490 non-null  int64\n",
      " 37  t2_champ1_sum1      51490 non-null  int64\n",
      " 38  t2_champ1_sum2      51490 non-null  int64\n",
      " 39  t2_champ2id         51490 non-null  int64\n",
      " 40  t2_champ2_sum1      51490 non-null  int64\n",
      " 41  t2_champ2_sum2      51490 non-null  int64\n",
      " 42  t2_champ3id         51490 non-null  int64\n",
      " 43  t2_champ3_sum1      51490 non-null  int64\n",
      " 44  t2_champ3_sum2      51490 non-null  int64\n",
      " 45  t2_champ4id         51490 non-null  int64\n",
      " 46  t2_champ4_sum1      51490 non-null  int64\n",
      " 47  t2_champ4_sum2      51490 non-null  int64\n",
      " 48  t2_champ5id         51490 non-null  int64\n",
      " 49  t2_champ5_sum1      51490 non-null  int64\n",
      " 50  t2_champ5_sum2      51490 non-null  int64\n",
      " 51  t2_towerKills       51490 non-null  int64\n",
      " 52  t2_inhibitorKills   51490 non-null  int64\n",
      " 53  t2_baronKills       51490 non-null  int64\n",
      " 54  t2_dragonKills      51490 non-null  int64\n",
      " 55  t2_riftHeraldKills  51490 non-null  int64\n",
      " 56  t2_ban1             51490 non-null  int64\n",
      " 57  t2_ban2             51490 non-null  int64\n",
      " 58  t2_ban3             51490 non-null  int64\n",
      " 59  t2_ban4             51490 non-null  int64\n",
      " 60  t2_ban5             51490 non-null  int64\n",
      "dtypes: int64(61)\n",
      "memory usage: 24.0 MB\n"
     ]
    }
   ],
   "source": [
    "df = pd.read_csv('https://raw.githubusercontent.com/Datamanim/pandas/main/lol.csv', sep='\\t')\n",
    "df.info()"
   ]
  },
  {
   "attachments": {},
   "cell_type": "markdown",
   "metadata": {},
   "source": [
    "2. 데이터의 상위 5개 행을 출력하라"
   ]
  },
  {
   "cell_type": "code",
   "execution_count": 6,
   "metadata": {},
   "outputs": [
    {
     "data": {
      "text/html": [
       "<div>\n",
       "<style scoped>\n",
       "    .dataframe tbody tr th:only-of-type {\n",
       "        vertical-align: middle;\n",
       "    }\n",
       "\n",
       "    .dataframe tbody tr th {\n",
       "        vertical-align: top;\n",
       "    }\n",
       "\n",
       "    .dataframe thead th {\n",
       "        text-align: right;\n",
       "    }\n",
       "</style>\n",
       "<table border=\"1\" class=\"dataframe\">\n",
       "  <thead>\n",
       "    <tr style=\"text-align: right;\">\n",
       "      <th></th>\n",
       "      <th>gameId</th>\n",
       "      <th>creationTime</th>\n",
       "      <th>gameDuration</th>\n",
       "      <th>seasonId</th>\n",
       "      <th>winner</th>\n",
       "      <th>firstBlood</th>\n",
       "      <th>firstTower</th>\n",
       "      <th>firstInhibitor</th>\n",
       "      <th>firstBaron</th>\n",
       "      <th>firstDragon</th>\n",
       "      <th>...</th>\n",
       "      <th>t2_towerKills</th>\n",
       "      <th>t2_inhibitorKills</th>\n",
       "      <th>t2_baronKills</th>\n",
       "      <th>t2_dragonKills</th>\n",
       "      <th>t2_riftHeraldKills</th>\n",
       "      <th>t2_ban1</th>\n",
       "      <th>t2_ban2</th>\n",
       "      <th>t2_ban3</th>\n",
       "      <th>t2_ban4</th>\n",
       "      <th>t2_ban5</th>\n",
       "    </tr>\n",
       "  </thead>\n",
       "  <tbody>\n",
       "    <tr>\n",
       "      <th>0</th>\n",
       "      <td>3326086514</td>\n",
       "      <td>1504279457970</td>\n",
       "      <td>1949</td>\n",
       "      <td>9</td>\n",
       "      <td>1</td>\n",
       "      <td>2</td>\n",
       "      <td>1</td>\n",
       "      <td>1</td>\n",
       "      <td>1</td>\n",
       "      <td>1</td>\n",
       "      <td>...</td>\n",
       "      <td>5</td>\n",
       "      <td>0</td>\n",
       "      <td>0</td>\n",
       "      <td>1</td>\n",
       "      <td>1</td>\n",
       "      <td>114</td>\n",
       "      <td>67</td>\n",
       "      <td>43</td>\n",
       "      <td>16</td>\n",
       "      <td>51</td>\n",
       "    </tr>\n",
       "    <tr>\n",
       "      <th>1</th>\n",
       "      <td>3229566029</td>\n",
       "      <td>1497848803862</td>\n",
       "      <td>1851</td>\n",
       "      <td>9</td>\n",
       "      <td>1</td>\n",
       "      <td>1</td>\n",
       "      <td>1</td>\n",
       "      <td>1</td>\n",
       "      <td>0</td>\n",
       "      <td>1</td>\n",
       "      <td>...</td>\n",
       "      <td>2</td>\n",
       "      <td>0</td>\n",
       "      <td>0</td>\n",
       "      <td>0</td>\n",
       "      <td>0</td>\n",
       "      <td>11</td>\n",
       "      <td>67</td>\n",
       "      <td>238</td>\n",
       "      <td>51</td>\n",
       "      <td>420</td>\n",
       "    </tr>\n",
       "    <tr>\n",
       "      <th>2</th>\n",
       "      <td>3327363504</td>\n",
       "      <td>1504360103310</td>\n",
       "      <td>1493</td>\n",
       "      <td>9</td>\n",
       "      <td>1</td>\n",
       "      <td>2</td>\n",
       "      <td>1</td>\n",
       "      <td>1</td>\n",
       "      <td>1</td>\n",
       "      <td>2</td>\n",
       "      <td>...</td>\n",
       "      <td>2</td>\n",
       "      <td>0</td>\n",
       "      <td>0</td>\n",
       "      <td>1</td>\n",
       "      <td>0</td>\n",
       "      <td>157</td>\n",
       "      <td>238</td>\n",
       "      <td>121</td>\n",
       "      <td>57</td>\n",
       "      <td>28</td>\n",
       "    </tr>\n",
       "    <tr>\n",
       "      <th>3</th>\n",
       "      <td>3326856598</td>\n",
       "      <td>1504348503996</td>\n",
       "      <td>1758</td>\n",
       "      <td>9</td>\n",
       "      <td>1</td>\n",
       "      <td>1</td>\n",
       "      <td>1</td>\n",
       "      <td>1</td>\n",
       "      <td>1</td>\n",
       "      <td>1</td>\n",
       "      <td>...</td>\n",
       "      <td>0</td>\n",
       "      <td>0</td>\n",
       "      <td>0</td>\n",
       "      <td>0</td>\n",
       "      <td>0</td>\n",
       "      <td>164</td>\n",
       "      <td>18</td>\n",
       "      <td>141</td>\n",
       "      <td>40</td>\n",
       "      <td>51</td>\n",
       "    </tr>\n",
       "    <tr>\n",
       "      <th>4</th>\n",
       "      <td>3330080762</td>\n",
       "      <td>1504554410899</td>\n",
       "      <td>2094</td>\n",
       "      <td>9</td>\n",
       "      <td>1</td>\n",
       "      <td>2</td>\n",
       "      <td>1</td>\n",
       "      <td>1</td>\n",
       "      <td>1</td>\n",
       "      <td>1</td>\n",
       "      <td>...</td>\n",
       "      <td>3</td>\n",
       "      <td>0</td>\n",
       "      <td>0</td>\n",
       "      <td>1</td>\n",
       "      <td>0</td>\n",
       "      <td>86</td>\n",
       "      <td>11</td>\n",
       "      <td>201</td>\n",
       "      <td>122</td>\n",
       "      <td>18</td>\n",
       "    </tr>\n",
       "  </tbody>\n",
       "</table>\n",
       "<p>5 rows × 61 columns</p>\n",
       "</div>"
      ],
      "text/plain": [
       "       gameId   creationTime  gameDuration  seasonId  winner  firstBlood  \\\n",
       "0  3326086514  1504279457970          1949         9       1           2   \n",
       "1  3229566029  1497848803862          1851         9       1           1   \n",
       "2  3327363504  1504360103310          1493         9       1           2   \n",
       "3  3326856598  1504348503996          1758         9       1           1   \n",
       "4  3330080762  1504554410899          2094         9       1           2   \n",
       "\n",
       "   firstTower  firstInhibitor  firstBaron  firstDragon  ...  t2_towerKills  \\\n",
       "0           1               1           1            1  ...              5   \n",
       "1           1               1           0            1  ...              2   \n",
       "2           1               1           1            2  ...              2   \n",
       "3           1               1           1            1  ...              0   \n",
       "4           1               1           1            1  ...              3   \n",
       "\n",
       "   t2_inhibitorKills  t2_baronKills  t2_dragonKills  t2_riftHeraldKills  \\\n",
       "0                  0              0               1                   1   \n",
       "1                  0              0               0                   0   \n",
       "2                  0              0               1                   0   \n",
       "3                  0              0               0                   0   \n",
       "4                  0              0               1                   0   \n",
       "\n",
       "   t2_ban1  t2_ban2  t2_ban3  t2_ban4  t2_ban5  \n",
       "0      114       67       43       16       51  \n",
       "1       11       67      238       51      420  \n",
       "2      157      238      121       57       28  \n",
       "3      164       18      141       40       51  \n",
       "4       86       11      201      122       18  \n",
       "\n",
       "[5 rows x 61 columns]"
      ]
     },
     "execution_count": 6,
     "metadata": {},
     "output_type": "execute_result"
    }
   ],
   "source": [
    "df.head(5)"
   ]
  },
  {
   "attachments": {},
   "cell_type": "markdown",
   "metadata": {},
   "source": [
    "3. 데이터의 행과 열의 갯수를 파악하라"
   ]
  },
  {
   "cell_type": "code",
   "execution_count": 12,
   "metadata": {},
   "outputs": [
    {
     "name": "stdout",
     "output_type": "stream",
     "text": [
      "(51490, 61)\n",
      "행 = 51490\n",
      "열 = 61\n"
     ]
    }
   ],
   "source": [
    "print(df.shape)\n",
    "print('행 =', df.shape[0])\n",
    "print('열 =', df.shape[1])"
   ]
  },
  {
   "attachments": {},
   "cell_type": "markdown",
   "metadata": {},
   "source": [
    "4. 전체 컬럼을 출력하라"
   ]
  },
  {
   "cell_type": "code",
   "execution_count": 13,
   "metadata": {},
   "outputs": [
    {
     "data": {
      "text/plain": [
       "Index(['gameId', 'creationTime', 'gameDuration', 'seasonId', 'winner',\n",
       "       'firstBlood', 'firstTower', 'firstInhibitor', 'firstBaron',\n",
       "       'firstDragon', 'firstRiftHerald', 't1_champ1id', 't1_champ1_sum1',\n",
       "       't1_champ1_sum2', 't1_champ2id', 't1_champ2_sum1', 't1_champ2_sum2',\n",
       "       't1_champ3id', 't1_champ3_sum1', 't1_champ3_sum2', 't1_champ4id',\n",
       "       't1_champ4_sum1', 't1_champ4_sum2', 't1_champ5id', 't1_champ5_sum1',\n",
       "       't1_champ5_sum2', 't1_towerKills', 't1_inhibitorKills', 't1_baronKills',\n",
       "       't1_dragonKills', 't1_riftHeraldKills', 't1_ban1', 't1_ban2', 't1_ban3',\n",
       "       't1_ban4', 't1_ban5', 't2_champ1id', 't2_champ1_sum1', 't2_champ1_sum2',\n",
       "       't2_champ2id', 't2_champ2_sum1', 't2_champ2_sum2', 't2_champ3id',\n",
       "       't2_champ3_sum1', 't2_champ3_sum2', 't2_champ4id', 't2_champ4_sum1',\n",
       "       't2_champ4_sum2', 't2_champ5id', 't2_champ5_sum1', 't2_champ5_sum2',\n",
       "       't2_towerKills', 't2_inhibitorKills', 't2_baronKills', 't2_dragonKills',\n",
       "       't2_riftHeraldKills', 't2_ban1', 't2_ban2', 't2_ban3', 't2_ban4',\n",
       "       't2_ban5'],\n",
       "      dtype='object')"
      ]
     },
     "execution_count": 13,
     "metadata": {},
     "output_type": "execute_result"
    }
   ],
   "source": [
    "df.columns"
   ]
  },
  {
   "attachments": {},
   "cell_type": "markdown",
   "metadata": {},
   "source": [
    "5. 6번째 컬럼명을 출력하라"
   ]
  },
  {
   "cell_type": "code",
   "execution_count": 14,
   "metadata": {},
   "outputs": [
    {
     "data": {
      "text/plain": [
       "'firstBlood'"
      ]
     },
     "execution_count": 14,
     "metadata": {},
     "output_type": "execute_result"
    }
   ],
   "source": [
    "df.columns[5]"
   ]
  },
  {
   "attachments": {},
   "cell_type": "markdown",
   "metadata": {},
   "source": [
    "6. 6번째 컬럼의 데이터 타입을 확인하라"
   ]
  },
  {
   "cell_type": "code",
   "execution_count": 18,
   "metadata": {},
   "outputs": [
    {
     "data": {
      "text/plain": [
       "dtype('int64')"
      ]
     },
     "execution_count": 18,
     "metadata": {},
     "output_type": "execute_result"
    }
   ],
   "source": [
    "six = df.columns[5]\n",
    "df[six].dtype"
   ]
  },
  {
   "attachments": {},
   "cell_type": "markdown",
   "metadata": {},
   "source": [
    "7. 데이터셋의 인덱스 구성은 어떤가"
   ]
  },
  {
   "cell_type": "code",
   "execution_count": 19,
   "metadata": {},
   "outputs": [
    {
     "data": {
      "text/plain": [
       "RangeIndex(start=0, stop=51490, step=1)"
      ]
     },
     "execution_count": 19,
     "metadata": {},
     "output_type": "execute_result"
    }
   ],
   "source": [
    "df.index"
   ]
  },
  {
   "attachments": {},
   "cell_type": "markdown",
   "metadata": {},
   "source": [
    "8. 6번째 컬럼의 3번째 값은 무엇인가?"
   ]
  },
  {
   "cell_type": "code",
   "execution_count": 20,
   "metadata": {},
   "outputs": [
    {
     "data": {
      "text/plain": [
       "2"
      ]
     },
     "execution_count": 20,
     "metadata": {},
     "output_type": "execute_result"
    }
   ],
   "source": [
    "df[six][2]"
   ]
  },
  {
   "attachments": {},
   "cell_type": "markdown",
   "metadata": {},
   "source": [
    "# 제주 날씨,인구에 따른 교통량데이터\n",
    "> 출처 : 제주 데이터 허브 DataUrl = ‘https://raw.githubusercontent.com/Datamanim/pandas/main/Jeju.csv’\n",
    "\n",
    "9. 데이터를 로드하라. 컬럼이 한글이기에 적절한 처리해줘야함"
   ]
  },
  {
   "cell_type": "code",
   "execution_count": 24,
   "metadata": {},
   "outputs": [
    {
     "name": "stdout",
     "output_type": "stream",
     "text": [
      "<class 'pandas.core.frame.DataFrame'>\n",
      "RangeIndex: 51490 entries, 0 to 51489\n",
      "Data columns (total 61 columns):\n",
      " #   Column              Non-Null Count  Dtype\n",
      "---  ------              --------------  -----\n",
      " 0   gameId              51490 non-null  int64\n",
      " 1   creationTime        51490 non-null  int64\n",
      " 2   gameDuration        51490 non-null  int64\n",
      " 3   seasonId            51490 non-null  int64\n",
      " 4   winner              51490 non-null  int64\n",
      " 5   firstBlood          51490 non-null  int64\n",
      " 6   firstTower          51490 non-null  int64\n",
      " 7   firstInhibitor      51490 non-null  int64\n",
      " 8   firstBaron          51490 non-null  int64\n",
      " 9   firstDragon         51490 non-null  int64\n",
      " 10  firstRiftHerald     51490 non-null  int64\n",
      " 11  t1_champ1id         51490 non-null  int64\n",
      " 12  t1_champ1_sum1      51490 non-null  int64\n",
      " 13  t1_champ1_sum2      51490 non-null  int64\n",
      " 14  t1_champ2id         51490 non-null  int64\n",
      " 15  t1_champ2_sum1      51490 non-null  int64\n",
      " 16  t1_champ2_sum2      51490 non-null  int64\n",
      " 17  t1_champ3id         51490 non-null  int64\n",
      " 18  t1_champ3_sum1      51490 non-null  int64\n",
      " 19  t1_champ3_sum2      51490 non-null  int64\n",
      " 20  t1_champ4id         51490 non-null  int64\n",
      " 21  t1_champ4_sum1      51490 non-null  int64\n",
      " 22  t1_champ4_sum2      51490 non-null  int64\n",
      " 23  t1_champ5id         51490 non-null  int64\n",
      " 24  t1_champ5_sum1      51490 non-null  int64\n",
      " 25  t1_champ5_sum2      51490 non-null  int64\n",
      " 26  t1_towerKills       51490 non-null  int64\n",
      " 27  t1_inhibitorKills   51490 non-null  int64\n",
      " 28  t1_baronKills       51490 non-null  int64\n",
      " 29  t1_dragonKills      51490 non-null  int64\n",
      " 30  t1_riftHeraldKills  51490 non-null  int64\n",
      " 31  t1_ban1             51490 non-null  int64\n",
      " 32  t1_ban2             51490 non-null  int64\n",
      " 33  t1_ban3             51490 non-null  int64\n",
      " 34  t1_ban4             51490 non-null  int64\n",
      " 35  t1_ban5             51490 non-null  int64\n",
      " 36  t2_champ1id         51490 non-null  int64\n",
      " 37  t2_champ1_sum1      51490 non-null  int64\n",
      " 38  t2_champ1_sum2      51490 non-null  int64\n",
      " 39  t2_champ2id         51490 non-null  int64\n",
      " 40  t2_champ2_sum1      51490 non-null  int64\n",
      " 41  t2_champ2_sum2      51490 non-null  int64\n",
      " 42  t2_champ3id         51490 non-null  int64\n",
      " 43  t2_champ3_sum1      51490 non-null  int64\n",
      " 44  t2_champ3_sum2      51490 non-null  int64\n",
      " 45  t2_champ4id         51490 non-null  int64\n",
      " 46  t2_champ4_sum1      51490 non-null  int64\n",
      " 47  t2_champ4_sum2      51490 non-null  int64\n",
      " 48  t2_champ5id         51490 non-null  int64\n",
      " 49  t2_champ5_sum1      51490 non-null  int64\n",
      " 50  t2_champ5_sum2      51490 non-null  int64\n",
      " 51  t2_towerKills       51490 non-null  int64\n",
      " 52  t2_inhibitorKills   51490 non-null  int64\n",
      " 53  t2_baronKills       51490 non-null  int64\n",
      " 54  t2_dragonKills      51490 non-null  int64\n",
      " 55  t2_riftHeraldKills  51490 non-null  int64\n",
      " 56  t2_ban1             51490 non-null  int64\n",
      " 57  t2_ban2             51490 non-null  int64\n",
      " 58  t2_ban3             51490 non-null  int64\n",
      " 59  t2_ban4             51490 non-null  int64\n",
      " 60  t2_ban5             51490 non-null  int64\n",
      "dtypes: int64(61)\n",
      "memory usage: 24.0 MB\n"
     ]
    }
   ],
   "source": [
    "df_jeju = pd.read_csv('https://raw.githubusercontent.com/Datamanim/pandas/main/Jeju.csv', encoding='euc-kr')\n",
    "df.info()"
   ]
  },
  {
   "attachments": {},
   "cell_type": "markdown",
   "metadata": {},
   "source": [
    "10. 데이터 마지막 3개행을 출력하라"
   ]
  },
  {
   "cell_type": "code",
   "execution_count": 25,
   "metadata": {},
   "outputs": [
    {
     "data": {
      "text/html": [
       "<div>\n",
       "<style scoped>\n",
       "    .dataframe tbody tr th:only-of-type {\n",
       "        vertical-align: middle;\n",
       "    }\n",
       "\n",
       "    .dataframe tbody tr th {\n",
       "        vertical-align: top;\n",
       "    }\n",
       "\n",
       "    .dataframe thead th {\n",
       "        text-align: right;\n",
       "    }\n",
       "</style>\n",
       "<table border=\"1\" class=\"dataframe\">\n",
       "  <thead>\n",
       "    <tr style=\"text-align: right;\">\n",
       "      <th></th>\n",
       "      <th>id</th>\n",
       "      <th>일자</th>\n",
       "      <th>시도명</th>\n",
       "      <th>읍면동명</th>\n",
       "      <th>거주인구</th>\n",
       "      <th>근무인구</th>\n",
       "      <th>방문인구</th>\n",
       "      <th>총 유동인구</th>\n",
       "      <th>평균 속도</th>\n",
       "      <th>평균 소요 시간</th>\n",
       "      <th>평균 기온</th>\n",
       "      <th>일강수량</th>\n",
       "      <th>평균 풍속</th>\n",
       "    </tr>\n",
       "  </thead>\n",
       "  <tbody>\n",
       "    <tr>\n",
       "      <th>9618</th>\n",
       "      <td>32066</td>\n",
       "      <td>2020-04-30</td>\n",
       "      <td>제주시</td>\n",
       "      <td>도두동</td>\n",
       "      <td>28397.481</td>\n",
       "      <td>3144.895</td>\n",
       "      <td>84052.697</td>\n",
       "      <td>115595.073</td>\n",
       "      <td>41.053</td>\n",
       "      <td>29.421</td>\n",
       "      <td>20.3</td>\n",
       "      <td>0.0</td>\n",
       "      <td>3.0</td>\n",
       "    </tr>\n",
       "    <tr>\n",
       "      <th>9619</th>\n",
       "      <td>32067</td>\n",
       "      <td>2020-04-30</td>\n",
       "      <td>서귀포시</td>\n",
       "      <td>안덕면</td>\n",
       "      <td>348037.846</td>\n",
       "      <td>29106.286</td>\n",
       "      <td>251129.660</td>\n",
       "      <td>628273.792</td>\n",
       "      <td>46.595</td>\n",
       "      <td>49.189</td>\n",
       "      <td>17.6</td>\n",
       "      <td>0.0</td>\n",
       "      <td>3.5</td>\n",
       "    </tr>\n",
       "    <tr>\n",
       "      <th>9620</th>\n",
       "      <td>32068</td>\n",
       "      <td>2020-04-30</td>\n",
       "      <td>제주시</td>\n",
       "      <td>연동</td>\n",
       "      <td>1010643.372</td>\n",
       "      <td>65673.477</td>\n",
       "      <td>447622.068</td>\n",
       "      <td>1523938.917</td>\n",
       "      <td>40.863</td>\n",
       "      <td>27.765</td>\n",
       "      <td>14.1</td>\n",
       "      <td>0.0</td>\n",
       "      <td>4.8</td>\n",
       "    </tr>\n",
       "  </tbody>\n",
       "</table>\n",
       "</div>"
      ],
      "text/plain": [
       "         id          일자   시도명 읍면동명         거주인구       근무인구        방문인구  \\\n",
       "9618  32066  2020-04-30   제주시  도두동    28397.481   3144.895   84052.697   \n",
       "9619  32067  2020-04-30  서귀포시  안덕면   348037.846  29106.286  251129.660   \n",
       "9620  32068  2020-04-30   제주시   연동  1010643.372  65673.477  447622.068   \n",
       "\n",
       "           총 유동인구   평균 속도  평균 소요 시간  평균 기온  일강수량  평균 풍속  \n",
       "9618   115595.073  41.053    29.421   20.3   0.0    3.0  \n",
       "9619   628273.792  46.595    49.189   17.6   0.0    3.5  \n",
       "9620  1523938.917  40.863    27.765   14.1   0.0    4.8  "
      ]
     },
     "execution_count": 25,
     "metadata": {},
     "output_type": "execute_result"
    }
   ],
   "source": [
    "df_jeju.tail(3)"
   ]
  },
  {
   "attachments": {},
   "cell_type": "markdown",
   "metadata": {},
   "source": [
    "11. ★ 수치형 변수를 가진 컬럼을 출력하라"
   ]
  },
  {
   "cell_type": "code",
   "execution_count": 30,
   "metadata": {},
   "outputs": [
    {
     "data": {
      "text/plain": [
       "Index(['id', '거주인구', '근무인구', '방문인구', '총 유동인구', '평균 속도', '평균 소요 시간', '평균 기온',\n",
       "       '일강수량', '평균 풍속'],\n",
       "      dtype='object')"
      ]
     },
     "execution_count": 30,
     "metadata": {},
     "output_type": "execute_result"
    }
   ],
   "source": [
    "df_jeju.select_dtypes(exclude=object).columns"
   ]
  },
  {
   "attachments": {},
   "cell_type": "markdown",
   "metadata": {},
   "source": [
    "12. ★ 범주형 변수를 가진 컬럼을 출력하라"
   ]
  },
  {
   "cell_type": "code",
   "execution_count": null,
   "metadata": {},
   "outputs": [],
   "source": [
    "dir(df)"
   ]
  },
  {
   "cell_type": "code",
   "execution_count": null,
   "metadata": {},
   "outputs": [],
   "source": [
    "help(df_jeju.select_dtypes)"
   ]
  },
  {
   "attachments": {},
   "cell_type": "markdown",
   "metadata": {},
   "source": [
    ">> 헷갈리고 잘 모르면 이렇게 확인"
   ]
  },
  {
   "cell_type": "code",
   "execution_count": 31,
   "metadata": {},
   "outputs": [
    {
     "data": {
      "text/plain": [
       "Index(['일자', '시도명', '읍면동명'], dtype='object')"
      ]
     },
     "execution_count": 31,
     "metadata": {},
     "output_type": "execute_result"
    }
   ],
   "source": [
    "df_jeju.select_dtypes(include=object).columns"
   ]
  },
  {
   "attachments": {},
   "cell_type": "markdown",
   "metadata": {},
   "source": [
    "13. 각 컬럼의 결측치 숫자를 파악하라|"
   ]
  },
  {
   "cell_type": "code",
   "execution_count": 37,
   "metadata": {},
   "outputs": [
    {
     "data": {
      "text/plain": [
       "id          0\n",
       "일자          0\n",
       "시도명         0\n",
       "읍면동명        0\n",
       "거주인구        0\n",
       "근무인구        0\n",
       "방문인구        0\n",
       "총 유동인구      0\n",
       "평균 속도       0\n",
       "평균 소요 시간    0\n",
       "평균 기온       0\n",
       "일강수량        0\n",
       "평균 풍속       0\n",
       "dtype: int64"
      ]
     },
     "execution_count": 37,
     "metadata": {},
     "output_type": "execute_result"
    }
   ],
   "source": [
    "df_jeju.isnull().sum()"
   ]
  },
  {
   "attachments": {},
   "cell_type": "markdown",
   "metadata": {},
   "source": [
    "14. 각 컬럼의 데이터수, 데이터타입을 한번에 확인하라"
   ]
  },
  {
   "cell_type": "code",
   "execution_count": 38,
   "metadata": {},
   "outputs": [
    {
     "name": "stdout",
     "output_type": "stream",
     "text": [
      "<class 'pandas.core.frame.DataFrame'>\n",
      "RangeIndex: 9621 entries, 0 to 9620\n",
      "Data columns (total 13 columns):\n",
      " #   Column    Non-Null Count  Dtype  \n",
      "---  ------    --------------  -----  \n",
      " 0   id        9621 non-null   int64  \n",
      " 1   일자        9621 non-null   object \n",
      " 2   시도명       9621 non-null   object \n",
      " 3   읍면동명      9621 non-null   object \n",
      " 4   거주인구      9621 non-null   float64\n",
      " 5   근무인구      9621 non-null   float64\n",
      " 6   방문인구      9621 non-null   float64\n",
      " 7   총 유동인구    9621 non-null   float64\n",
      " 8   평균 속도     9621 non-null   float64\n",
      " 9   평균 소요 시간  9621 non-null   float64\n",
      " 10  평균 기온     9621 non-null   float64\n",
      " 11  일강수량      9621 non-null   float64\n",
      " 12  평균 풍속     9621 non-null   float64\n",
      "dtypes: float64(9), int64(1), object(3)\n",
      "memory usage: 977.3+ KB\n"
     ]
    }
   ],
   "source": [
    "df_jeju.info()"
   ]
  },
  {
   "attachments": {},
   "cell_type": "markdown",
   "metadata": {},
   "source": [
    "15. 각 수치형 변수의 분포(사분위, 평균, 표준편차, 최대 , 최소)를 확인하라"
   ]
  },
  {
   "cell_type": "code",
   "execution_count": 39,
   "metadata": {},
   "outputs": [
    {
     "data": {
      "text/html": [
       "<div>\n",
       "<style scoped>\n",
       "    .dataframe tbody tr th:only-of-type {\n",
       "        vertical-align: middle;\n",
       "    }\n",
       "\n",
       "    .dataframe tbody tr th {\n",
       "        vertical-align: top;\n",
       "    }\n",
       "\n",
       "    .dataframe thead th {\n",
       "        text-align: right;\n",
       "    }\n",
       "</style>\n",
       "<table border=\"1\" class=\"dataframe\">\n",
       "  <thead>\n",
       "    <tr style=\"text-align: right;\">\n",
       "      <th></th>\n",
       "      <th>id</th>\n",
       "      <th>거주인구</th>\n",
       "      <th>근무인구</th>\n",
       "      <th>방문인구</th>\n",
       "      <th>총 유동인구</th>\n",
       "      <th>평균 속도</th>\n",
       "      <th>평균 소요 시간</th>\n",
       "      <th>평균 기온</th>\n",
       "      <th>일강수량</th>\n",
       "      <th>평균 풍속</th>\n",
       "    </tr>\n",
       "  </thead>\n",
       "  <tbody>\n",
       "    <tr>\n",
       "      <th>count</th>\n",
       "      <td>9621.000000</td>\n",
       "      <td>9.621000e+03</td>\n",
       "      <td>9621.000000</td>\n",
       "      <td>9621.000000</td>\n",
       "      <td>9.621000e+03</td>\n",
       "      <td>9621.000000</td>\n",
       "      <td>9621.000000</td>\n",
       "      <td>9621.000000</td>\n",
       "      <td>9621.000000</td>\n",
       "      <td>9621.000000</td>\n",
       "    </tr>\n",
       "    <tr>\n",
       "      <th>mean</th>\n",
       "      <td>27258.000000</td>\n",
       "      <td>3.174315e+05</td>\n",
       "      <td>35471.201510</td>\n",
       "      <td>195889.561802</td>\n",
       "      <td>5.487922e+05</td>\n",
       "      <td>41.109084</td>\n",
       "      <td>37.215873</td>\n",
       "      <td>13.550828</td>\n",
       "      <td>6.972426</td>\n",
       "      <td>2.753171</td>\n",
       "    </tr>\n",
       "    <tr>\n",
       "      <th>std</th>\n",
       "      <td>2777.487804</td>\n",
       "      <td>2.982079e+05</td>\n",
       "      <td>40381.214775</td>\n",
       "      <td>140706.090325</td>\n",
       "      <td>4.608802e+05</td>\n",
       "      <td>8.758631</td>\n",
       "      <td>12.993786</td>\n",
       "      <td>7.745515</td>\n",
       "      <td>27.617260</td>\n",
       "      <td>1.498538</td>\n",
       "    </tr>\n",
       "    <tr>\n",
       "      <th>min</th>\n",
       "      <td>22448.000000</td>\n",
       "      <td>9.305552e+03</td>\n",
       "      <td>1407.936000</td>\n",
       "      <td>11538.322000</td>\n",
       "      <td>2.225181e+04</td>\n",
       "      <td>24.333000</td>\n",
       "      <td>12.667000</td>\n",
       "      <td>-9.600000</td>\n",
       "      <td>0.000000</td>\n",
       "      <td>0.000000</td>\n",
       "    </tr>\n",
       "    <tr>\n",
       "      <th>25%</th>\n",
       "      <td>24853.000000</td>\n",
       "      <td>9.539939e+04</td>\n",
       "      <td>12074.498000</td>\n",
       "      <td>99632.153000</td>\n",
       "      <td>2.216910e+05</td>\n",
       "      <td>34.250000</td>\n",
       "      <td>27.889000</td>\n",
       "      <td>7.600000</td>\n",
       "      <td>0.000000</td>\n",
       "      <td>1.700000</td>\n",
       "    </tr>\n",
       "    <tr>\n",
       "      <th>50%</th>\n",
       "      <td>27258.000000</td>\n",
       "      <td>2.221105e+05</td>\n",
       "      <td>21960.928000</td>\n",
       "      <td>152805.335000</td>\n",
       "      <td>3.866935e+05</td>\n",
       "      <td>39.640000</td>\n",
       "      <td>34.500000</td>\n",
       "      <td>13.400000</td>\n",
       "      <td>0.000000</td>\n",
       "      <td>2.400000</td>\n",
       "    </tr>\n",
       "    <tr>\n",
       "      <th>75%</th>\n",
       "      <td>29663.000000</td>\n",
       "      <td>4.106671e+05</td>\n",
       "      <td>40192.032000</td>\n",
       "      <td>236325.109000</td>\n",
       "      <td>6.406918e+05</td>\n",
       "      <td>49.105000</td>\n",
       "      <td>46.176000</td>\n",
       "      <td>19.700000</td>\n",
       "      <td>1.500000</td>\n",
       "      <td>3.400000</td>\n",
       "    </tr>\n",
       "    <tr>\n",
       "      <th>max</th>\n",
       "      <td>32068.000000</td>\n",
       "      <td>1.364504e+06</td>\n",
       "      <td>263476.965000</td>\n",
       "      <td>723459.209000</td>\n",
       "      <td>2.066484e+06</td>\n",
       "      <td>103.000000</td>\n",
       "      <td>172.200000</td>\n",
       "      <td>30.400000</td>\n",
       "      <td>587.500000</td>\n",
       "      <td>13.333000</td>\n",
       "    </tr>\n",
       "  </tbody>\n",
       "</table>\n",
       "</div>"
      ],
      "text/plain": [
       "                 id          거주인구           근무인구           방문인구        총 유동인구  \\\n",
       "count   9621.000000  9.621000e+03    9621.000000    9621.000000  9.621000e+03   \n",
       "mean   27258.000000  3.174315e+05   35471.201510  195889.561802  5.487922e+05   \n",
       "std     2777.487804  2.982079e+05   40381.214775  140706.090325  4.608802e+05   \n",
       "min    22448.000000  9.305552e+03    1407.936000   11538.322000  2.225181e+04   \n",
       "25%    24853.000000  9.539939e+04   12074.498000   99632.153000  2.216910e+05   \n",
       "50%    27258.000000  2.221105e+05   21960.928000  152805.335000  3.866935e+05   \n",
       "75%    29663.000000  4.106671e+05   40192.032000  236325.109000  6.406918e+05   \n",
       "max    32068.000000  1.364504e+06  263476.965000  723459.209000  2.066484e+06   \n",
       "\n",
       "             평균 속도     평균 소요 시간        평균 기온         일강수량        평균 풍속  \n",
       "count  9621.000000  9621.000000  9621.000000  9621.000000  9621.000000  \n",
       "mean     41.109084    37.215873    13.550828     6.972426     2.753171  \n",
       "std       8.758631    12.993786     7.745515    27.617260     1.498538  \n",
       "min      24.333000    12.667000    -9.600000     0.000000     0.000000  \n",
       "25%      34.250000    27.889000     7.600000     0.000000     1.700000  \n",
       "50%      39.640000    34.500000    13.400000     0.000000     2.400000  \n",
       "75%      49.105000    46.176000    19.700000     1.500000     3.400000  \n",
       "max     103.000000   172.200000    30.400000   587.500000    13.333000  "
      ]
     },
     "execution_count": 39,
     "metadata": {},
     "output_type": "execute_result"
    }
   ],
   "source": [
    "df_jeju.describe()"
   ]
  },
  {
   "attachments": {},
   "cell_type": "markdown",
   "metadata": {},
   "source": [
    "16. 거주인구 컬럼의 값들을 출력하라"
   ]
  },
  {
   "cell_type": "code",
   "execution_count": 44,
   "metadata": {},
   "outputs": [
    {
     "data": {
      "text/plain": [
       "0         32249.987\n",
       "1        213500.997\n",
       "2       1212382.218\n",
       "3         33991.653\n",
       "4        155036.925\n",
       "           ...     \n",
       "9616     228260.005\n",
       "9617     459959.064\n",
       "9618      28397.481\n",
       "9619     348037.846\n",
       "9620    1010643.372\n",
       "Name: 거주인구, Length: 9621, dtype: float64"
      ]
     },
     "execution_count": 44,
     "metadata": {},
     "output_type": "execute_result"
    }
   ],
   "source": [
    "df_jeju['거주인구']"
   ]
  },
  {
   "attachments": {},
   "cell_type": "markdown",
   "metadata": {},
   "source": [
    "17. ★ 평균 속도 컬럼의 4분위 범위(IQR) 값을 구하여라"
   ]
  },
  {
   "cell_type": "code",
   "execution_count": 45,
   "metadata": {},
   "outputs": [
    {
     "name": "stdout",
     "output_type": "stream",
     "text": [
      "14.854999999999997\n"
     ]
    }
   ],
   "source": [
    "df_10r = df_jeju['평균 속도'].quantile(0.25)\n",
    "df_30r = df_jeju['평균 속도'].quantile(0.75)\n",
    "df_iqr = df_30r - df_10r\n",
    "\n",
    "print(df_iqr)"
   ]
  },
  {
   "attachments": {},
   "cell_type": "markdown",
   "metadata": {},
   "source": [
    "18. ★ 읍면동명 컬럼의 유일값 갯수를 출력하라"
   ]
  },
  {
   "cell_type": "code",
   "execution_count": 56,
   "metadata": {},
   "outputs": [
    {
     "data": {
      "text/plain": [
       "41"
      ]
     },
     "execution_count": 56,
     "metadata": {},
     "output_type": "execute_result"
    }
   ],
   "source": [
    "df_jeju['읍면동명'].nunique()"
   ]
  },
  {
   "attachments": {},
   "cell_type": "markdown",
   "metadata": {},
   "source": [
    "19. ★ 읍면동명 컬럼의 유일값을 모두 출력하라"
   ]
  },
  {
   "cell_type": "code",
   "execution_count": 59,
   "metadata": {},
   "outputs": [
    {
     "data": {
      "text/plain": [
       "array(['도두동', '외도동', '이도2동', '일도1동', '대천동', '서홍동', '한경면', '송산동', '조천읍',\n",
       "       '일도2동', '영천동', '예래동', '대륜동', '삼도1동', '이호동', '건입동', '중앙동', '삼양동',\n",
       "       '삼도2동', '이도1동', '남원읍', '대정읍', '정방동', '효돈동', '아라동', '한림읍', '구좌읍',\n",
       "       '용담1동', '오라동', '화북동', '연동', '표선면', '중문동', '성산읍', '안덕면', '천지동',\n",
       "       '노형동', '동홍동', '용담2동', '봉개동', '애월읍'], dtype=object)"
      ]
     },
     "execution_count": 59,
     "metadata": {},
     "output_type": "execute_result"
    }
   ],
   "source": [
    "df_jeju['읍면동명'].unique()"
   ]
  },
  {
   "attachments": {},
   "cell_type": "markdown",
   "metadata": {},
   "source": [
    "# 02 Filtering & Sorting\n",
    "\n",
    "> 식당데이터 : justmarkham/DAT8 <br>\n",
    "> DataUrl = ‘https://raw.githubusercontent.com/Datamanim/pandas/main/chipo.csv’"
   ]
  },
  {
   "attachments": {},
   "cell_type": "markdown",
   "metadata": {},
   "source": [
    "20. 데이터를 로드하라."
   ]
  },
  {
   "cell_type": "code",
   "execution_count": 1,
   "metadata": {},
   "outputs": [
    {
     "name": "stdout",
     "output_type": "stream",
     "text": [
      "<class 'pandas.core.frame.DataFrame'>\n",
      "RangeIndex: 4622 entries, 0 to 4621\n",
      "Data columns (total 5 columns):\n",
      " #   Column              Non-Null Count  Dtype \n",
      "---  ------              --------------  ----- \n",
      " 0   order_id            4622 non-null   int64 \n",
      " 1   quantity            4622 non-null   int64 \n",
      " 2   item_name           4622 non-null   object\n",
      " 3   choice_description  3376 non-null   object\n",
      " 4   item_price          4622 non-null   object\n",
      "dtypes: int64(2), object(3)\n",
      "memory usage: 180.7+ KB\n"
     ]
    }
   ],
   "source": [
    "import pandas as pd\n",
    "df_chipo = pd.read_csv('https://raw.githubusercontent.com/Datamanim/pandas/main/chipo.csv')\n",
    "df_chipo.info()"
   ]
  },
  {
   "cell_type": "code",
   "execution_count": 61,
   "metadata": {},
   "outputs": [
    {
     "data": {
      "text/html": [
       "<div>\n",
       "<style scoped>\n",
       "    .dataframe tbody tr th:only-of-type {\n",
       "        vertical-align: middle;\n",
       "    }\n",
       "\n",
       "    .dataframe tbody tr th {\n",
       "        vertical-align: top;\n",
       "    }\n",
       "\n",
       "    .dataframe thead th {\n",
       "        text-align: right;\n",
       "    }\n",
       "</style>\n",
       "<table border=\"1\" class=\"dataframe\">\n",
       "  <thead>\n",
       "    <tr style=\"text-align: right;\">\n",
       "      <th></th>\n",
       "      <th>order_id</th>\n",
       "      <th>quantity</th>\n",
       "      <th>item_name</th>\n",
       "      <th>choice_description</th>\n",
       "      <th>item_price</th>\n",
       "    </tr>\n",
       "  </thead>\n",
       "  <tbody>\n",
       "    <tr>\n",
       "      <th>0</th>\n",
       "      <td>1</td>\n",
       "      <td>1</td>\n",
       "      <td>Chips and Fresh Tomato Salsa</td>\n",
       "      <td>NaN</td>\n",
       "      <td>$2.39</td>\n",
       "    </tr>\n",
       "    <tr>\n",
       "      <th>1</th>\n",
       "      <td>1</td>\n",
       "      <td>1</td>\n",
       "      <td>Izze</td>\n",
       "      <td>[Clementine]</td>\n",
       "      <td>$3.39</td>\n",
       "    </tr>\n",
       "    <tr>\n",
       "      <th>2</th>\n",
       "      <td>1</td>\n",
       "      <td>1</td>\n",
       "      <td>Nantucket Nectar</td>\n",
       "      <td>[Apple]</td>\n",
       "      <td>$3.39</td>\n",
       "    </tr>\n",
       "    <tr>\n",
       "      <th>3</th>\n",
       "      <td>1</td>\n",
       "      <td>1</td>\n",
       "      <td>Chips and Tomatillo-Green Chili Salsa</td>\n",
       "      <td>NaN</td>\n",
       "      <td>$2.39</td>\n",
       "    </tr>\n",
       "    <tr>\n",
       "      <th>4</th>\n",
       "      <td>2</td>\n",
       "      <td>2</td>\n",
       "      <td>Chicken Bowl</td>\n",
       "      <td>[Tomatillo-Red Chili Salsa (Hot), [Black Beans...</td>\n",
       "      <td>$16.98</td>\n",
       "    </tr>\n",
       "  </tbody>\n",
       "</table>\n",
       "</div>"
      ],
      "text/plain": [
       "   order_id  quantity                              item_name  \\\n",
       "0         1         1           Chips and Fresh Tomato Salsa   \n",
       "1         1         1                                   Izze   \n",
       "2         1         1                       Nantucket Nectar   \n",
       "3         1         1  Chips and Tomatillo-Green Chili Salsa   \n",
       "4         2         2                           Chicken Bowl   \n",
       "\n",
       "                                  choice_description item_price  \n",
       "0                                                NaN     $2.39   \n",
       "1                                       [Clementine]     $3.39   \n",
       "2                                            [Apple]     $3.39   \n",
       "3                                                NaN     $2.39   \n",
       "4  [Tomatillo-Red Chili Salsa (Hot), [Black Beans...    $16.98   "
      ]
     },
     "execution_count": 61,
     "metadata": {},
     "output_type": "execute_result"
    }
   ],
   "source": [
    "df_chipo.head()"
   ]
  },
  {
   "attachments": {},
   "cell_type": "markdown",
   "metadata": {},
   "source": [
    "21. quantity컬럼 값이 3인 데이터를 추출하여 첫 5행을 출력하라"
   ]
  },
  {
   "cell_type": "code",
   "execution_count": 63,
   "metadata": {},
   "outputs": [
    {
     "data": {
      "text/html": [
       "<div>\n",
       "<style scoped>\n",
       "    .dataframe tbody tr th:only-of-type {\n",
       "        vertical-align: middle;\n",
       "    }\n",
       "\n",
       "    .dataframe tbody tr th {\n",
       "        vertical-align: top;\n",
       "    }\n",
       "\n",
       "    .dataframe thead th {\n",
       "        text-align: right;\n",
       "    }\n",
       "</style>\n",
       "<table border=\"1\" class=\"dataframe\">\n",
       "  <thead>\n",
       "    <tr style=\"text-align: right;\">\n",
       "      <th></th>\n",
       "      <th>order_id</th>\n",
       "      <th>quantity</th>\n",
       "      <th>item_name</th>\n",
       "      <th>choice_description</th>\n",
       "      <th>item_price</th>\n",
       "    </tr>\n",
       "  </thead>\n",
       "  <tbody>\n",
       "    <tr>\n",
       "      <th>409</th>\n",
       "      <td>178</td>\n",
       "      <td>3</td>\n",
       "      <td>Chicken Bowl</td>\n",
       "      <td>[[Fresh Tomato Salsa (Mild), Tomatillo-Green C...</td>\n",
       "      <td>$32.94</td>\n",
       "    </tr>\n",
       "    <tr>\n",
       "      <th>445</th>\n",
       "      <td>193</td>\n",
       "      <td>3</td>\n",
       "      <td>Bowl</td>\n",
       "      <td>[Braised Carnitas, Pinto Beans, [Sour Cream, C...</td>\n",
       "      <td>$22.20</td>\n",
       "    </tr>\n",
       "    <tr>\n",
       "      <th>689</th>\n",
       "      <td>284</td>\n",
       "      <td>3</td>\n",
       "      <td>Canned Soft Drink</td>\n",
       "      <td>[Diet Coke]</td>\n",
       "      <td>$3.75</td>\n",
       "    </tr>\n",
       "    <tr>\n",
       "      <th>818</th>\n",
       "      <td>338</td>\n",
       "      <td>3</td>\n",
       "      <td>Bottled Water</td>\n",
       "      <td>NaN</td>\n",
       "      <td>$3.27</td>\n",
       "    </tr>\n",
       "    <tr>\n",
       "      <th>850</th>\n",
       "      <td>350</td>\n",
       "      <td>3</td>\n",
       "      <td>Canned Soft Drink</td>\n",
       "      <td>[Sprite]</td>\n",
       "      <td>$3.75</td>\n",
       "    </tr>\n",
       "  </tbody>\n",
       "</table>\n",
       "</div>"
      ],
      "text/plain": [
       "     order_id  quantity          item_name  \\\n",
       "409       178         3       Chicken Bowl   \n",
       "445       193         3               Bowl   \n",
       "689       284         3  Canned Soft Drink   \n",
       "818       338         3      Bottled Water   \n",
       "850       350         3  Canned Soft Drink   \n",
       "\n",
       "                                    choice_description item_price  \n",
       "409  [[Fresh Tomato Salsa (Mild), Tomatillo-Green C...    $32.94   \n",
       "445  [Braised Carnitas, Pinto Beans, [Sour Cream, C...    $22.20   \n",
       "689                                        [Diet Coke]     $3.75   \n",
       "818                                                NaN     $3.27   \n",
       "850                                           [Sprite]     $3.75   "
      ]
     },
     "execution_count": 63,
     "metadata": {},
     "output_type": "execute_result"
    }
   ],
   "source": [
    "df_chipo[df_chipo['quantity']==3].head(5)"
   ]
  },
  {
   "attachments": {},
   "cell_type": "markdown",
   "metadata": {},
   "source": [
    "22. ★ quantity컬럼 값이 3인 데이터를 추출하여 index를 0부터 정렬하고 첫 5행을 출력하라"
   ]
  },
  {
   "cell_type": "code",
   "execution_count": 65,
   "metadata": {},
   "outputs": [
    {
     "data": {
      "text/html": [
       "<div>\n",
       "<style scoped>\n",
       "    .dataframe tbody tr th:only-of-type {\n",
       "        vertical-align: middle;\n",
       "    }\n",
       "\n",
       "    .dataframe tbody tr th {\n",
       "        vertical-align: top;\n",
       "    }\n",
       "\n",
       "    .dataframe thead th {\n",
       "        text-align: right;\n",
       "    }\n",
       "</style>\n",
       "<table border=\"1\" class=\"dataframe\">\n",
       "  <thead>\n",
       "    <tr style=\"text-align: right;\">\n",
       "      <th></th>\n",
       "      <th>order_id</th>\n",
       "      <th>quantity</th>\n",
       "      <th>item_name</th>\n",
       "      <th>choice_description</th>\n",
       "      <th>item_price</th>\n",
       "    </tr>\n",
       "  </thead>\n",
       "  <tbody>\n",
       "    <tr>\n",
       "      <th>0</th>\n",
       "      <td>178</td>\n",
       "      <td>3</td>\n",
       "      <td>Chicken Bowl</td>\n",
       "      <td>[[Fresh Tomato Salsa (Mild), Tomatillo-Green C...</td>\n",
       "      <td>$32.94</td>\n",
       "    </tr>\n",
       "    <tr>\n",
       "      <th>1</th>\n",
       "      <td>193</td>\n",
       "      <td>3</td>\n",
       "      <td>Bowl</td>\n",
       "      <td>[Braised Carnitas, Pinto Beans, [Sour Cream, C...</td>\n",
       "      <td>$22.20</td>\n",
       "    </tr>\n",
       "    <tr>\n",
       "      <th>2</th>\n",
       "      <td>284</td>\n",
       "      <td>3</td>\n",
       "      <td>Canned Soft Drink</td>\n",
       "      <td>[Diet Coke]</td>\n",
       "      <td>$3.75</td>\n",
       "    </tr>\n",
       "    <tr>\n",
       "      <th>3</th>\n",
       "      <td>338</td>\n",
       "      <td>3</td>\n",
       "      <td>Bottled Water</td>\n",
       "      <td>NaN</td>\n",
       "      <td>$3.27</td>\n",
       "    </tr>\n",
       "    <tr>\n",
       "      <th>4</th>\n",
       "      <td>350</td>\n",
       "      <td>3</td>\n",
       "      <td>Canned Soft Drink</td>\n",
       "      <td>[Sprite]</td>\n",
       "      <td>$3.75</td>\n",
       "    </tr>\n",
       "  </tbody>\n",
       "</table>\n",
       "</div>"
      ],
      "text/plain": [
       "   order_id  quantity          item_name  \\\n",
       "0       178         3       Chicken Bowl   \n",
       "1       193         3               Bowl   \n",
       "2       284         3  Canned Soft Drink   \n",
       "3       338         3      Bottled Water   \n",
       "4       350         3  Canned Soft Drink   \n",
       "\n",
       "                                  choice_description item_price  \n",
       "0  [[Fresh Tomato Salsa (Mild), Tomatillo-Green C...    $32.94   \n",
       "1  [Braised Carnitas, Pinto Beans, [Sour Cream, C...    $22.20   \n",
       "2                                        [Diet Coke]     $3.75   \n",
       "3                                                NaN     $3.27   \n",
       "4                                           [Sprite]     $3.75   "
      ]
     },
     "execution_count": 65,
     "metadata": {},
     "output_type": "execute_result"
    }
   ],
   "source": [
    "quantity_3 = df_chipo[df_chipo['quantity']==3]\n",
    "quantity_3.reset_index(inplace=True, drop=True)\n",
    "quantity_3.head(5)"
   ]
  },
  {
   "attachments": {},
   "cell_type": "markdown",
   "metadata": {},
   "source": [
    "23. quantity , item_price 두개의 컬럼으로 구성된 새로운 데이터 프레임을 정의하라"
   ]
  },
  {
   "cell_type": "code",
   "execution_count": 67,
   "metadata": {},
   "outputs": [
    {
     "data": {
      "text/html": [
       "<div>\n",
       "<style scoped>\n",
       "    .dataframe tbody tr th:only-of-type {\n",
       "        vertical-align: middle;\n",
       "    }\n",
       "\n",
       "    .dataframe tbody tr th {\n",
       "        vertical-align: top;\n",
       "    }\n",
       "\n",
       "    .dataframe thead th {\n",
       "        text-align: right;\n",
       "    }\n",
       "</style>\n",
       "<table border=\"1\" class=\"dataframe\">\n",
       "  <thead>\n",
       "    <tr style=\"text-align: right;\">\n",
       "      <th></th>\n",
       "      <th>quantity</th>\n",
       "      <th>item_price</th>\n",
       "    </tr>\n",
       "  </thead>\n",
       "  <tbody>\n",
       "    <tr>\n",
       "      <th>0</th>\n",
       "      <td>1</td>\n",
       "      <td>$2.39</td>\n",
       "    </tr>\n",
       "    <tr>\n",
       "      <th>1</th>\n",
       "      <td>1</td>\n",
       "      <td>$3.39</td>\n",
       "    </tr>\n",
       "    <tr>\n",
       "      <th>2</th>\n",
       "      <td>1</td>\n",
       "      <td>$3.39</td>\n",
       "    </tr>\n",
       "    <tr>\n",
       "      <th>3</th>\n",
       "      <td>1</td>\n",
       "      <td>$2.39</td>\n",
       "    </tr>\n",
       "    <tr>\n",
       "      <th>4</th>\n",
       "      <td>2</td>\n",
       "      <td>$16.98</td>\n",
       "    </tr>\n",
       "    <tr>\n",
       "      <th>...</th>\n",
       "      <td>...</td>\n",
       "      <td>...</td>\n",
       "    </tr>\n",
       "    <tr>\n",
       "      <th>4617</th>\n",
       "      <td>1</td>\n",
       "      <td>$11.75</td>\n",
       "    </tr>\n",
       "    <tr>\n",
       "      <th>4618</th>\n",
       "      <td>1</td>\n",
       "      <td>$11.75</td>\n",
       "    </tr>\n",
       "    <tr>\n",
       "      <th>4619</th>\n",
       "      <td>1</td>\n",
       "      <td>$11.25</td>\n",
       "    </tr>\n",
       "    <tr>\n",
       "      <th>4620</th>\n",
       "      <td>1</td>\n",
       "      <td>$8.75</td>\n",
       "    </tr>\n",
       "    <tr>\n",
       "      <th>4621</th>\n",
       "      <td>1</td>\n",
       "      <td>$8.75</td>\n",
       "    </tr>\n",
       "  </tbody>\n",
       "</table>\n",
       "<p>4622 rows × 2 columns</p>\n",
       "</div>"
      ],
      "text/plain": [
       "      quantity item_price\n",
       "0            1     $2.39 \n",
       "1            1     $3.39 \n",
       "2            1     $3.39 \n",
       "3            1     $2.39 \n",
       "4            2    $16.98 \n",
       "...        ...        ...\n",
       "4617         1    $11.75 \n",
       "4618         1    $11.75 \n",
       "4619         1    $11.25 \n",
       "4620         1     $8.75 \n",
       "4621         1     $8.75 \n",
       "\n",
       "[4622 rows x 2 columns]"
      ]
     },
     "execution_count": 67,
     "metadata": {},
     "output_type": "execute_result"
    }
   ],
   "source": [
    "df_qi = df_chipo[['quantity', 'item_price']]\n",
    "df_qi"
   ]
  },
  {
   "attachments": {},
   "cell_type": "markdown",
   "metadata": {},
   "source": [
    "24. ★ item_price 컬럼의 달러표시 문자를 제거하고 float 타입으로 저장하여 new_price 컬럼에 저장하라"
   ]
  },
  {
   "cell_type": "code",
   "execution_count": 72,
   "metadata": {},
   "outputs": [
    {
     "data": {
      "text/plain": [
       "0     $2.39 \n",
       "1     $3.39 \n",
       "2     $3.39 \n",
       "3     $2.39 \n",
       "4    $16.98 \n",
       "Name: item_price, dtype: object"
      ]
     },
     "execution_count": 72,
     "metadata": {},
     "output_type": "execute_result"
    }
   ],
   "source": [
    "df_chipo['item_price'].head()"
   ]
  },
  {
   "cell_type": "code",
   "execution_count": 2,
   "metadata": {},
   "outputs": [
    {
     "data": {
      "text/plain": [
       "0     2.39\n",
       "1     3.39\n",
       "2     3.39\n",
       "3     2.39\n",
       "4    16.98\n",
       "Name: new_price, dtype: float64"
      ]
     },
     "execution_count": 2,
     "metadata": {},
     "output_type": "execute_result"
    }
   ],
   "source": [
    "df_chipo['new_price'] = df_chipo['item_price'].apply(lambda x : x.replace('$', ''))\n",
    "df_chipo['new_price'] = df_chipo['new_price'].astype('float')\n",
    "df_chipo['new_price'].head()"
   ]
  },
  {
   "cell_type": "code",
   "execution_count": 78,
   "metadata": {},
   "outputs": [
    {
     "data": {
      "text/plain": [
       "0     2.39\n",
       "1     3.39\n",
       "2     3.39\n",
       "3     2.39\n",
       "4    16.98\n",
       "Name: new_price, dtype: float64"
      ]
     },
     "execution_count": 78,
     "metadata": {},
     "output_type": "execute_result"
    }
   ],
   "source": [
    "#해설 >> 훨씬 깔끔하다!!\n",
    "df_chipo['new_price'] = df_chipo['item_price'].str[1:].astype('float')\n",
    "df_chipo['new_price'].head()"
   ]
  },
  {
   "attachments": {},
   "cell_type": "markdown",
   "metadata": {},
   "source": [
    "25. new_price 컬럼이 5이하의 값을 가지는 데이터프레임을 추출하고, 전체 갯수를 구하여라"
   ]
  },
  {
   "cell_type": "code",
   "execution_count": 79,
   "metadata": {},
   "outputs": [
    {
     "data": {
      "text/plain": [
       "1652"
      ]
     },
     "execution_count": 79,
     "metadata": {},
     "output_type": "execute_result"
    }
   ],
   "source": [
    "df_chipo.new_price[df_chipo['new_price'] <= 5].count()"
   ]
  },
  {
   "cell_type": "code",
   "execution_count": 81,
   "metadata": {},
   "outputs": [
    {
     "data": {
      "text/plain": [
       "1652"
      ]
     },
     "execution_count": 81,
     "metadata": {},
     "output_type": "execute_result"
    }
   ],
   "source": [
    "# 해설\n",
    "len(df_chipo.loc[df_chipo.new_price <=5])"
   ]
  },
  {
   "attachments": {},
   "cell_type": "markdown",
   "metadata": {},
   "source": [
    "26. item_name명이 Chicken Salad Bowl 인 데이터 프레임을 추출하라고 index 값을 초기화 하여라"
   ]
  },
  {
   "cell_type": "code",
   "execution_count": 83,
   "metadata": {},
   "outputs": [
    {
     "data": {
      "text/html": [
       "<div>\n",
       "<style scoped>\n",
       "    .dataframe tbody tr th:only-of-type {\n",
       "        vertical-align: middle;\n",
       "    }\n",
       "\n",
       "    .dataframe tbody tr th {\n",
       "        vertical-align: top;\n",
       "    }\n",
       "\n",
       "    .dataframe thead th {\n",
       "        text-align: right;\n",
       "    }\n",
       "</style>\n",
       "<table border=\"1\" class=\"dataframe\">\n",
       "  <thead>\n",
       "    <tr style=\"text-align: right;\">\n",
       "      <th></th>\n",
       "      <th>order_id</th>\n",
       "      <th>quantity</th>\n",
       "      <th>item_name</th>\n",
       "      <th>choice_description</th>\n",
       "      <th>item_price</th>\n",
       "      <th>new_price</th>\n",
       "    </tr>\n",
       "  </thead>\n",
       "  <tbody>\n",
       "    <tr>\n",
       "      <th>0</th>\n",
       "      <td>20</td>\n",
       "      <td>1</td>\n",
       "      <td>Chicken Salad Bowl</td>\n",
       "      <td>[Fresh Tomato Salsa, [Fajita Vegetables, Pinto...</td>\n",
       "      <td>$8.75</td>\n",
       "      <td>8.75</td>\n",
       "    </tr>\n",
       "    <tr>\n",
       "      <th>1</th>\n",
       "      <td>60</td>\n",
       "      <td>2</td>\n",
       "      <td>Chicken Salad Bowl</td>\n",
       "      <td>[Tomatillo Green Chili Salsa, [Sour Cream, Che...</td>\n",
       "      <td>$22.50</td>\n",
       "      <td>22.50</td>\n",
       "    </tr>\n",
       "    <tr>\n",
       "      <th>2</th>\n",
       "      <td>94</td>\n",
       "      <td>2</td>\n",
       "      <td>Chicken Salad Bowl</td>\n",
       "      <td>[Fresh Tomato Salsa, [Fajita Vegetables, Pinto...</td>\n",
       "      <td>$22.50</td>\n",
       "      <td>22.50</td>\n",
       "    </tr>\n",
       "  </tbody>\n",
       "</table>\n",
       "</div>"
      ],
      "text/plain": [
       "   order_id  quantity           item_name  \\\n",
       "0        20         1  Chicken Salad Bowl   \n",
       "1        60         2  Chicken Salad Bowl   \n",
       "2        94         2  Chicken Salad Bowl   \n",
       "\n",
       "                                  choice_description item_price  new_price  \n",
       "0  [Fresh Tomato Salsa, [Fajita Vegetables, Pinto...     $8.75        8.75  \n",
       "1  [Tomatillo Green Chili Salsa, [Sour Cream, Che...    $22.50       22.50  \n",
       "2  [Fresh Tomato Salsa, [Fajita Vegetables, Pinto...    $22.50       22.50  "
      ]
     },
     "execution_count": 83,
     "metadata": {},
     "output_type": "execute_result"
    }
   ],
   "source": [
    "df_chipo[df_chipo.item_name == 'Chicken Salad Bowl'].reset_index(drop=True).head(3)"
   ]
  },
  {
   "attachments": {},
   "cell_type": "markdown",
   "metadata": {},
   "source": [
    "27. new_price값이 9 이하이고 item_name 값이 Chicken Salad Bowl 인 데이터 프레임을 추출하라"
   ]
  },
  {
   "cell_type": "code",
   "execution_count": 85,
   "metadata": {},
   "outputs": [
    {
     "data": {
      "text/html": [
       "<div>\n",
       "<style scoped>\n",
       "    .dataframe tbody tr th:only-of-type {\n",
       "        vertical-align: middle;\n",
       "    }\n",
       "\n",
       "    .dataframe tbody tr th {\n",
       "        vertical-align: top;\n",
       "    }\n",
       "\n",
       "    .dataframe thead th {\n",
       "        text-align: right;\n",
       "    }\n",
       "</style>\n",
       "<table border=\"1\" class=\"dataframe\">\n",
       "  <thead>\n",
       "    <tr style=\"text-align: right;\">\n",
       "      <th></th>\n",
       "      <th>order_id</th>\n",
       "      <th>quantity</th>\n",
       "      <th>item_name</th>\n",
       "      <th>choice_description</th>\n",
       "      <th>item_price</th>\n",
       "      <th>new_price</th>\n",
       "    </tr>\n",
       "  </thead>\n",
       "  <tbody>\n",
       "    <tr>\n",
       "      <th>44</th>\n",
       "      <td>20</td>\n",
       "      <td>1</td>\n",
       "      <td>Chicken Salad Bowl</td>\n",
       "      <td>[Fresh Tomato Salsa, [Fajita Vegetables, Pinto...</td>\n",
       "      <td>$8.75</td>\n",
       "      <td>8.75</td>\n",
       "    </tr>\n",
       "    <tr>\n",
       "      <th>256</th>\n",
       "      <td>111</td>\n",
       "      <td>1</td>\n",
       "      <td>Chicken Salad Bowl</td>\n",
       "      <td>[Fresh Tomato Salsa, [Fajita Vegetables, Rice,...</td>\n",
       "      <td>$8.75</td>\n",
       "      <td>8.75</td>\n",
       "    </tr>\n",
       "    <tr>\n",
       "      <th>526</th>\n",
       "      <td>220</td>\n",
       "      <td>1</td>\n",
       "      <td>Chicken Salad Bowl</td>\n",
       "      <td>[Roasted Chili Corn Salsa, [Black Beans, Sour ...</td>\n",
       "      <td>$8.75</td>\n",
       "      <td>8.75</td>\n",
       "    </tr>\n",
       "    <tr>\n",
       "      <th>528</th>\n",
       "      <td>221</td>\n",
       "      <td>1</td>\n",
       "      <td>Chicken Salad Bowl</td>\n",
       "      <td>[Tomatillo Green Chili Salsa, [Fajita Vegetabl...</td>\n",
       "      <td>$8.75</td>\n",
       "      <td>8.75</td>\n",
       "    </tr>\n",
       "    <tr>\n",
       "      <th>529</th>\n",
       "      <td>221</td>\n",
       "      <td>1</td>\n",
       "      <td>Chicken Salad Bowl</td>\n",
       "      <td>[Tomatillo Green Chili Salsa, [Fajita Vegetabl...</td>\n",
       "      <td>$8.75</td>\n",
       "      <td>8.75</td>\n",
       "    </tr>\n",
       "  </tbody>\n",
       "</table>\n",
       "</div>"
      ],
      "text/plain": [
       "     order_id  quantity           item_name  \\\n",
       "44         20         1  Chicken Salad Bowl   \n",
       "256       111         1  Chicken Salad Bowl   \n",
       "526       220         1  Chicken Salad Bowl   \n",
       "528       221         1  Chicken Salad Bowl   \n",
       "529       221         1  Chicken Salad Bowl   \n",
       "\n",
       "                                    choice_description item_price  new_price  \n",
       "44   [Fresh Tomato Salsa, [Fajita Vegetables, Pinto...     $8.75        8.75  \n",
       "256  [Fresh Tomato Salsa, [Fajita Vegetables, Rice,...     $8.75        8.75  \n",
       "526  [Roasted Chili Corn Salsa, [Black Beans, Sour ...     $8.75        8.75  \n",
       "528  [Tomatillo Green Chili Salsa, [Fajita Vegetabl...     $8.75        8.75  \n",
       "529  [Tomatillo Green Chili Salsa, [Fajita Vegetabl...     $8.75        8.75  "
      ]
     },
     "execution_count": 85,
     "metadata": {},
     "output_type": "execute_result"
    }
   ],
   "source": [
    "df_chipo.loc[(df_chipo.new_price <= 9)&(df_chipo.item_name == 'Chicken Salad Bowl')].head(5)"
   ]
  },
  {
   "attachments": {},
   "cell_type": "markdown",
   "metadata": {},
   "source": [
    "28. df의 new_price 컬럼 값에 따라 오름차순으로 정리하고 index를 초기화 하여라"
   ]
  },
  {
   "cell_type": "code",
   "execution_count": 89,
   "metadata": {},
   "outputs": [
    {
     "data": {
      "text/html": [
       "<div>\n",
       "<style scoped>\n",
       "    .dataframe tbody tr th:only-of-type {\n",
       "        vertical-align: middle;\n",
       "    }\n",
       "\n",
       "    .dataframe tbody tr th {\n",
       "        vertical-align: top;\n",
       "    }\n",
       "\n",
       "    .dataframe thead th {\n",
       "        text-align: right;\n",
       "    }\n",
       "</style>\n",
       "<table border=\"1\" class=\"dataframe\">\n",
       "  <thead>\n",
       "    <tr style=\"text-align: right;\">\n",
       "      <th></th>\n",
       "      <th>order_id</th>\n",
       "      <th>quantity</th>\n",
       "      <th>item_name</th>\n",
       "      <th>choice_description</th>\n",
       "      <th>item_price</th>\n",
       "      <th>new_price</th>\n",
       "    </tr>\n",
       "  </thead>\n",
       "  <tbody>\n",
       "    <tr>\n",
       "      <th>0</th>\n",
       "      <td>471</td>\n",
       "      <td>1</td>\n",
       "      <td>Bottled Water</td>\n",
       "      <td>NaN</td>\n",
       "      <td>$1.09</td>\n",
       "      <td>1.09</td>\n",
       "    </tr>\n",
       "    <tr>\n",
       "      <th>1</th>\n",
       "      <td>338</td>\n",
       "      <td>1</td>\n",
       "      <td>Canned Soda</td>\n",
       "      <td>[Coca Cola]</td>\n",
       "      <td>$1.09</td>\n",
       "      <td>1.09</td>\n",
       "    </tr>\n",
       "    <tr>\n",
       "      <th>2</th>\n",
       "      <td>1575</td>\n",
       "      <td>1</td>\n",
       "      <td>Canned Soda</td>\n",
       "      <td>[Dr. Pepper]</td>\n",
       "      <td>$1.09</td>\n",
       "      <td>1.09</td>\n",
       "    </tr>\n",
       "    <tr>\n",
       "      <th>3</th>\n",
       "      <td>47</td>\n",
       "      <td>1</td>\n",
       "      <td>Canned Soda</td>\n",
       "      <td>[Dr. Pepper]</td>\n",
       "      <td>$1.09</td>\n",
       "      <td>1.09</td>\n",
       "    </tr>\n",
       "  </tbody>\n",
       "</table>\n",
       "</div>"
      ],
      "text/plain": [
       "   order_id  quantity      item_name choice_description item_price  new_price\n",
       "0       471         1  Bottled Water                NaN     $1.09        1.09\n",
       "1       338         1    Canned Soda        [Coca Cola]     $1.09        1.09\n",
       "2      1575         1    Canned Soda       [Dr. Pepper]     $1.09        1.09\n",
       "3        47         1    Canned Soda       [Dr. Pepper]     $1.09        1.09"
      ]
     },
     "execution_count": 89,
     "metadata": {},
     "output_type": "execute_result"
    }
   ],
   "source": [
    "df_chipo.sort_values(by='new_price').reset_index(drop=True).head(4)"
   ]
  },
  {
   "attachments": {},
   "cell_type": "markdown",
   "metadata": {},
   "source": [
    "29. ★ df의 item_name 컬럼 값중 Chips 포함하는 경우의 데이터를 출력하라"
   ]
  },
  {
   "cell_type": "code",
   "execution_count": 94,
   "metadata": {},
   "outputs": [
    {
     "data": {
      "text/html": [
       "<div>\n",
       "<style scoped>\n",
       "    .dataframe tbody tr th:only-of-type {\n",
       "        vertical-align: middle;\n",
       "    }\n",
       "\n",
       "    .dataframe tbody tr th {\n",
       "        vertical-align: top;\n",
       "    }\n",
       "\n",
       "    .dataframe thead th {\n",
       "        text-align: right;\n",
       "    }\n",
       "</style>\n",
       "<table border=\"1\" class=\"dataframe\">\n",
       "  <thead>\n",
       "    <tr style=\"text-align: right;\">\n",
       "      <th></th>\n",
       "      <th>order_id</th>\n",
       "      <th>quantity</th>\n",
       "      <th>item_name</th>\n",
       "      <th>choice_description</th>\n",
       "      <th>item_price</th>\n",
       "      <th>new_price</th>\n",
       "    </tr>\n",
       "  </thead>\n",
       "  <tbody>\n",
       "    <tr>\n",
       "      <th>0</th>\n",
       "      <td>1</td>\n",
       "      <td>1</td>\n",
       "      <td>Chips and Fresh Tomato Salsa</td>\n",
       "      <td>NaN</td>\n",
       "      <td>$2.39</td>\n",
       "      <td>2.39</td>\n",
       "    </tr>\n",
       "    <tr>\n",
       "      <th>3</th>\n",
       "      <td>1</td>\n",
       "      <td>1</td>\n",
       "      <td>Chips and Tomatillo-Green Chili Salsa</td>\n",
       "      <td>NaN</td>\n",
       "      <td>$2.39</td>\n",
       "      <td>2.39</td>\n",
       "    </tr>\n",
       "    <tr>\n",
       "      <th>6</th>\n",
       "      <td>3</td>\n",
       "      <td>1</td>\n",
       "      <td>Side of Chips</td>\n",
       "      <td>NaN</td>\n",
       "      <td>$1.69</td>\n",
       "      <td>1.69</td>\n",
       "    </tr>\n",
       "    <tr>\n",
       "      <th>10</th>\n",
       "      <td>5</td>\n",
       "      <td>1</td>\n",
       "      <td>Chips and Guacamole</td>\n",
       "      <td>NaN</td>\n",
       "      <td>$4.45</td>\n",
       "      <td>4.45</td>\n",
       "    </tr>\n",
       "    <tr>\n",
       "      <th>14</th>\n",
       "      <td>7</td>\n",
       "      <td>1</td>\n",
       "      <td>Chips and Guacamole</td>\n",
       "      <td>NaN</td>\n",
       "      <td>$4.45</td>\n",
       "      <td>4.45</td>\n",
       "    </tr>\n",
       "  </tbody>\n",
       "</table>\n",
       "</div>"
      ],
      "text/plain": [
       "    order_id  quantity                              item_name  \\\n",
       "0          1         1           Chips and Fresh Tomato Salsa   \n",
       "3          1         1  Chips and Tomatillo-Green Chili Salsa   \n",
       "6          3         1                          Side of Chips   \n",
       "10         5         1                    Chips and Guacamole   \n",
       "14         7         1                    Chips and Guacamole   \n",
       "\n",
       "   choice_description item_price  new_price  \n",
       "0                 NaN     $2.39        2.39  \n",
       "3                 NaN     $2.39        2.39  \n",
       "6                 NaN     $1.69        1.69  \n",
       "10                NaN     $4.45        4.45  \n",
       "14                NaN     $4.45        4.45  "
      ]
     },
     "execution_count": 94,
     "metadata": {},
     "output_type": "execute_result"
    }
   ],
   "source": [
    "df_chipo.loc[df_chipo.item_name.str.contains('Chips')].head(5)"
   ]
  },
  {
   "attachments": {},
   "cell_type": "markdown",
   "metadata": {},
   "source": [
    "30. ★ df의 짝수번째 컬럼만을 포함하는 데이터프레임을 출력하라"
   ]
  },
  {
   "cell_type": "code",
   "execution_count": 3,
   "metadata": {},
   "outputs": [
    {
     "data": {
      "text/html": [
       "<div>\n",
       "<style scoped>\n",
       "    .dataframe tbody tr th:only-of-type {\n",
       "        vertical-align: middle;\n",
       "    }\n",
       "\n",
       "    .dataframe tbody tr th {\n",
       "        vertical-align: top;\n",
       "    }\n",
       "\n",
       "    .dataframe thead th {\n",
       "        text-align: right;\n",
       "    }\n",
       "</style>\n",
       "<table border=\"1\" class=\"dataframe\">\n",
       "  <thead>\n",
       "    <tr style=\"text-align: right;\">\n",
       "      <th></th>\n",
       "      <th>order_id</th>\n",
       "      <th>item_name</th>\n",
       "      <th>item_price</th>\n",
       "    </tr>\n",
       "  </thead>\n",
       "  <tbody>\n",
       "    <tr>\n",
       "      <th>0</th>\n",
       "      <td>1</td>\n",
       "      <td>Chips and Fresh Tomato Salsa</td>\n",
       "      <td>$2.39</td>\n",
       "    </tr>\n",
       "    <tr>\n",
       "      <th>1</th>\n",
       "      <td>1</td>\n",
       "      <td>Izze</td>\n",
       "      <td>$3.39</td>\n",
       "    </tr>\n",
       "    <tr>\n",
       "      <th>2</th>\n",
       "      <td>1</td>\n",
       "      <td>Nantucket Nectar</td>\n",
       "      <td>$3.39</td>\n",
       "    </tr>\n",
       "    <tr>\n",
       "      <th>3</th>\n",
       "      <td>1</td>\n",
       "      <td>Chips and Tomatillo-Green Chili Salsa</td>\n",
       "      <td>$2.39</td>\n",
       "    </tr>\n",
       "    <tr>\n",
       "      <th>4</th>\n",
       "      <td>2</td>\n",
       "      <td>Chicken Bowl</td>\n",
       "      <td>$16.98</td>\n",
       "    </tr>\n",
       "  </tbody>\n",
       "</table>\n",
       "</div>"
      ],
      "text/plain": [
       "   order_id                              item_name item_price\n",
       "0         1           Chips and Fresh Tomato Salsa     $2.39 \n",
       "1         1                                   Izze     $3.39 \n",
       "2         1                       Nantucket Nectar     $3.39 \n",
       "3         1  Chips and Tomatillo-Green Chili Salsa     $2.39 \n",
       "4         2                           Chicken Bowl    $16.98 "
      ]
     },
     "execution_count": 3,
     "metadata": {},
     "output_type": "execute_result"
    }
   ],
   "source": [
    "df_chipo.iloc[:, ::2].head(5)"
   ]
  },
  {
   "attachments": {},
   "cell_type": "markdown",
   "metadata": {},
   "source": [
    "31. df의 new_price 컬럼 값에 따라 내림차순으로 정리하고 index를 초기화 하여라"
   ]
  },
  {
   "cell_type": "code",
   "execution_count": 7,
   "metadata": {},
   "outputs": [
    {
     "data": {
      "text/html": [
       "<div>\n",
       "<style scoped>\n",
       "    .dataframe tbody tr th:only-of-type {\n",
       "        vertical-align: middle;\n",
       "    }\n",
       "\n",
       "    .dataframe tbody tr th {\n",
       "        vertical-align: top;\n",
       "    }\n",
       "\n",
       "    .dataframe thead th {\n",
       "        text-align: right;\n",
       "    }\n",
       "</style>\n",
       "<table border=\"1\" class=\"dataframe\">\n",
       "  <thead>\n",
       "    <tr style=\"text-align: right;\">\n",
       "      <th></th>\n",
       "      <th>order_id</th>\n",
       "      <th>quantity</th>\n",
       "      <th>item_name</th>\n",
       "      <th>choice_description</th>\n",
       "      <th>item_price</th>\n",
       "      <th>new_price</th>\n",
       "    </tr>\n",
       "  </thead>\n",
       "  <tbody>\n",
       "    <tr>\n",
       "      <th>0</th>\n",
       "      <td>1443</td>\n",
       "      <td>15</td>\n",
       "      <td>Chips and Fresh Tomato Salsa</td>\n",
       "      <td>NaN</td>\n",
       "      <td>$44.25</td>\n",
       "      <td>44.25</td>\n",
       "    </tr>\n",
       "    <tr>\n",
       "      <th>1</th>\n",
       "      <td>1398</td>\n",
       "      <td>3</td>\n",
       "      <td>Carnitas Bowl</td>\n",
       "      <td>[Roasted Chili Corn Salsa, [Fajita Vegetables,...</td>\n",
       "      <td>$35.25</td>\n",
       "      <td>35.25</td>\n",
       "    </tr>\n",
       "    <tr>\n",
       "      <th>2</th>\n",
       "      <td>511</td>\n",
       "      <td>4</td>\n",
       "      <td>Chicken Burrito</td>\n",
       "      <td>[Fresh Tomato Salsa, [Fajita Vegetables, Rice,...</td>\n",
       "      <td>$35.00</td>\n",
       "      <td>35.00</td>\n",
       "    </tr>\n",
       "    <tr>\n",
       "      <th>3</th>\n",
       "      <td>1443</td>\n",
       "      <td>4</td>\n",
       "      <td>Chicken Burrito</td>\n",
       "      <td>[Fresh Tomato Salsa, [Rice, Black Beans, Chees...</td>\n",
       "      <td>$35.00</td>\n",
       "      <td>35.00</td>\n",
       "    </tr>\n",
       "  </tbody>\n",
       "</table>\n",
       "</div>"
      ],
      "text/plain": [
       "   order_id  quantity                     item_name  \\\n",
       "0      1443        15  Chips and Fresh Tomato Salsa   \n",
       "1      1398         3                 Carnitas Bowl   \n",
       "2       511         4               Chicken Burrito   \n",
       "3      1443         4               Chicken Burrito   \n",
       "\n",
       "                                  choice_description item_price  new_price  \n",
       "0                                                NaN    $44.25       44.25  \n",
       "1  [Roasted Chili Corn Salsa, [Fajita Vegetables,...    $35.25       35.25  \n",
       "2  [Fresh Tomato Salsa, [Fajita Vegetables, Rice,...    $35.00       35.00  \n",
       "3  [Fresh Tomato Salsa, [Rice, Black Beans, Chees...    $35.00       35.00  "
      ]
     },
     "execution_count": 7,
     "metadata": {},
     "output_type": "execute_result"
    }
   ],
   "source": [
    "df_chipo.sort_values(by='new_price', ascending=False).reset_index(drop=True).head(4)"
   ]
  },
  {
   "attachments": {},
   "cell_type": "markdown",
   "metadata": {},
   "source": [
    "32. df의 item_name 컬럼 값이 Steak Salad 또는 Bowl 인 데이터를 인덱싱하라"
   ]
  },
  {
   "cell_type": "code",
   "execution_count": 9,
   "metadata": {},
   "outputs": [
    {
     "data": {
      "text/html": [
       "<div>\n",
       "<style scoped>\n",
       "    .dataframe tbody tr th:only-of-type {\n",
       "        vertical-align: middle;\n",
       "    }\n",
       "\n",
       "    .dataframe tbody tr th {\n",
       "        vertical-align: top;\n",
       "    }\n",
       "\n",
       "    .dataframe thead th {\n",
       "        text-align: right;\n",
       "    }\n",
       "</style>\n",
       "<table border=\"1\" class=\"dataframe\">\n",
       "  <thead>\n",
       "    <tr style=\"text-align: right;\">\n",
       "      <th></th>\n",
       "      <th>order_id</th>\n",
       "      <th>quantity</th>\n",
       "      <th>item_name</th>\n",
       "      <th>choice_description</th>\n",
       "      <th>item_price</th>\n",
       "      <th>new_price</th>\n",
       "    </tr>\n",
       "  </thead>\n",
       "  <tbody>\n",
       "    <tr>\n",
       "      <th>445</th>\n",
       "      <td>193</td>\n",
       "      <td>3</td>\n",
       "      <td>Bowl</td>\n",
       "      <td>[Braised Carnitas, Pinto Beans, [Sour Cream, C...</td>\n",
       "      <td>$22.20</td>\n",
       "      <td>22.20</td>\n",
       "    </tr>\n",
       "    <tr>\n",
       "      <th>664</th>\n",
       "      <td>276</td>\n",
       "      <td>1</td>\n",
       "      <td>Steak Salad</td>\n",
       "      <td>[Tomatillo-Red Chili Salsa (Hot), [Black Beans...</td>\n",
       "      <td>$8.99</td>\n",
       "      <td>8.99</td>\n",
       "    </tr>\n",
       "    <tr>\n",
       "      <th>673</th>\n",
       "      <td>279</td>\n",
       "      <td>1</td>\n",
       "      <td>Bowl</td>\n",
       "      <td>[Adobo-Marinated and Grilled Steak, [Sour Crea...</td>\n",
       "      <td>$7.40</td>\n",
       "      <td>7.40</td>\n",
       "    </tr>\n",
       "    <tr>\n",
       "      <th>752</th>\n",
       "      <td>311</td>\n",
       "      <td>1</td>\n",
       "      <td>Steak Salad</td>\n",
       "      <td>[Tomatillo-Red Chili Salsa (Hot), [Black Beans...</td>\n",
       "      <td>$8.99</td>\n",
       "      <td>8.99</td>\n",
       "    </tr>\n",
       "    <tr>\n",
       "      <th>893</th>\n",
       "      <td>369</td>\n",
       "      <td>1</td>\n",
       "      <td>Steak Salad</td>\n",
       "      <td>[Fresh Tomato Salsa (Mild), [Rice, Cheese, Sou...</td>\n",
       "      <td>$8.99</td>\n",
       "      <td>8.99</td>\n",
       "    </tr>\n",
       "    <tr>\n",
       "      <th>3502</th>\n",
       "      <td>1406</td>\n",
       "      <td>1</td>\n",
       "      <td>Steak Salad</td>\n",
       "      <td>[[Lettuce, Fajita Veggies]]</td>\n",
       "      <td>$8.69</td>\n",
       "      <td>8.69</td>\n",
       "    </tr>\n",
       "  </tbody>\n",
       "</table>\n",
       "</div>"
      ],
      "text/plain": [
       "      order_id  quantity    item_name  \\\n",
       "445        193         3         Bowl   \n",
       "664        276         1  Steak Salad   \n",
       "673        279         1         Bowl   \n",
       "752        311         1  Steak Salad   \n",
       "893        369         1  Steak Salad   \n",
       "3502      1406         1  Steak Salad   \n",
       "\n",
       "                                     choice_description item_price  new_price  \n",
       "445   [Braised Carnitas, Pinto Beans, [Sour Cream, C...    $22.20       22.20  \n",
       "664   [Tomatillo-Red Chili Salsa (Hot), [Black Beans...     $8.99        8.99  \n",
       "673   [Adobo-Marinated and Grilled Steak, [Sour Crea...     $7.40        7.40  \n",
       "752   [Tomatillo-Red Chili Salsa (Hot), [Black Beans...     $8.99        8.99  \n",
       "893   [Fresh Tomato Salsa (Mild), [Rice, Cheese, Sou...     $8.99        8.99  \n",
       "3502                        [[Lettuce, Fajita Veggies]]     $8.69        8.69  "
      ]
     },
     "execution_count": 9,
     "metadata": {},
     "output_type": "execute_result"
    }
   ],
   "source": [
    "df_chipo.loc[(df_chipo.item_name == 'Steak Salad')|(df_chipo.item_name == 'Bowl')]"
   ]
  },
  {
   "attachments": {},
   "cell_type": "markdown",
   "metadata": {},
   "source": [
    "33. ★ df의 item_name 컬럼 값이 Steak Salad 또는 Bowl 인 데이터를 데이터 프레임화 한 후, item_name를 기준으로 중복행이 있으면 제거하되 첫번째 케이스만 남겨라"
   ]
  },
  {
   "cell_type": "code",
   "execution_count": 11,
   "metadata": {},
   "outputs": [
    {
     "data": {
      "text/html": [
       "<div>\n",
       "<style scoped>\n",
       "    .dataframe tbody tr th:only-of-type {\n",
       "        vertical-align: middle;\n",
       "    }\n",
       "\n",
       "    .dataframe tbody tr th {\n",
       "        vertical-align: top;\n",
       "    }\n",
       "\n",
       "    .dataframe thead th {\n",
       "        text-align: right;\n",
       "    }\n",
       "</style>\n",
       "<table border=\"1\" class=\"dataframe\">\n",
       "  <thead>\n",
       "    <tr style=\"text-align: right;\">\n",
       "      <th></th>\n",
       "      <th>order_id</th>\n",
       "      <th>quantity</th>\n",
       "      <th>item_name</th>\n",
       "      <th>choice_description</th>\n",
       "      <th>item_price</th>\n",
       "      <th>new_price</th>\n",
       "    </tr>\n",
       "  </thead>\n",
       "  <tbody>\n",
       "    <tr>\n",
       "      <th>445</th>\n",
       "      <td>193</td>\n",
       "      <td>3</td>\n",
       "      <td>Bowl</td>\n",
       "      <td>[Braised Carnitas, Pinto Beans, [Sour Cream, C...</td>\n",
       "      <td>$22.20</td>\n",
       "      <td>22.20</td>\n",
       "    </tr>\n",
       "    <tr>\n",
       "      <th>664</th>\n",
       "      <td>276</td>\n",
       "      <td>1</td>\n",
       "      <td>Steak Salad</td>\n",
       "      <td>[Tomatillo-Red Chili Salsa (Hot), [Black Beans...</td>\n",
       "      <td>$8.99</td>\n",
       "      <td>8.99</td>\n",
       "    </tr>\n",
       "  </tbody>\n",
       "</table>\n",
       "</div>"
      ],
      "text/plain": [
       "     order_id  quantity    item_name  \\\n",
       "445       193         3         Bowl   \n",
       "664       276         1  Steak Salad   \n",
       "\n",
       "                                    choice_description item_price  new_price  \n",
       "445  [Braised Carnitas, Pinto Beans, [Sour Cream, C...    $22.20       22.20  \n",
       "664  [Tomatillo-Red Chili Salsa (Hot), [Black Beans...     $8.99        8.99  "
      ]
     },
     "execution_count": 11,
     "metadata": {},
     "output_type": "execute_result"
    }
   ],
   "source": [
    "df_chipo2 = df_chipo.loc[(df_chipo.item_name == 'Steak Salad')|(df_chipo.item_name == 'Bowl')]\n",
    "df_chipo2.drop_duplicates('item_name')"
   ]
  },
  {
   "attachments": {},
   "cell_type": "markdown",
   "metadata": {},
   "source": [
    "34. df의 item_name 컬럼 값이 Steak Salad 또는 Bowl 인 데이터를 데이터 프레임화 한 후, item_name를 기준으로 중복행이 있으면 제거하되 마지막 케이스만 남겨라"
   ]
  },
  {
   "cell_type": "code",
   "execution_count": 12,
   "metadata": {},
   "outputs": [
    {
     "data": {
      "text/html": [
       "<div>\n",
       "<style scoped>\n",
       "    .dataframe tbody tr th:only-of-type {\n",
       "        vertical-align: middle;\n",
       "    }\n",
       "\n",
       "    .dataframe tbody tr th {\n",
       "        vertical-align: top;\n",
       "    }\n",
       "\n",
       "    .dataframe thead th {\n",
       "        text-align: right;\n",
       "    }\n",
       "</style>\n",
       "<table border=\"1\" class=\"dataframe\">\n",
       "  <thead>\n",
       "    <tr style=\"text-align: right;\">\n",
       "      <th></th>\n",
       "      <th>order_id</th>\n",
       "      <th>quantity</th>\n",
       "      <th>item_name</th>\n",
       "      <th>choice_description</th>\n",
       "      <th>item_price</th>\n",
       "      <th>new_price</th>\n",
       "    </tr>\n",
       "  </thead>\n",
       "  <tbody>\n",
       "    <tr>\n",
       "      <th>673</th>\n",
       "      <td>279</td>\n",
       "      <td>1</td>\n",
       "      <td>Bowl</td>\n",
       "      <td>[Adobo-Marinated and Grilled Steak, [Sour Crea...</td>\n",
       "      <td>$7.40</td>\n",
       "      <td>7.40</td>\n",
       "    </tr>\n",
       "    <tr>\n",
       "      <th>3502</th>\n",
       "      <td>1406</td>\n",
       "      <td>1</td>\n",
       "      <td>Steak Salad</td>\n",
       "      <td>[[Lettuce, Fajita Veggies]]</td>\n",
       "      <td>$8.69</td>\n",
       "      <td>8.69</td>\n",
       "    </tr>\n",
       "  </tbody>\n",
       "</table>\n",
       "</div>"
      ],
      "text/plain": [
       "      order_id  quantity    item_name  \\\n",
       "673        279         1         Bowl   \n",
       "3502      1406         1  Steak Salad   \n",
       "\n",
       "                                     choice_description item_price  new_price  \n",
       "673   [Adobo-Marinated and Grilled Steak, [Sour Crea...     $7.40        7.40  \n",
       "3502                        [[Lettuce, Fajita Veggies]]     $8.69        8.69  "
      ]
     },
     "execution_count": 12,
     "metadata": {},
     "output_type": "execute_result"
    }
   ],
   "source": [
    "df_chipo2 = df_chipo.loc[(df_chipo.item_name == 'Steak Salad')|(df_chipo.item_name == 'Bowl')]\n",
    "df_chipo2.drop_duplicates('item_name', keep='last')"
   ]
  },
  {
   "attachments": {},
   "cell_type": "markdown",
   "metadata": {},
   "source": [
    "35. df의 데이터 중 new_price값이 new_price값의 평균값 이상을 가지는 데이터들을 인덱싱하라"
   ]
  },
  {
   "cell_type": "code",
   "execution_count": 15,
   "metadata": {},
   "outputs": [
    {
     "data": {
      "text/html": [
       "<div>\n",
       "<style scoped>\n",
       "    .dataframe tbody tr th:only-of-type {\n",
       "        vertical-align: middle;\n",
       "    }\n",
       "\n",
       "    .dataframe tbody tr th {\n",
       "        vertical-align: top;\n",
       "    }\n",
       "\n",
       "    .dataframe thead th {\n",
       "        text-align: right;\n",
       "    }\n",
       "</style>\n",
       "<table border=\"1\" class=\"dataframe\">\n",
       "  <thead>\n",
       "    <tr style=\"text-align: right;\">\n",
       "      <th></th>\n",
       "      <th>order_id</th>\n",
       "      <th>quantity</th>\n",
       "      <th>item_name</th>\n",
       "      <th>choice_description</th>\n",
       "      <th>item_price</th>\n",
       "      <th>new_price</th>\n",
       "    </tr>\n",
       "  </thead>\n",
       "  <tbody>\n",
       "    <tr>\n",
       "      <th>4</th>\n",
       "      <td>2</td>\n",
       "      <td>2</td>\n",
       "      <td>Chicken Bowl</td>\n",
       "      <td>[Tomatillo-Red Chili Salsa (Hot), [Black Beans...</td>\n",
       "      <td>$16.98</td>\n",
       "      <td>16.98</td>\n",
       "    </tr>\n",
       "    <tr>\n",
       "      <th>5</th>\n",
       "      <td>3</td>\n",
       "      <td>1</td>\n",
       "      <td>Chicken Bowl</td>\n",
       "      <td>[Fresh Tomato Salsa (Mild), [Rice, Cheese, Sou...</td>\n",
       "      <td>$10.98</td>\n",
       "      <td>10.98</td>\n",
       "    </tr>\n",
       "    <tr>\n",
       "      <th>7</th>\n",
       "      <td>4</td>\n",
       "      <td>1</td>\n",
       "      <td>Steak Burrito</td>\n",
       "      <td>[Tomatillo Red Chili Salsa, [Fajita Vegetables...</td>\n",
       "      <td>$11.75</td>\n",
       "      <td>11.75</td>\n",
       "    </tr>\n",
       "    <tr>\n",
       "      <th>8</th>\n",
       "      <td>4</td>\n",
       "      <td>1</td>\n",
       "      <td>Steak Soft Tacos</td>\n",
       "      <td>[Tomatillo Green Chili Salsa, [Pinto Beans, Ch...</td>\n",
       "      <td>$9.25</td>\n",
       "      <td>9.25</td>\n",
       "    </tr>\n",
       "    <tr>\n",
       "      <th>9</th>\n",
       "      <td>5</td>\n",
       "      <td>1</td>\n",
       "      <td>Steak Burrito</td>\n",
       "      <td>[Fresh Tomato Salsa, [Rice, Black Beans, Pinto...</td>\n",
       "      <td>$9.25</td>\n",
       "      <td>9.25</td>\n",
       "    </tr>\n",
       "  </tbody>\n",
       "</table>\n",
       "</div>"
      ],
      "text/plain": [
       "   order_id  quantity         item_name  \\\n",
       "4         2         2      Chicken Bowl   \n",
       "5         3         1      Chicken Bowl   \n",
       "7         4         1     Steak Burrito   \n",
       "8         4         1  Steak Soft Tacos   \n",
       "9         5         1     Steak Burrito   \n",
       "\n",
       "                                  choice_description item_price  new_price  \n",
       "4  [Tomatillo-Red Chili Salsa (Hot), [Black Beans...    $16.98       16.98  \n",
       "5  [Fresh Tomato Salsa (Mild), [Rice, Cheese, Sou...    $10.98       10.98  \n",
       "7  [Tomatillo Red Chili Salsa, [Fajita Vegetables...    $11.75       11.75  \n",
       "8  [Tomatillo Green Chili Salsa, [Pinto Beans, Ch...     $9.25        9.25  \n",
       "9  [Fresh Tomato Salsa, [Rice, Black Beans, Pinto...     $9.25        9.25  "
      ]
     },
     "execution_count": 15,
     "metadata": {},
     "output_type": "execute_result"
    }
   ],
   "source": [
    "df_chipo.loc[df_chipo.new_price >= df_chipo.new_price.mean()].head(5)"
   ]
  },
  {
   "attachments": {},
   "cell_type": "markdown",
   "metadata": {},
   "source": [
    "36. df의 데이터 중 item_name의 값이 Izze 데이터를 Fizzy Lizzy로 수정하라"
   ]
  },
  {
   "cell_type": "code",
   "execution_count": 23,
   "metadata": {},
   "outputs": [
    {
     "data": {
      "text/html": [
       "<div>\n",
       "<style scoped>\n",
       "    .dataframe tbody tr th:only-of-type {\n",
       "        vertical-align: middle;\n",
       "    }\n",
       "\n",
       "    .dataframe tbody tr th {\n",
       "        vertical-align: top;\n",
       "    }\n",
       "\n",
       "    .dataframe thead th {\n",
       "        text-align: right;\n",
       "    }\n",
       "</style>\n",
       "<table border=\"1\" class=\"dataframe\">\n",
       "  <thead>\n",
       "    <tr style=\"text-align: right;\">\n",
       "      <th></th>\n",
       "      <th>order_id</th>\n",
       "      <th>quantity</th>\n",
       "      <th>item_name</th>\n",
       "      <th>choice_description</th>\n",
       "      <th>item_price</th>\n",
       "      <th>new_price</th>\n",
       "    </tr>\n",
       "  </thead>\n",
       "  <tbody>\n",
       "    <tr>\n",
       "      <th>0</th>\n",
       "      <td>1</td>\n",
       "      <td>1</td>\n",
       "      <td>Chips and Fresh Tomato Salsa</td>\n",
       "      <td>NaN</td>\n",
       "      <td>$2.39</td>\n",
       "      <td>2.39</td>\n",
       "    </tr>\n",
       "    <tr>\n",
       "      <th>1</th>\n",
       "      <td>1</td>\n",
       "      <td>1</td>\n",
       "      <td>Fizzy Lizzy</td>\n",
       "      <td>[Clementine]</td>\n",
       "      <td>$3.39</td>\n",
       "      <td>3.39</td>\n",
       "    </tr>\n",
       "    <tr>\n",
       "      <th>2</th>\n",
       "      <td>1</td>\n",
       "      <td>1</td>\n",
       "      <td>Nantucket Nectar</td>\n",
       "      <td>[Apple]</td>\n",
       "      <td>$3.39</td>\n",
       "      <td>3.39</td>\n",
       "    </tr>\n",
       "  </tbody>\n",
       "</table>\n",
       "</div>"
      ],
      "text/plain": [
       "  order_id quantity                     item_name choice_description  \\\n",
       "0        1        1  Chips and Fresh Tomato Salsa                NaN   \n",
       "1        1        1                   Fizzy Lizzy       [Clementine]   \n",
       "2        1        1              Nantucket Nectar            [Apple]   \n",
       "\n",
       "  item_price new_price  \n",
       "0     $2.39       2.39  \n",
       "1     $3.39       3.39  \n",
       "2     $3.39       3.39  "
      ]
     },
     "execution_count": 23,
     "metadata": {},
     "output_type": "execute_result"
    }
   ],
   "source": [
    "df_chipo3 = df_chipo.copy()\n",
    "df_chipo3.loc[df_chipo3['item_name']=='Izze', 'item_name'] = 'Fizzy Lizzy'\n",
    "df_chipo3.head(3)"
   ]
  },
  {
   "attachments": {},
   "cell_type": "markdown",
   "metadata": {},
   "source": [
    "37. df의 데이터 중 choice_description 값이 NaN 인 데이터의 갯수를 구하여라"
   ]
  },
  {
   "cell_type": "code",
   "execution_count": 27,
   "metadata": {},
   "outputs": [
    {
     "data": {
      "text/plain": [
       "1246"
      ]
     },
     "execution_count": 27,
     "metadata": {},
     "output_type": "execute_result"
    }
   ],
   "source": [
    "df_chipo.choice_description.isnull().sum()"
   ]
  },
  {
   "attachments": {},
   "cell_type": "markdown",
   "metadata": {},
   "source": [
    "38. df의 데이터 중 choice_description 값이 NaN 인 데이터를 NoData 값으로 대체하라(loc 이용)"
   ]
  },
  {
   "cell_type": "code",
   "execution_count": 28,
   "metadata": {},
   "outputs": [
    {
     "data": {
      "text/html": [
       "<div>\n",
       "<style scoped>\n",
       "    .dataframe tbody tr th:only-of-type {\n",
       "        vertical-align: middle;\n",
       "    }\n",
       "\n",
       "    .dataframe tbody tr th {\n",
       "        vertical-align: top;\n",
       "    }\n",
       "\n",
       "    .dataframe thead th {\n",
       "        text-align: right;\n",
       "    }\n",
       "</style>\n",
       "<table border=\"1\" class=\"dataframe\">\n",
       "  <thead>\n",
       "    <tr style=\"text-align: right;\">\n",
       "      <th></th>\n",
       "      <th>order_id</th>\n",
       "      <th>quantity</th>\n",
       "      <th>item_name</th>\n",
       "      <th>choice_description</th>\n",
       "      <th>item_price</th>\n",
       "      <th>new_price</th>\n",
       "    </tr>\n",
       "  </thead>\n",
       "  <tbody>\n",
       "    <tr>\n",
       "      <th>0</th>\n",
       "      <td>1</td>\n",
       "      <td>1</td>\n",
       "      <td>Chips and Fresh Tomato Salsa</td>\n",
       "      <td>NoData</td>\n",
       "      <td>$2.39</td>\n",
       "      <td>2.39</td>\n",
       "    </tr>\n",
       "    <tr>\n",
       "      <th>1</th>\n",
       "      <td>1</td>\n",
       "      <td>1</td>\n",
       "      <td>Fizzy Lizzy</td>\n",
       "      <td>[Clementine]</td>\n",
       "      <td>$3.39</td>\n",
       "      <td>3.39</td>\n",
       "    </tr>\n",
       "    <tr>\n",
       "      <th>2</th>\n",
       "      <td>1</td>\n",
       "      <td>1</td>\n",
       "      <td>Nantucket Nectar</td>\n",
       "      <td>[Apple]</td>\n",
       "      <td>$3.39</td>\n",
       "      <td>3.39</td>\n",
       "    </tr>\n",
       "    <tr>\n",
       "      <th>3</th>\n",
       "      <td>1</td>\n",
       "      <td>1</td>\n",
       "      <td>Chips and Tomatillo-Green Chili Salsa</td>\n",
       "      <td>NoData</td>\n",
       "      <td>$2.39</td>\n",
       "      <td>2.39</td>\n",
       "    </tr>\n",
       "    <tr>\n",
       "      <th>4</th>\n",
       "      <td>2</td>\n",
       "      <td>2</td>\n",
       "      <td>Chicken Bowl</td>\n",
       "      <td>[Tomatillo-Red Chili Salsa (Hot), [Black Beans...</td>\n",
       "      <td>$16.98</td>\n",
       "      <td>16.98</td>\n",
       "    </tr>\n",
       "  </tbody>\n",
       "</table>\n",
       "</div>"
      ],
      "text/plain": [
       "  order_id quantity                              item_name  \\\n",
       "0        1        1           Chips and Fresh Tomato Salsa   \n",
       "1        1        1                            Fizzy Lizzy   \n",
       "2        1        1                       Nantucket Nectar   \n",
       "3        1        1  Chips and Tomatillo-Green Chili Salsa   \n",
       "4        2        2                           Chicken Bowl   \n",
       "\n",
       "                                  choice_description item_price new_price  \n",
       "0                                             NoData     $2.39       2.39  \n",
       "1                                       [Clementine]     $3.39       3.39  \n",
       "2                                            [Apple]     $3.39       3.39  \n",
       "3                                             NoData     $2.39       2.39  \n",
       "4  [Tomatillo-Red Chili Salsa (Hot), [Black Beans...    $16.98      16.98  "
      ]
     },
     "execution_count": 28,
     "metadata": {},
     "output_type": "execute_result"
    }
   ],
   "source": [
    "df_chipo3.loc[df_chipo3.choice_description.isnull(), 'choice_description'] = 'NoData'\n",
    "df_chipo3.head()"
   ]
  },
  {
   "attachments": {},
   "cell_type": "markdown",
   "metadata": {},
   "source": [
    "39. ★ df의 데이터 중 choice_description 값에 Black이 들어가는 경우를 인덱싱하라"
   ]
  },
  {
   "cell_type": "code",
   "execution_count": 30,
   "metadata": {},
   "outputs": [
    {
     "data": {
      "text/html": [
       "<div>\n",
       "<style scoped>\n",
       "    .dataframe tbody tr th:only-of-type {\n",
       "        vertical-align: middle;\n",
       "    }\n",
       "\n",
       "    .dataframe tbody tr th {\n",
       "        vertical-align: top;\n",
       "    }\n",
       "\n",
       "    .dataframe thead th {\n",
       "        text-align: right;\n",
       "    }\n",
       "</style>\n",
       "<table border=\"1\" class=\"dataframe\">\n",
       "  <thead>\n",
       "    <tr style=\"text-align: right;\">\n",
       "      <th></th>\n",
       "      <th>order_id</th>\n",
       "      <th>quantity</th>\n",
       "      <th>item_name</th>\n",
       "      <th>choice_description</th>\n",
       "      <th>item_price</th>\n",
       "      <th>new_price</th>\n",
       "    </tr>\n",
       "  </thead>\n",
       "  <tbody>\n",
       "    <tr>\n",
       "      <th>4</th>\n",
       "      <td>2</td>\n",
       "      <td>2</td>\n",
       "      <td>Chicken Bowl</td>\n",
       "      <td>[Tomatillo-Red Chili Salsa (Hot), [Black Beans...</td>\n",
       "      <td>$16.98</td>\n",
       "      <td>16.98</td>\n",
       "    </tr>\n",
       "    <tr>\n",
       "      <th>7</th>\n",
       "      <td>4</td>\n",
       "      <td>1</td>\n",
       "      <td>Steak Burrito</td>\n",
       "      <td>[Tomatillo Red Chili Salsa, [Fajita Vegetables...</td>\n",
       "      <td>$11.75</td>\n",
       "      <td>11.75</td>\n",
       "    </tr>\n",
       "    <tr>\n",
       "      <th>9</th>\n",
       "      <td>5</td>\n",
       "      <td>1</td>\n",
       "      <td>Steak Burrito</td>\n",
       "      <td>[Fresh Tomato Salsa, [Rice, Black Beans, Pinto...</td>\n",
       "      <td>$9.25</td>\n",
       "      <td>9.25</td>\n",
       "    </tr>\n",
       "    <tr>\n",
       "      <th>11</th>\n",
       "      <td>6</td>\n",
       "      <td>1</td>\n",
       "      <td>Chicken Crispy Tacos</td>\n",
       "      <td>[Roasted Chili Corn Salsa, [Fajita Vegetables,...</td>\n",
       "      <td>$8.75</td>\n",
       "      <td>8.75</td>\n",
       "    </tr>\n",
       "    <tr>\n",
       "      <th>12</th>\n",
       "      <td>6</td>\n",
       "      <td>1</td>\n",
       "      <td>Chicken Soft Tacos</td>\n",
       "      <td>[Roasted Chili Corn Salsa, [Rice, Black Beans,...</td>\n",
       "      <td>$8.75</td>\n",
       "      <td>8.75</td>\n",
       "    </tr>\n",
       "  </tbody>\n",
       "</table>\n",
       "</div>"
      ],
      "text/plain": [
       "   order_id quantity             item_name  \\\n",
       "4         2        2          Chicken Bowl   \n",
       "7         4        1         Steak Burrito   \n",
       "9         5        1         Steak Burrito   \n",
       "11        6        1  Chicken Crispy Tacos   \n",
       "12        6        1    Chicken Soft Tacos   \n",
       "\n",
       "                                   choice_description item_price new_price  \n",
       "4   [Tomatillo-Red Chili Salsa (Hot), [Black Beans...    $16.98      16.98  \n",
       "7   [Tomatillo Red Chili Salsa, [Fajita Vegetables...    $11.75      11.75  \n",
       "9   [Fresh Tomato Salsa, [Rice, Black Beans, Pinto...     $9.25       9.25  \n",
       "11  [Roasted Chili Corn Salsa, [Fajita Vegetables,...     $8.75       8.75  \n",
       "12  [Roasted Chili Corn Salsa, [Rice, Black Beans,...     $8.75       8.75  "
      ]
     },
     "execution_count": 30,
     "metadata": {},
     "output_type": "execute_result"
    }
   ],
   "source": [
    "df_chipo3.loc[df_chipo3.choice_description.str.contains('Black')].head()"
   ]
  },
  {
   "attachments": {},
   "cell_type": "markdown",
   "metadata": {},
   "source": [
    "40. df의 데이터 중 choice_description 값에 Vegetables 들어가지 않는 경우의 갯수를 출력하라"
   ]
  },
  {
   "cell_type": "code",
   "execution_count": 33,
   "metadata": {},
   "outputs": [
    {
     "data": {
      "text/plain": [
       "3900"
      ]
     },
     "execution_count": 33,
     "metadata": {},
     "output_type": "execute_result"
    }
   ],
   "source": [
    "df_chipo3.loc[~df_chipo3.choice_description.str.contains('Vegetables'), 'choice_description'].count()"
   ]
  },
  {
   "attachments": {},
   "cell_type": "markdown",
   "metadata": {},
   "source": [
    "41. ★ df의 데이터 중 item_name 값이 N으로 시작하는 데이터를 모두 추출하라"
   ]
  },
  {
   "cell_type": "code",
   "execution_count": 35,
   "metadata": {},
   "outputs": [
    {
     "data": {
      "text/html": [
       "<div>\n",
       "<style scoped>\n",
       "    .dataframe tbody tr th:only-of-type {\n",
       "        vertical-align: middle;\n",
       "    }\n",
       "\n",
       "    .dataframe tbody tr th {\n",
       "        vertical-align: top;\n",
       "    }\n",
       "\n",
       "    .dataframe thead th {\n",
       "        text-align: right;\n",
       "    }\n",
       "</style>\n",
       "<table border=\"1\" class=\"dataframe\">\n",
       "  <thead>\n",
       "    <tr style=\"text-align: right;\">\n",
       "      <th></th>\n",
       "      <th>order_id</th>\n",
       "      <th>quantity</th>\n",
       "      <th>item_name</th>\n",
       "      <th>choice_description</th>\n",
       "      <th>item_price</th>\n",
       "      <th>new_price</th>\n",
       "    </tr>\n",
       "  </thead>\n",
       "  <tbody>\n",
       "    <tr>\n",
       "      <th>2</th>\n",
       "      <td>1</td>\n",
       "      <td>1</td>\n",
       "      <td>Nantucket Nectar</td>\n",
       "      <td>[Apple]</td>\n",
       "      <td>$3.39</td>\n",
       "      <td>3.39</td>\n",
       "    </tr>\n",
       "    <tr>\n",
       "      <th>22</th>\n",
       "      <td>11</td>\n",
       "      <td>1</td>\n",
       "      <td>Nantucket Nectar</td>\n",
       "      <td>[Pomegranate Cherry]</td>\n",
       "      <td>$3.39</td>\n",
       "      <td>3.39</td>\n",
       "    </tr>\n",
       "    <tr>\n",
       "      <th>105</th>\n",
       "      <td>46</td>\n",
       "      <td>1</td>\n",
       "      <td>Nantucket Nectar</td>\n",
       "      <td>[Pineapple Orange Banana]</td>\n",
       "      <td>$3.39</td>\n",
       "      <td>3.39</td>\n",
       "    </tr>\n",
       "  </tbody>\n",
       "</table>\n",
       "</div>"
      ],
      "text/plain": [
       "    order_id quantity         item_name         choice_description item_price  \\\n",
       "2          1        1  Nantucket Nectar                    [Apple]     $3.39    \n",
       "22        11        1  Nantucket Nectar       [Pomegranate Cherry]     $3.39    \n",
       "105       46        1  Nantucket Nectar  [Pineapple Orange Banana]     $3.39    \n",
       "\n",
       "    new_price  \n",
       "2        3.39  \n",
       "22       3.39  \n",
       "105      3.39  "
      ]
     },
     "execution_count": 35,
     "metadata": {},
     "output_type": "execute_result"
    }
   ],
   "source": [
    "df_chipo3.loc[df_chipo3.item_name.str.startswith('N')].head(3)"
   ]
  },
  {
   "attachments": {},
   "cell_type": "markdown",
   "metadata": {},
   "source": [
    "42. ★ df의 데이터 중 item_name 값의 단어갯수가 15개 이상인 데이터를 인덱싱하라"
   ]
  },
  {
   "cell_type": "code",
   "execution_count": 36,
   "metadata": {},
   "outputs": [
    {
     "data": {
      "text/html": [
       "<div>\n",
       "<style scoped>\n",
       "    .dataframe tbody tr th:only-of-type {\n",
       "        vertical-align: middle;\n",
       "    }\n",
       "\n",
       "    .dataframe tbody tr th {\n",
       "        vertical-align: top;\n",
       "    }\n",
       "\n",
       "    .dataframe thead th {\n",
       "        text-align: right;\n",
       "    }\n",
       "</style>\n",
       "<table border=\"1\" class=\"dataframe\">\n",
       "  <thead>\n",
       "    <tr style=\"text-align: right;\">\n",
       "      <th></th>\n",
       "      <th>order_id</th>\n",
       "      <th>quantity</th>\n",
       "      <th>item_name</th>\n",
       "      <th>choice_description</th>\n",
       "      <th>item_price</th>\n",
       "      <th>new_price</th>\n",
       "    </tr>\n",
       "  </thead>\n",
       "  <tbody>\n",
       "    <tr>\n",
       "      <th>0</th>\n",
       "      <td>1</td>\n",
       "      <td>1</td>\n",
       "      <td>Chips and Fresh Tomato Salsa</td>\n",
       "      <td>NoData</td>\n",
       "      <td>$2.39</td>\n",
       "      <td>2.39</td>\n",
       "    </tr>\n",
       "    <tr>\n",
       "      <th>2</th>\n",
       "      <td>1</td>\n",
       "      <td>1</td>\n",
       "      <td>Nantucket Nectar</td>\n",
       "      <td>[Apple]</td>\n",
       "      <td>$3.39</td>\n",
       "      <td>3.39</td>\n",
       "    </tr>\n",
       "    <tr>\n",
       "      <th>3</th>\n",
       "      <td>1</td>\n",
       "      <td>1</td>\n",
       "      <td>Chips and Tomatillo-Green Chili Salsa</td>\n",
       "      <td>NoData</td>\n",
       "      <td>$2.39</td>\n",
       "      <td>2.39</td>\n",
       "    </tr>\n",
       "  </tbody>\n",
       "</table>\n",
       "</div>"
      ],
      "text/plain": [
       "  order_id quantity                              item_name choice_description  \\\n",
       "0        1        1           Chips and Fresh Tomato Salsa             NoData   \n",
       "2        1        1                       Nantucket Nectar            [Apple]   \n",
       "3        1        1  Chips and Tomatillo-Green Chili Salsa             NoData   \n",
       "\n",
       "  item_price new_price  \n",
       "0     $2.39       2.39  \n",
       "2     $3.39       3.39  \n",
       "3     $2.39       2.39  "
      ]
     },
     "execution_count": 36,
     "metadata": {},
     "output_type": "execute_result"
    }
   ],
   "source": [
    "df_chipo3.loc[df_chipo3.item_name.str.len() >= 15].head(3)"
   ]
  },
  {
   "attachments": {},
   "cell_type": "markdown",
   "metadata": {},
   "source": [
    "43. df의 데이터 중 new_price값이 lst에 해당하는 경우의 데이터 프레임을 구하고 그 갯수를 출력하라 <br>\n",
    "lst =[1.69, 2.39, 3.39, 4.45, 9.25, 10.98, 11.75, 16.98]"
   ]
  },
  {
   "cell_type": "code",
   "execution_count": 41,
   "metadata": {},
   "outputs": [
    {
     "name": "stdout",
     "output_type": "stream",
     "text": [
      "1393\n"
     ]
    },
    {
     "data": {
      "text/html": [
       "<div>\n",
       "<style scoped>\n",
       "    .dataframe tbody tr th:only-of-type {\n",
       "        vertical-align: middle;\n",
       "    }\n",
       "\n",
       "    .dataframe tbody tr th {\n",
       "        vertical-align: top;\n",
       "    }\n",
       "\n",
       "    .dataframe thead th {\n",
       "        text-align: right;\n",
       "    }\n",
       "</style>\n",
       "<table border=\"1\" class=\"dataframe\">\n",
       "  <thead>\n",
       "    <tr style=\"text-align: right;\">\n",
       "      <th></th>\n",
       "      <th>order_id</th>\n",
       "      <th>quantity</th>\n",
       "      <th>item_name</th>\n",
       "      <th>choice_description</th>\n",
       "      <th>item_price</th>\n",
       "      <th>new_price</th>\n",
       "    </tr>\n",
       "  </thead>\n",
       "  <tbody>\n",
       "    <tr>\n",
       "      <th>0</th>\n",
       "      <td>1</td>\n",
       "      <td>1</td>\n",
       "      <td>Chips and Fresh Tomato Salsa</td>\n",
       "      <td>NoData</td>\n",
       "      <td>$2.39</td>\n",
       "      <td>2.39</td>\n",
       "    </tr>\n",
       "    <tr>\n",
       "      <th>1</th>\n",
       "      <td>1</td>\n",
       "      <td>1</td>\n",
       "      <td>Fizzy Lizzy</td>\n",
       "      <td>[Clementine]</td>\n",
       "      <td>$3.39</td>\n",
       "      <td>3.39</td>\n",
       "    </tr>\n",
       "    <tr>\n",
       "      <th>2</th>\n",
       "      <td>1</td>\n",
       "      <td>1</td>\n",
       "      <td>Nantucket Nectar</td>\n",
       "      <td>[Apple]</td>\n",
       "      <td>$3.39</td>\n",
       "      <td>3.39</td>\n",
       "    </tr>\n",
       "    <tr>\n",
       "      <th>3</th>\n",
       "      <td>1</td>\n",
       "      <td>1</td>\n",
       "      <td>Chips and Tomatillo-Green Chili Salsa</td>\n",
       "      <td>NoData</td>\n",
       "      <td>$2.39</td>\n",
       "      <td>2.39</td>\n",
       "    </tr>\n",
       "    <tr>\n",
       "      <th>4</th>\n",
       "      <td>2</td>\n",
       "      <td>2</td>\n",
       "      <td>Chicken Bowl</td>\n",
       "      <td>[Tomatillo-Red Chili Salsa (Hot), [Black Beans...</td>\n",
       "      <td>$16.98</td>\n",
       "      <td>16.98</td>\n",
       "    </tr>\n",
       "  </tbody>\n",
       "</table>\n",
       "</div>"
      ],
      "text/plain": [
       "  order_id quantity                              item_name  \\\n",
       "0        1        1           Chips and Fresh Tomato Salsa   \n",
       "1        1        1                            Fizzy Lizzy   \n",
       "2        1        1                       Nantucket Nectar   \n",
       "3        1        1  Chips and Tomatillo-Green Chili Salsa   \n",
       "4        2        2                           Chicken Bowl   \n",
       "\n",
       "                                  choice_description item_price new_price  \n",
       "0                                             NoData     $2.39       2.39  \n",
       "1                                       [Clementine]     $3.39       3.39  \n",
       "2                                            [Apple]     $3.39       3.39  \n",
       "3                                             NoData     $2.39       2.39  \n",
       "4  [Tomatillo-Red Chili Salsa (Hot), [Black Beans...    $16.98      16.98  "
      ]
     },
     "metadata": {},
     "output_type": "display_data"
    }
   ],
   "source": [
    "lst = [1.69, 2.39, 3.39, 4.45, 9.25, 10.98, 11.75, 16.98]\n",
    "ans = df_chipo3.loc[df_chipo3.new_price.isin(lst)]\n",
    "print(len(ans))\n",
    "display(ans.head())"
   ]
  },
  {
   "attachments": {},
   "cell_type": "markdown",
   "metadata": {},
   "source": [
    "# 03_Grouping\n",
    "> 뉴욕 airBnB : https://www.kaggle.com/ptoscano230382/air-bnb-ny-2019 <br>\n",
    "> DataUrl = ‘https://raw.githubusercontent.com/Datamanim/pandas/main/AB_NYC_2019.csv’"
   ]
  },
  {
   "attachments": {},
   "cell_type": "markdown",
   "metadata": {},
   "source": [
    "44. 데이터를 로드하고 상위 5개 컬럼을 출력하라"
   ]
  },
  {
   "cell_type": "code",
   "execution_count": 1,
   "metadata": {},
   "outputs": [
    {
     "data": {
      "text/html": [
       "<div>\n",
       "<style scoped>\n",
       "    .dataframe tbody tr th:only-of-type {\n",
       "        vertical-align: middle;\n",
       "    }\n",
       "\n",
       "    .dataframe tbody tr th {\n",
       "        vertical-align: top;\n",
       "    }\n",
       "\n",
       "    .dataframe thead th {\n",
       "        text-align: right;\n",
       "    }\n",
       "</style>\n",
       "<table border=\"1\" class=\"dataframe\">\n",
       "  <thead>\n",
       "    <tr style=\"text-align: right;\">\n",
       "      <th></th>\n",
       "      <th>id</th>\n",
       "      <th>name</th>\n",
       "      <th>host_id</th>\n",
       "      <th>host_name</th>\n",
       "      <th>neighbourhood_group</th>\n",
       "      <th>neighbourhood</th>\n",
       "      <th>latitude</th>\n",
       "      <th>longitude</th>\n",
       "      <th>room_type</th>\n",
       "      <th>price</th>\n",
       "      <th>minimum_nights</th>\n",
       "      <th>number_of_reviews</th>\n",
       "      <th>last_review</th>\n",
       "      <th>reviews_per_month</th>\n",
       "      <th>calculated_host_listings_count</th>\n",
       "      <th>availability_365</th>\n",
       "    </tr>\n",
       "  </thead>\n",
       "  <tbody>\n",
       "    <tr>\n",
       "      <th>0</th>\n",
       "      <td>2539</td>\n",
       "      <td>Clean &amp; quiet apt home by the park</td>\n",
       "      <td>2787</td>\n",
       "      <td>John</td>\n",
       "      <td>Brooklyn</td>\n",
       "      <td>Kensington</td>\n",
       "      <td>40.64749</td>\n",
       "      <td>-73.97237</td>\n",
       "      <td>Private room</td>\n",
       "      <td>149</td>\n",
       "      <td>1</td>\n",
       "      <td>9</td>\n",
       "      <td>2018-10-19</td>\n",
       "      <td>0.21</td>\n",
       "      <td>6</td>\n",
       "      <td>365</td>\n",
       "    </tr>\n",
       "    <tr>\n",
       "      <th>1</th>\n",
       "      <td>2595</td>\n",
       "      <td>Skylit Midtown Castle</td>\n",
       "      <td>2845</td>\n",
       "      <td>Jennifer</td>\n",
       "      <td>Manhattan</td>\n",
       "      <td>Midtown</td>\n",
       "      <td>40.75362</td>\n",
       "      <td>-73.98377</td>\n",
       "      <td>Entire home/apt</td>\n",
       "      <td>225</td>\n",
       "      <td>1</td>\n",
       "      <td>45</td>\n",
       "      <td>2019-05-21</td>\n",
       "      <td>0.38</td>\n",
       "      <td>2</td>\n",
       "      <td>355</td>\n",
       "    </tr>\n",
       "    <tr>\n",
       "      <th>2</th>\n",
       "      <td>3647</td>\n",
       "      <td>THE VILLAGE OF HARLEM....NEW YORK !</td>\n",
       "      <td>4632</td>\n",
       "      <td>Elisabeth</td>\n",
       "      <td>Manhattan</td>\n",
       "      <td>Harlem</td>\n",
       "      <td>40.80902</td>\n",
       "      <td>-73.94190</td>\n",
       "      <td>Private room</td>\n",
       "      <td>150</td>\n",
       "      <td>3</td>\n",
       "      <td>0</td>\n",
       "      <td>NaN</td>\n",
       "      <td>NaN</td>\n",
       "      <td>1</td>\n",
       "      <td>365</td>\n",
       "    </tr>\n",
       "    <tr>\n",
       "      <th>3</th>\n",
       "      <td>3831</td>\n",
       "      <td>Cozy Entire Floor of Brownstone</td>\n",
       "      <td>4869</td>\n",
       "      <td>LisaRoxanne</td>\n",
       "      <td>Brooklyn</td>\n",
       "      <td>Clinton Hill</td>\n",
       "      <td>40.68514</td>\n",
       "      <td>-73.95976</td>\n",
       "      <td>Entire home/apt</td>\n",
       "      <td>89</td>\n",
       "      <td>1</td>\n",
       "      <td>270</td>\n",
       "      <td>2019-07-05</td>\n",
       "      <td>4.64</td>\n",
       "      <td>1</td>\n",
       "      <td>194</td>\n",
       "    </tr>\n",
       "    <tr>\n",
       "      <th>4</th>\n",
       "      <td>5022</td>\n",
       "      <td>Entire Apt: Spacious Studio/Loft by central park</td>\n",
       "      <td>7192</td>\n",
       "      <td>Laura</td>\n",
       "      <td>Manhattan</td>\n",
       "      <td>East Harlem</td>\n",
       "      <td>40.79851</td>\n",
       "      <td>-73.94399</td>\n",
       "      <td>Entire home/apt</td>\n",
       "      <td>80</td>\n",
       "      <td>10</td>\n",
       "      <td>9</td>\n",
       "      <td>2018-11-19</td>\n",
       "      <td>0.10</td>\n",
       "      <td>1</td>\n",
       "      <td>0</td>\n",
       "    </tr>\n",
       "  </tbody>\n",
       "</table>\n",
       "</div>"
      ],
      "text/plain": [
       "     id                                              name  host_id  \\\n",
       "0  2539                Clean & quiet apt home by the park     2787   \n",
       "1  2595                             Skylit Midtown Castle     2845   \n",
       "2  3647               THE VILLAGE OF HARLEM....NEW YORK !     4632   \n",
       "3  3831                   Cozy Entire Floor of Brownstone     4869   \n",
       "4  5022  Entire Apt: Spacious Studio/Loft by central park     7192   \n",
       "\n",
       "     host_name neighbourhood_group neighbourhood  latitude  longitude  \\\n",
       "0         John            Brooklyn    Kensington  40.64749  -73.97237   \n",
       "1     Jennifer           Manhattan       Midtown  40.75362  -73.98377   \n",
       "2    Elisabeth           Manhattan        Harlem  40.80902  -73.94190   \n",
       "3  LisaRoxanne            Brooklyn  Clinton Hill  40.68514  -73.95976   \n",
       "4        Laura           Manhattan   East Harlem  40.79851  -73.94399   \n",
       "\n",
       "         room_type  price  minimum_nights  number_of_reviews last_review  \\\n",
       "0     Private room    149               1                  9  2018-10-19   \n",
       "1  Entire home/apt    225               1                 45  2019-05-21   \n",
       "2     Private room    150               3                  0         NaN   \n",
       "3  Entire home/apt     89               1                270  2019-07-05   \n",
       "4  Entire home/apt     80              10                  9  2018-11-19   \n",
       "\n",
       "   reviews_per_month  calculated_host_listings_count  availability_365  \n",
       "0               0.21                               6               365  \n",
       "1               0.38                               2               355  \n",
       "2                NaN                               1               365  \n",
       "3               4.64                               1               194  \n",
       "4               0.10                               1                 0  "
      ]
     },
     "execution_count": 1,
     "metadata": {},
     "output_type": "execute_result"
    }
   ],
   "source": [
    "import pandas as pd\n",
    "nyc = pd.read_csv('https://raw.githubusercontent.com/Datamanim/pandas/main/AB_NYC_2019.csv')\n",
    "nyc.head(5)"
   ]
  },
  {
   "attachments": {},
   "cell_type": "markdown",
   "metadata": {},
   "source": [
    "45. ★ 데이터의 각 host_name의 빈도수를 구하고 host_name으로 정렬하여 상위 5개를 출력하라"
   ]
  },
  {
   "cell_type": "code",
   "execution_count": 5,
   "metadata": {},
   "outputs": [
    {
     "data": {
      "text/plain": [
       "'Cil                        1\n",
       "(Ari) HENRY LEE             1\n",
       "(Email hidden by Airbnb)    6\n",
       "(Mary) Haiy                 1\n",
       "-TheQueensCornerLot         1\n",
       "Name: host_name, dtype: int64"
      ]
     },
     "execution_count": 5,
     "metadata": {},
     "output_type": "execute_result"
    }
   ],
   "source": [
    "nyc.host_name.value_counts().sort_index().head()"
   ]
  },
  {
   "cell_type": "code",
   "execution_count": 7,
   "metadata": {},
   "outputs": [
    {
     "data": {
      "text/plain": [
       "host_name\n",
       "'Cil                        1\n",
       "(Ari) HENRY LEE             1\n",
       "(Email hidden by Airbnb)    6\n",
       "(Mary) Haiy                 1\n",
       "-TheQueensCornerLot         1\n",
       "dtype: int64"
      ]
     },
     "execution_count": 7,
     "metadata": {},
     "output_type": "execute_result"
    }
   ],
   "source": [
    "# 해설\n",
    "nyc.groupby('host_name').size().head()"
   ]
  },
  {
   "attachments": {},
   "cell_type": "markdown",
   "metadata": {},
   "source": [
    "46. ★ 데이터의 각 host_name의 빈도수를 구하고 빈도수 기준 내림차순 정렬한 데이터 프레임을 만들어라. 빈도수 컬럼은 counts로 명명하라"
   ]
  },
  {
   "cell_type": "code",
   "execution_count": 11,
   "metadata": {},
   "outputs": [
    {
     "data": {
      "text/html": [
       "<div>\n",
       "<style scoped>\n",
       "    .dataframe tbody tr th:only-of-type {\n",
       "        vertical-align: middle;\n",
       "    }\n",
       "\n",
       "    .dataframe tbody tr th {\n",
       "        vertical-align: top;\n",
       "    }\n",
       "\n",
       "    .dataframe thead th {\n",
       "        text-align: right;\n",
       "    }\n",
       "</style>\n",
       "<table border=\"1\" class=\"dataframe\">\n",
       "  <thead>\n",
       "    <tr style=\"text-align: right;\">\n",
       "      <th></th>\n",
       "      <th>counts</th>\n",
       "    </tr>\n",
       "    <tr>\n",
       "      <th>host_name</th>\n",
       "      <th></th>\n",
       "    </tr>\n",
       "  </thead>\n",
       "  <tbody>\n",
       "    <tr>\n",
       "      <th>Michael</th>\n",
       "      <td>417</td>\n",
       "    </tr>\n",
       "    <tr>\n",
       "      <th>David</th>\n",
       "      <td>403</td>\n",
       "    </tr>\n",
       "    <tr>\n",
       "      <th>Sonder (NYC)</th>\n",
       "      <td>327</td>\n",
       "    </tr>\n",
       "    <tr>\n",
       "      <th>John</th>\n",
       "      <td>294</td>\n",
       "    </tr>\n",
       "    <tr>\n",
       "      <th>Alex</th>\n",
       "      <td>279</td>\n",
       "    </tr>\n",
       "  </tbody>\n",
       "</table>\n",
       "</div>"
      ],
      "text/plain": [
       "              counts\n",
       "host_name           \n",
       "Michael          417\n",
       "David            403\n",
       "Sonder (NYC)     327\n",
       "John             294\n",
       "Alex             279"
      ]
     },
     "execution_count": 11,
     "metadata": {},
     "output_type": "execute_result"
    }
   ],
   "source": [
    "nyc.groupby('host_name').size().to_frame().rename(columns={0:'counts'}).\\\n",
    "    sort_values('counts', ascending=False).head()"
   ]
  },
  {
   "attachments": {},
   "cell_type": "markdown",
   "metadata": {},
   "source": [
    "47. ★ neighbourhood_group의 값에 따른 neighbourhood컬럼 값의 갯수를 구하여라"
   ]
  },
  {
   "cell_type": "code",
   "execution_count": 16,
   "metadata": {},
   "outputs": [
    {
     "data": {
      "text/html": [
       "<div>\n",
       "<style scoped>\n",
       "    .dataframe tbody tr th:only-of-type {\n",
       "        vertical-align: middle;\n",
       "    }\n",
       "\n",
       "    .dataframe tbody tr th {\n",
       "        vertical-align: top;\n",
       "    }\n",
       "\n",
       "    .dataframe thead th {\n",
       "        text-align: right;\n",
       "    }\n",
       "</style>\n",
       "<table border=\"1\" class=\"dataframe\">\n",
       "  <thead>\n",
       "    <tr style=\"text-align: right;\">\n",
       "      <th></th>\n",
       "      <th>neighbourhood_group</th>\n",
       "      <th>neighbourhood</th>\n",
       "      <th>size</th>\n",
       "    </tr>\n",
       "  </thead>\n",
       "  <tbody>\n",
       "    <tr>\n",
       "      <th>0</th>\n",
       "      <td>Bronx</td>\n",
       "      <td>Allerton</td>\n",
       "      <td>42</td>\n",
       "    </tr>\n",
       "    <tr>\n",
       "      <th>1</th>\n",
       "      <td>Bronx</td>\n",
       "      <td>Baychester</td>\n",
       "      <td>7</td>\n",
       "    </tr>\n",
       "    <tr>\n",
       "      <th>2</th>\n",
       "      <td>Bronx</td>\n",
       "      <td>Belmont</td>\n",
       "      <td>24</td>\n",
       "    </tr>\n",
       "    <tr>\n",
       "      <th>3</th>\n",
       "      <td>Bronx</td>\n",
       "      <td>Bronxdale</td>\n",
       "      <td>19</td>\n",
       "    </tr>\n",
       "  </tbody>\n",
       "</table>\n",
       "</div>"
      ],
      "text/plain": [
       "  neighbourhood_group neighbourhood  size\n",
       "0               Bronx      Allerton    42\n",
       "1               Bronx    Baychester     7\n",
       "2               Bronx       Belmont    24\n",
       "3               Bronx     Bronxdale    19"
      ]
     },
     "execution_count": 16,
     "metadata": {},
     "output_type": "execute_result"
    }
   ],
   "source": [
    "nyc.groupby(['neighbourhood_group', 'neighbourhood'], as_index=False).size().head(4)"
   ]
  },
  {
   "attachments": {},
   "cell_type": "markdown",
   "metadata": {},
   "source": [
    "48. ★ neighbourhood_group의 값에 따른 neighbourhood컬럼 값 중 neighbourhood_group그룹의 최댓값들을 출력하라"
   ]
  },
  {
   "cell_type": "code",
   "execution_count": 20,
   "metadata": {},
   "outputs": [
    {
     "data": {
      "text/html": [
       "<div>\n",
       "<style scoped>\n",
       "    .dataframe tbody tr th:only-of-type {\n",
       "        vertical-align: middle;\n",
       "    }\n",
       "\n",
       "    .dataframe tbody tr th {\n",
       "        vertical-align: top;\n",
       "    }\n",
       "\n",
       "    .dataframe thead th {\n",
       "        text-align: right;\n",
       "    }\n",
       "</style>\n",
       "<table border=\"1\" class=\"dataframe\">\n",
       "  <thead>\n",
       "    <tr style=\"text-align: right;\">\n",
       "      <th></th>\n",
       "      <th>neighbourhood_group</th>\n",
       "      <th>neighbourhood</th>\n",
       "      <th>size</th>\n",
       "    </tr>\n",
       "  </thead>\n",
       "  <tbody>\n",
       "    <tr>\n",
       "      <th>0</th>\n",
       "      <td>Bronx</td>\n",
       "      <td>Woodlawn</td>\n",
       "      <td>70</td>\n",
       "    </tr>\n",
       "    <tr>\n",
       "      <th>1</th>\n",
       "      <td>Brooklyn</td>\n",
       "      <td>Windsor Terrace</td>\n",
       "      <td>3920</td>\n",
       "    </tr>\n",
       "    <tr>\n",
       "      <th>2</th>\n",
       "      <td>Manhattan</td>\n",
       "      <td>West Village</td>\n",
       "      <td>2658</td>\n",
       "    </tr>\n",
       "    <tr>\n",
       "      <th>3</th>\n",
       "      <td>Queens</td>\n",
       "      <td>Woodside</td>\n",
       "      <td>900</td>\n",
       "    </tr>\n",
       "    <tr>\n",
       "      <th>4</th>\n",
       "      <td>Staten Island</td>\n",
       "      <td>Woodrow</td>\n",
       "      <td>48</td>\n",
       "    </tr>\n",
       "  </tbody>\n",
       "</table>\n",
       "</div>"
      ],
      "text/plain": [
       "  neighbourhood_group    neighbourhood  size\n",
       "0               Bronx         Woodlawn    70\n",
       "1            Brooklyn  Windsor Terrace  3920\n",
       "2           Manhattan     West Village  2658\n",
       "3              Queens         Woodside   900\n",
       "4       Staten Island          Woodrow    48"
      ]
     },
     "execution_count": 20,
     "metadata": {},
     "output_type": "execute_result"
    }
   ],
   "source": [
    "nyc.groupby(['neighbourhood_group', 'neighbourhood'], as_index=False).size().\\\n",
    "    groupby(['neighbourhood_group'], as_index=False).max()"
   ]
  },
  {
   "attachments": {},
   "cell_type": "markdown",
   "metadata": {},
   "source": [
    "49. ★ neighbourhood_group 값에 따른 price값의 평균, 분산, 최대, 최소 값을 구하여라"
   ]
  },
  {
   "cell_type": "code",
   "execution_count": 22,
   "metadata": {},
   "outputs": [
    {
     "data": {
      "text/html": [
       "<div>\n",
       "<style scoped>\n",
       "    .dataframe tbody tr th:only-of-type {\n",
       "        vertical-align: middle;\n",
       "    }\n",
       "\n",
       "    .dataframe tbody tr th {\n",
       "        vertical-align: top;\n",
       "    }\n",
       "\n",
       "    .dataframe thead tr th {\n",
       "        text-align: left;\n",
       "    }\n",
       "\n",
       "    .dataframe thead tr:last-of-type th {\n",
       "        text-align: right;\n",
       "    }\n",
       "</style>\n",
       "<table border=\"1\" class=\"dataframe\">\n",
       "  <thead>\n",
       "    <tr>\n",
       "      <th></th>\n",
       "      <th colspan=\"4\" halign=\"left\">price</th>\n",
       "    </tr>\n",
       "    <tr>\n",
       "      <th></th>\n",
       "      <th>mean</th>\n",
       "      <th>var</th>\n",
       "      <th>max</th>\n",
       "      <th>min</th>\n",
       "    </tr>\n",
       "    <tr>\n",
       "      <th>neighbourhood_group</th>\n",
       "      <th></th>\n",
       "      <th></th>\n",
       "      <th></th>\n",
       "      <th></th>\n",
       "    </tr>\n",
       "  </thead>\n",
       "  <tbody>\n",
       "    <tr>\n",
       "      <th>Bronx</th>\n",
       "      <td>87.496792</td>\n",
       "      <td>11386.885081</td>\n",
       "      <td>2500</td>\n",
       "      <td>0</td>\n",
       "    </tr>\n",
       "    <tr>\n",
       "      <th>Brooklyn</th>\n",
       "      <td>124.383207</td>\n",
       "      <td>34921.719135</td>\n",
       "      <td>10000</td>\n",
       "      <td>0</td>\n",
       "    </tr>\n",
       "    <tr>\n",
       "      <th>Manhattan</th>\n",
       "      <td>196.875814</td>\n",
       "      <td>84904.159185</td>\n",
       "      <td>10000</td>\n",
       "      <td>0</td>\n",
       "    </tr>\n",
       "    <tr>\n",
       "      <th>Queens</th>\n",
       "      <td>99.517649</td>\n",
       "      <td>27923.130227</td>\n",
       "      <td>10000</td>\n",
       "      <td>10</td>\n",
       "    </tr>\n",
       "    <tr>\n",
       "      <th>Staten Island</th>\n",
       "      <td>114.812332</td>\n",
       "      <td>77073.088342</td>\n",
       "      <td>5000</td>\n",
       "      <td>13</td>\n",
       "    </tr>\n",
       "  </tbody>\n",
       "</table>\n",
       "</div>"
      ],
      "text/plain": [
       "                          price                         \n",
       "                           mean           var    max min\n",
       "neighbourhood_group                                     \n",
       "Bronx                 87.496792  11386.885081   2500   0\n",
       "Brooklyn             124.383207  34921.719135  10000   0\n",
       "Manhattan            196.875814  84904.159185  10000   0\n",
       "Queens                99.517649  27923.130227  10000  10\n",
       "Staten Island        114.812332  77073.088342   5000  13"
      ]
     },
     "execution_count": 22,
     "metadata": {},
     "output_type": "execute_result"
    }
   ],
   "source": [
    "nyc[['neighbourhood_group', 'price']].\\\n",
    "    groupby(['neighbourhood_group']).agg(['mean' ,'var','max', 'min'])"
   ]
  },
  {
   "attachments": {},
   "cell_type": "markdown",
   "metadata": {},
   "source": [
    "50. neighbourhood_group 값에 따른 reviews_per_month 평균, 분산, 최대, 최소 값을 구하여라"
   ]
  },
  {
   "cell_type": "code",
   "execution_count": 24,
   "metadata": {},
   "outputs": [
    {
     "data": {
      "text/html": [
       "<div>\n",
       "<style scoped>\n",
       "    .dataframe tbody tr th:only-of-type {\n",
       "        vertical-align: middle;\n",
       "    }\n",
       "\n",
       "    .dataframe tbody tr th {\n",
       "        vertical-align: top;\n",
       "    }\n",
       "\n",
       "    .dataframe thead tr th {\n",
       "        text-align: left;\n",
       "    }\n",
       "\n",
       "    .dataframe thead tr:last-of-type th {\n",
       "        text-align: right;\n",
       "    }\n",
       "</style>\n",
       "<table border=\"1\" class=\"dataframe\">\n",
       "  <thead>\n",
       "    <tr>\n",
       "      <th></th>\n",
       "      <th colspan=\"4\" halign=\"left\">reviews_per_month</th>\n",
       "    </tr>\n",
       "    <tr>\n",
       "      <th></th>\n",
       "      <th>mean</th>\n",
       "      <th>var</th>\n",
       "      <th>max</th>\n",
       "      <th>min</th>\n",
       "    </tr>\n",
       "    <tr>\n",
       "      <th>neighbourhood_group</th>\n",
       "      <th></th>\n",
       "      <th></th>\n",
       "      <th></th>\n",
       "      <th></th>\n",
       "    </tr>\n",
       "  </thead>\n",
       "  <tbody>\n",
       "    <tr>\n",
       "      <th>Bronx</th>\n",
       "      <td>1.837831</td>\n",
       "      <td>2.799878</td>\n",
       "      <td>10.34</td>\n",
       "      <td>0.02</td>\n",
       "    </tr>\n",
       "    <tr>\n",
       "      <th>Brooklyn</th>\n",
       "      <td>1.283212</td>\n",
       "      <td>2.299040</td>\n",
       "      <td>14.00</td>\n",
       "      <td>0.01</td>\n",
       "    </tr>\n",
       "    <tr>\n",
       "      <th>Manhattan</th>\n",
       "      <td>1.272131</td>\n",
       "      <td>2.651206</td>\n",
       "      <td>58.50</td>\n",
       "      <td>0.01</td>\n",
       "    </tr>\n",
       "    <tr>\n",
       "      <th>Queens</th>\n",
       "      <td>1.941200</td>\n",
       "      <td>4.897848</td>\n",
       "      <td>20.94</td>\n",
       "      <td>0.01</td>\n",
       "    </tr>\n",
       "    <tr>\n",
       "      <th>Staten Island</th>\n",
       "      <td>1.872580</td>\n",
       "      <td>2.840895</td>\n",
       "      <td>10.12</td>\n",
       "      <td>0.02</td>\n",
       "    </tr>\n",
       "  </tbody>\n",
       "</table>\n",
       "</div>"
      ],
      "text/plain": [
       "                    reviews_per_month                       \n",
       "                                 mean       var    max   min\n",
       "neighbourhood_group                                         \n",
       "Bronx                        1.837831  2.799878  10.34  0.02\n",
       "Brooklyn                     1.283212  2.299040  14.00  0.01\n",
       "Manhattan                    1.272131  2.651206  58.50  0.01\n",
       "Queens                       1.941200  4.897848  20.94  0.01\n",
       "Staten Island                1.872580  2.840895  10.12  0.02"
      ]
     },
     "execution_count": 24,
     "metadata": {},
     "output_type": "execute_result"
    }
   ],
   "source": [
    "nyc[['neighbourhood_group', 'reviews_per_month']].\\\n",
    "    groupby('neighbourhood_group').agg(['mean' ,'var','max', 'min'])"
   ]
  },
  {
   "attachments": {},
   "cell_type": "markdown",
   "metadata": {},
   "source": [
    "51. neighbourhood 값과 neighbourhood_group 값에 따른 price 의 평균을 구하라"
   ]
  },
  {
   "cell_type": "code",
   "execution_count": 25,
   "metadata": {},
   "outputs": [
    {
     "data": {
      "text/html": [
       "<div>\n",
       "<style scoped>\n",
       "    .dataframe tbody tr th:only-of-type {\n",
       "        vertical-align: middle;\n",
       "    }\n",
       "\n",
       "    .dataframe tbody tr th {\n",
       "        vertical-align: top;\n",
       "    }\n",
       "\n",
       "    .dataframe thead th {\n",
       "        text-align: right;\n",
       "    }\n",
       "</style>\n",
       "<table border=\"1\" class=\"dataframe\">\n",
       "  <thead>\n",
       "    <tr style=\"text-align: right;\">\n",
       "      <th></th>\n",
       "      <th></th>\n",
       "      <th>price</th>\n",
       "    </tr>\n",
       "    <tr>\n",
       "      <th>neighbourhood</th>\n",
       "      <th>neighbourhood_group</th>\n",
       "      <th></th>\n",
       "    </tr>\n",
       "  </thead>\n",
       "  <tbody>\n",
       "    <tr>\n",
       "      <th>Allerton</th>\n",
       "      <th>Bronx</th>\n",
       "      <td>87.595238</td>\n",
       "    </tr>\n",
       "    <tr>\n",
       "      <th>Arden Heights</th>\n",
       "      <th>Staten Island</th>\n",
       "      <td>67.250000</td>\n",
       "    </tr>\n",
       "    <tr>\n",
       "      <th>Arrochar</th>\n",
       "      <th>Staten Island</th>\n",
       "      <td>115.000000</td>\n",
       "    </tr>\n",
       "    <tr>\n",
       "      <th>Arverne</th>\n",
       "      <th>Queens</th>\n",
       "      <td>171.779221</td>\n",
       "    </tr>\n",
       "    <tr>\n",
       "      <th>Astoria</th>\n",
       "      <th>Queens</th>\n",
       "      <td>117.187778</td>\n",
       "    </tr>\n",
       "    <tr>\n",
       "      <th>...</th>\n",
       "      <th>...</th>\n",
       "      <td>...</td>\n",
       "    </tr>\n",
       "    <tr>\n",
       "      <th>Windsor Terrace</th>\n",
       "      <th>Brooklyn</th>\n",
       "      <td>138.993631</td>\n",
       "    </tr>\n",
       "    <tr>\n",
       "      <th>Woodhaven</th>\n",
       "      <th>Queens</th>\n",
       "      <td>67.170455</td>\n",
       "    </tr>\n",
       "    <tr>\n",
       "      <th>Woodlawn</th>\n",
       "      <th>Bronx</th>\n",
       "      <td>60.090909</td>\n",
       "    </tr>\n",
       "    <tr>\n",
       "      <th>Woodrow</th>\n",
       "      <th>Staten Island</th>\n",
       "      <td>700.000000</td>\n",
       "    </tr>\n",
       "    <tr>\n",
       "      <th>Woodside</th>\n",
       "      <th>Queens</th>\n",
       "      <td>85.097872</td>\n",
       "    </tr>\n",
       "  </tbody>\n",
       "</table>\n",
       "<p>221 rows × 1 columns</p>\n",
       "</div>"
      ],
      "text/plain": [
       "                                          price\n",
       "neighbourhood   neighbourhood_group            \n",
       "Allerton        Bronx                 87.595238\n",
       "Arden Heights   Staten Island         67.250000\n",
       "Arrochar        Staten Island        115.000000\n",
       "Arverne         Queens               171.779221\n",
       "Astoria         Queens               117.187778\n",
       "...                                         ...\n",
       "Windsor Terrace Brooklyn             138.993631\n",
       "Woodhaven       Queens                67.170455\n",
       "Woodlawn        Bronx                 60.090909\n",
       "Woodrow         Staten Island        700.000000\n",
       "Woodside        Queens                85.097872\n",
       "\n",
       "[221 rows x 1 columns]"
      ]
     },
     "execution_count": 25,
     "metadata": {},
     "output_type": "execute_result"
    }
   ],
   "source": [
    "nyc[['neighbourhood', 'neighbourhood_group','price']].\\\n",
    "    groupby(['neighbourhood', 'neighbourhood_group']).mean()"
   ]
  },
  {
   "attachments": {},
   "cell_type": "markdown",
   "metadata": {},
   "source": [
    "52. ★ neighbourhood 값과 neighbourhood_group 값에 따른 price 의 평균을 계층적 indexing 없이 구하라"
   ]
  },
  {
   "cell_type": "code",
   "execution_count": 26,
   "metadata": {},
   "outputs": [
    {
     "data": {
      "text/html": [
       "<div>\n",
       "<style scoped>\n",
       "    .dataframe tbody tr th:only-of-type {\n",
       "        vertical-align: middle;\n",
       "    }\n",
       "\n",
       "    .dataframe tbody tr th {\n",
       "        vertical-align: top;\n",
       "    }\n",
       "\n",
       "    .dataframe thead tr th {\n",
       "        text-align: left;\n",
       "    }\n",
       "\n",
       "    .dataframe thead tr:last-of-type th {\n",
       "        text-align: right;\n",
       "    }\n",
       "</style>\n",
       "<table border=\"1\" class=\"dataframe\">\n",
       "  <thead>\n",
       "    <tr>\n",
       "      <th></th>\n",
       "      <th colspan=\"5\" halign=\"left\">price</th>\n",
       "    </tr>\n",
       "    <tr>\n",
       "      <th>neighbourhood_group</th>\n",
       "      <th>Bronx</th>\n",
       "      <th>Brooklyn</th>\n",
       "      <th>Manhattan</th>\n",
       "      <th>Queens</th>\n",
       "      <th>Staten Island</th>\n",
       "    </tr>\n",
       "    <tr>\n",
       "      <th>neighbourhood</th>\n",
       "      <th></th>\n",
       "      <th></th>\n",
       "      <th></th>\n",
       "      <th></th>\n",
       "      <th></th>\n",
       "    </tr>\n",
       "  </thead>\n",
       "  <tbody>\n",
       "    <tr>\n",
       "      <th>Allerton</th>\n",
       "      <td>87.595238</td>\n",
       "      <td>NaN</td>\n",
       "      <td>NaN</td>\n",
       "      <td>NaN</td>\n",
       "      <td>NaN</td>\n",
       "    </tr>\n",
       "    <tr>\n",
       "      <th>Arden Heights</th>\n",
       "      <td>NaN</td>\n",
       "      <td>NaN</td>\n",
       "      <td>NaN</td>\n",
       "      <td>NaN</td>\n",
       "      <td>67.25</td>\n",
       "    </tr>\n",
       "    <tr>\n",
       "      <th>Arrochar</th>\n",
       "      <td>NaN</td>\n",
       "      <td>NaN</td>\n",
       "      <td>NaN</td>\n",
       "      <td>NaN</td>\n",
       "      <td>115.00</td>\n",
       "    </tr>\n",
       "    <tr>\n",
       "      <th>Arverne</th>\n",
       "      <td>NaN</td>\n",
       "      <td>NaN</td>\n",
       "      <td>NaN</td>\n",
       "      <td>171.779221</td>\n",
       "      <td>NaN</td>\n",
       "    </tr>\n",
       "    <tr>\n",
       "      <th>Astoria</th>\n",
       "      <td>NaN</td>\n",
       "      <td>NaN</td>\n",
       "      <td>NaN</td>\n",
       "      <td>117.187778</td>\n",
       "      <td>NaN</td>\n",
       "    </tr>\n",
       "    <tr>\n",
       "      <th>...</th>\n",
       "      <td>...</td>\n",
       "      <td>...</td>\n",
       "      <td>...</td>\n",
       "      <td>...</td>\n",
       "      <td>...</td>\n",
       "    </tr>\n",
       "    <tr>\n",
       "      <th>Windsor Terrace</th>\n",
       "      <td>NaN</td>\n",
       "      <td>138.993631</td>\n",
       "      <td>NaN</td>\n",
       "      <td>NaN</td>\n",
       "      <td>NaN</td>\n",
       "    </tr>\n",
       "    <tr>\n",
       "      <th>Woodhaven</th>\n",
       "      <td>NaN</td>\n",
       "      <td>NaN</td>\n",
       "      <td>NaN</td>\n",
       "      <td>67.170455</td>\n",
       "      <td>NaN</td>\n",
       "    </tr>\n",
       "    <tr>\n",
       "      <th>Woodlawn</th>\n",
       "      <td>60.090909</td>\n",
       "      <td>NaN</td>\n",
       "      <td>NaN</td>\n",
       "      <td>NaN</td>\n",
       "      <td>NaN</td>\n",
       "    </tr>\n",
       "    <tr>\n",
       "      <th>Woodrow</th>\n",
       "      <td>NaN</td>\n",
       "      <td>NaN</td>\n",
       "      <td>NaN</td>\n",
       "      <td>NaN</td>\n",
       "      <td>700.00</td>\n",
       "    </tr>\n",
       "    <tr>\n",
       "      <th>Woodside</th>\n",
       "      <td>NaN</td>\n",
       "      <td>NaN</td>\n",
       "      <td>NaN</td>\n",
       "      <td>85.097872</td>\n",
       "      <td>NaN</td>\n",
       "    </tr>\n",
       "  </tbody>\n",
       "</table>\n",
       "<p>221 rows × 5 columns</p>\n",
       "</div>"
      ],
      "text/plain": [
       "                         price                                                \n",
       "neighbourhood_group      Bronx    Brooklyn Manhattan      Queens Staten Island\n",
       "neighbourhood                                                                 \n",
       "Allerton             87.595238         NaN       NaN         NaN           NaN\n",
       "Arden Heights              NaN         NaN       NaN         NaN         67.25\n",
       "Arrochar                   NaN         NaN       NaN         NaN        115.00\n",
       "Arverne                    NaN         NaN       NaN  171.779221           NaN\n",
       "Astoria                    NaN         NaN       NaN  117.187778           NaN\n",
       "...                        ...         ...       ...         ...           ...\n",
       "Windsor Terrace            NaN  138.993631       NaN         NaN           NaN\n",
       "Woodhaven                  NaN         NaN       NaN   67.170455           NaN\n",
       "Woodlawn             60.090909         NaN       NaN         NaN           NaN\n",
       "Woodrow                    NaN         NaN       NaN         NaN        700.00\n",
       "Woodside                   NaN         NaN       NaN   85.097872           NaN\n",
       "\n",
       "[221 rows x 5 columns]"
      ]
     },
     "execution_count": 26,
     "metadata": {},
     "output_type": "execute_result"
    }
   ],
   "source": [
    "nyc_group = nyc[['neighbourhood', 'neighbourhood_group','price']].\\\n",
    "    groupby(['neighbourhood', 'neighbourhood_group']).mean()\n",
    "ans = pd.pivot_table(nyc_group, index='neighbourhood', columns='neighbourhood_group')\n",
    "ans"
   ]
  },
  {
   "cell_type": "code",
   "execution_count": 28,
   "metadata": {},
   "outputs": [
    {
     "data": {
      "text/plain": [
       "neighbourhood    neighbourhood_group\n",
       "Allerton         Bronx                   87.595238\n",
       "Arden Heights    Staten Island           67.250000\n",
       "Arrochar         Staten Island          115.000000\n",
       "Arverne          Queens                 171.779221\n",
       "Astoria          Queens                 117.187778\n",
       "                                           ...    \n",
       "Windsor Terrace  Brooklyn               138.993631\n",
       "Woodhaven        Queens                  67.170455\n",
       "Woodlawn         Bronx                   60.090909\n",
       "Woodrow          Staten Island          700.000000\n",
       "Woodside         Queens                  85.097872\n",
       "Name: price, Length: 221, dtype: float64"
      ]
     },
     "execution_count": 28,
     "metadata": {},
     "output_type": "execute_result"
    }
   ],
   "source": [
    "# 해설\n",
    "nyc.groupby(['neighbourhood','neighbourhood_group']).price.mean()"
   ]
  },
  {
   "cell_type": "code",
   "execution_count": 29,
   "metadata": {},
   "outputs": [
    {
     "data": {
      "text/html": [
       "<div>\n",
       "<style scoped>\n",
       "    .dataframe tbody tr th:only-of-type {\n",
       "        vertical-align: middle;\n",
       "    }\n",
       "\n",
       "    .dataframe tbody tr th {\n",
       "        vertical-align: top;\n",
       "    }\n",
       "\n",
       "    .dataframe thead th {\n",
       "        text-align: right;\n",
       "    }\n",
       "</style>\n",
       "<table border=\"1\" class=\"dataframe\">\n",
       "  <thead>\n",
       "    <tr style=\"text-align: right;\">\n",
       "      <th>neighbourhood_group</th>\n",
       "      <th>Bronx</th>\n",
       "      <th>Brooklyn</th>\n",
       "      <th>Manhattan</th>\n",
       "      <th>Queens</th>\n",
       "      <th>Staten Island</th>\n",
       "    </tr>\n",
       "    <tr>\n",
       "      <th>neighbourhood</th>\n",
       "      <th></th>\n",
       "      <th></th>\n",
       "      <th></th>\n",
       "      <th></th>\n",
       "      <th></th>\n",
       "    </tr>\n",
       "  </thead>\n",
       "  <tbody>\n",
       "    <tr>\n",
       "      <th>Allerton</th>\n",
       "      <td>87.595238</td>\n",
       "      <td>NaN</td>\n",
       "      <td>NaN</td>\n",
       "      <td>NaN</td>\n",
       "      <td>NaN</td>\n",
       "    </tr>\n",
       "    <tr>\n",
       "      <th>Arden Heights</th>\n",
       "      <td>NaN</td>\n",
       "      <td>NaN</td>\n",
       "      <td>NaN</td>\n",
       "      <td>NaN</td>\n",
       "      <td>67.25</td>\n",
       "    </tr>\n",
       "    <tr>\n",
       "      <th>Arrochar</th>\n",
       "      <td>NaN</td>\n",
       "      <td>NaN</td>\n",
       "      <td>NaN</td>\n",
       "      <td>NaN</td>\n",
       "      <td>115.00</td>\n",
       "    </tr>\n",
       "    <tr>\n",
       "      <th>Arverne</th>\n",
       "      <td>NaN</td>\n",
       "      <td>NaN</td>\n",
       "      <td>NaN</td>\n",
       "      <td>171.779221</td>\n",
       "      <td>NaN</td>\n",
       "    </tr>\n",
       "    <tr>\n",
       "      <th>Astoria</th>\n",
       "      <td>NaN</td>\n",
       "      <td>NaN</td>\n",
       "      <td>NaN</td>\n",
       "      <td>117.187778</td>\n",
       "      <td>NaN</td>\n",
       "    </tr>\n",
       "    <tr>\n",
       "      <th>...</th>\n",
       "      <td>...</td>\n",
       "      <td>...</td>\n",
       "      <td>...</td>\n",
       "      <td>...</td>\n",
       "      <td>...</td>\n",
       "    </tr>\n",
       "    <tr>\n",
       "      <th>Windsor Terrace</th>\n",
       "      <td>NaN</td>\n",
       "      <td>138.993631</td>\n",
       "      <td>NaN</td>\n",
       "      <td>NaN</td>\n",
       "      <td>NaN</td>\n",
       "    </tr>\n",
       "    <tr>\n",
       "      <th>Woodhaven</th>\n",
       "      <td>NaN</td>\n",
       "      <td>NaN</td>\n",
       "      <td>NaN</td>\n",
       "      <td>67.170455</td>\n",
       "      <td>NaN</td>\n",
       "    </tr>\n",
       "    <tr>\n",
       "      <th>Woodlawn</th>\n",
       "      <td>60.090909</td>\n",
       "      <td>NaN</td>\n",
       "      <td>NaN</td>\n",
       "      <td>NaN</td>\n",
       "      <td>NaN</td>\n",
       "    </tr>\n",
       "    <tr>\n",
       "      <th>Woodrow</th>\n",
       "      <td>NaN</td>\n",
       "      <td>NaN</td>\n",
       "      <td>NaN</td>\n",
       "      <td>NaN</td>\n",
       "      <td>700.00</td>\n",
       "    </tr>\n",
       "    <tr>\n",
       "      <th>Woodside</th>\n",
       "      <td>NaN</td>\n",
       "      <td>NaN</td>\n",
       "      <td>NaN</td>\n",
       "      <td>85.097872</td>\n",
       "      <td>NaN</td>\n",
       "    </tr>\n",
       "  </tbody>\n",
       "</table>\n",
       "<p>221 rows × 5 columns</p>\n",
       "</div>"
      ],
      "text/plain": [
       "neighbourhood_group      Bronx    Brooklyn  Manhattan      Queens  \\\n",
       "neighbourhood                                                       \n",
       "Allerton             87.595238         NaN        NaN         NaN   \n",
       "Arden Heights              NaN         NaN        NaN         NaN   \n",
       "Arrochar                   NaN         NaN        NaN         NaN   \n",
       "Arverne                    NaN         NaN        NaN  171.779221   \n",
       "Astoria                    NaN         NaN        NaN  117.187778   \n",
       "...                        ...         ...        ...         ...   \n",
       "Windsor Terrace            NaN  138.993631        NaN         NaN   \n",
       "Woodhaven                  NaN         NaN        NaN   67.170455   \n",
       "Woodlawn             60.090909         NaN        NaN         NaN   \n",
       "Woodrow                    NaN         NaN        NaN         NaN   \n",
       "Woodside                   NaN         NaN        NaN   85.097872   \n",
       "\n",
       "neighbourhood_group  Staten Island  \n",
       "neighbourhood                       \n",
       "Allerton                       NaN  \n",
       "Arden Heights                67.25  \n",
       "Arrochar                    115.00  \n",
       "Arverne                        NaN  \n",
       "Astoria                        NaN  \n",
       "...                            ...  \n",
       "Windsor Terrace                NaN  \n",
       "Woodhaven                      NaN  \n",
       "Woodlawn                       NaN  \n",
       "Woodrow                     700.00  \n",
       "Woodside                       NaN  \n",
       "\n",
       "[221 rows x 5 columns]"
      ]
     },
     "execution_count": 29,
     "metadata": {},
     "output_type": "execute_result"
    }
   ],
   "source": [
    "nyc.groupby(['neighbourhood','neighbourhood_group']).price.mean().unstack()"
   ]
  },
  {
   "attachments": {},
   "cell_type": "markdown",
   "metadata": {},
   "source": [
    "53. neighbourhood 값과 neighbourhood_group 값에 따른 price 의 평균을 계층적 indexing 없이 구하고 nan 값은 -999값으로 채워라"
   ]
  },
  {
   "cell_type": "code",
   "execution_count": 31,
   "metadata": {},
   "outputs": [
    {
     "data": {
      "text/html": [
       "<div>\n",
       "<style scoped>\n",
       "    .dataframe tbody tr th:only-of-type {\n",
       "        vertical-align: middle;\n",
       "    }\n",
       "\n",
       "    .dataframe tbody tr th {\n",
       "        vertical-align: top;\n",
       "    }\n",
       "\n",
       "    .dataframe thead th {\n",
       "        text-align: right;\n",
       "    }\n",
       "</style>\n",
       "<table border=\"1\" class=\"dataframe\">\n",
       "  <thead>\n",
       "    <tr style=\"text-align: right;\">\n",
       "      <th>neighbourhood_group</th>\n",
       "      <th>Bronx</th>\n",
       "      <th>Brooklyn</th>\n",
       "      <th>Manhattan</th>\n",
       "      <th>Queens</th>\n",
       "      <th>Staten Island</th>\n",
       "    </tr>\n",
       "    <tr>\n",
       "      <th>neighbourhood</th>\n",
       "      <th></th>\n",
       "      <th></th>\n",
       "      <th></th>\n",
       "      <th></th>\n",
       "      <th></th>\n",
       "    </tr>\n",
       "  </thead>\n",
       "  <tbody>\n",
       "    <tr>\n",
       "      <th>Allerton</th>\n",
       "      <td>87.595238</td>\n",
       "      <td>-999.0</td>\n",
       "      <td>-999.0</td>\n",
       "      <td>-999.000000</td>\n",
       "      <td>-999.00</td>\n",
       "    </tr>\n",
       "    <tr>\n",
       "      <th>Arden Heights</th>\n",
       "      <td>-999.000000</td>\n",
       "      <td>-999.0</td>\n",
       "      <td>-999.0</td>\n",
       "      <td>-999.000000</td>\n",
       "      <td>67.25</td>\n",
       "    </tr>\n",
       "    <tr>\n",
       "      <th>Arrochar</th>\n",
       "      <td>-999.000000</td>\n",
       "      <td>-999.0</td>\n",
       "      <td>-999.0</td>\n",
       "      <td>-999.000000</td>\n",
       "      <td>115.00</td>\n",
       "    </tr>\n",
       "    <tr>\n",
       "      <th>Arverne</th>\n",
       "      <td>-999.000000</td>\n",
       "      <td>-999.0</td>\n",
       "      <td>-999.0</td>\n",
       "      <td>171.779221</td>\n",
       "      <td>-999.00</td>\n",
       "    </tr>\n",
       "  </tbody>\n",
       "</table>\n",
       "</div>"
      ],
      "text/plain": [
       "neighbourhood_group       Bronx  Brooklyn  Manhattan      Queens  \\\n",
       "neighbourhood                                                      \n",
       "Allerton              87.595238    -999.0     -999.0 -999.000000   \n",
       "Arden Heights       -999.000000    -999.0     -999.0 -999.000000   \n",
       "Arrochar            -999.000000    -999.0     -999.0 -999.000000   \n",
       "Arverne             -999.000000    -999.0     -999.0  171.779221   \n",
       "\n",
       "neighbourhood_group  Staten Island  \n",
       "neighbourhood                       \n",
       "Allerton                   -999.00  \n",
       "Arden Heights                67.25  \n",
       "Arrochar                    115.00  \n",
       "Arverne                    -999.00  "
      ]
     },
     "execution_count": 31,
     "metadata": {},
     "output_type": "execute_result"
    }
   ],
   "source": [
    "nyc.groupby(['neighbourhood','neighbourhood_group']).price.mean().unstack().\\\n",
    "    fillna(-999).head(4)"
   ]
  },
  {
   "attachments": {},
   "cell_type": "markdown",
   "metadata": {},
   "source": [
    "54. 데이터중 neighbourhood_group 값이 Queens값을 가지는 데이터들 중 neighbourhood 그룹별로 price값의 평균, 분산, 최대, 최소값을 구하라"
   ]
  },
  {
   "cell_type": "code",
   "execution_count": 33,
   "metadata": {},
   "outputs": [
    {
     "data": {
      "text/html": [
       "<div>\n",
       "<style scoped>\n",
       "    .dataframe tbody tr th:only-of-type {\n",
       "        vertical-align: middle;\n",
       "    }\n",
       "\n",
       "    .dataframe tbody tr th {\n",
       "        vertical-align: top;\n",
       "    }\n",
       "\n",
       "    .dataframe thead th {\n",
       "        text-align: right;\n",
       "    }\n",
       "</style>\n",
       "<table border=\"1\" class=\"dataframe\">\n",
       "  <thead>\n",
       "    <tr style=\"text-align: right;\">\n",
       "      <th></th>\n",
       "      <th>mean</th>\n",
       "      <th>var</th>\n",
       "      <th>max</th>\n",
       "      <th>min</th>\n",
       "    </tr>\n",
       "    <tr>\n",
       "      <th>neighbourhood</th>\n",
       "      <th></th>\n",
       "      <th></th>\n",
       "      <th></th>\n",
       "      <th></th>\n",
       "    </tr>\n",
       "  </thead>\n",
       "  <tbody>\n",
       "    <tr>\n",
       "      <th>Arverne</th>\n",
       "      <td>171.779221</td>\n",
       "      <td>37383.411141</td>\n",
       "      <td>1500</td>\n",
       "      <td>35</td>\n",
       "    </tr>\n",
       "    <tr>\n",
       "      <th>Astoria</th>\n",
       "      <td>117.187778</td>\n",
       "      <td>122428.811196</td>\n",
       "      <td>10000</td>\n",
       "      <td>25</td>\n",
       "    </tr>\n",
       "    <tr>\n",
       "      <th>Bay Terrace</th>\n",
       "      <td>142.000000</td>\n",
       "      <td>6816.400000</td>\n",
       "      <td>258</td>\n",
       "      <td>32</td>\n",
       "    </tr>\n",
       "    <tr>\n",
       "      <th>Bayside</th>\n",
       "      <td>157.948718</td>\n",
       "      <td>166106.470985</td>\n",
       "      <td>2600</td>\n",
       "      <td>30</td>\n",
       "    </tr>\n",
       "  </tbody>\n",
       "</table>\n",
       "</div>"
      ],
      "text/plain": [
       "                     mean            var    max  min\n",
       "neighbourhood                                       \n",
       "Arverne        171.779221   37383.411141   1500   35\n",
       "Astoria        117.187778  122428.811196  10000   25\n",
       "Bay Terrace    142.000000    6816.400000    258   32\n",
       "Bayside        157.948718  166106.470985   2600   30"
      ]
     },
     "execution_count": 33,
     "metadata": {},
     "output_type": "execute_result"
    }
   ],
   "source": [
    "nyc.loc[nyc.neighbourhood_group == 'Queens'].\\\n",
    "    groupby(['neighbourhood']).price.agg(['mean','var','max','min']).head(4)"
   ]
  },
  {
   "attachments": {},
   "cell_type": "markdown",
   "metadata": {},
   "source": [
    "55. ★ 데이터중 neighbourhood_group 값에 따른 room_type 컬럼의 숫자를 구하고 neighbourhood_group 값을 기준으로 각 값의 비율을 구하여라"
   ]
  },
  {
   "cell_type": "code",
   "execution_count": 43,
   "metadata": {},
   "outputs": [
    {
     "data": {
      "text/html": [
       "<div>\n",
       "<style scoped>\n",
       "    .dataframe tbody tr th:only-of-type {\n",
       "        vertical-align: middle;\n",
       "    }\n",
       "\n",
       "    .dataframe tbody tr th {\n",
       "        vertical-align: top;\n",
       "    }\n",
       "\n",
       "    .dataframe thead th {\n",
       "        text-align: right;\n",
       "    }\n",
       "</style>\n",
       "<table border=\"1\" class=\"dataframe\">\n",
       "  <thead>\n",
       "    <tr style=\"text-align: right;\">\n",
       "      <th>room_type</th>\n",
       "      <th>Entire home/apt</th>\n",
       "      <th>Private room</th>\n",
       "      <th>Shared room</th>\n",
       "    </tr>\n",
       "    <tr>\n",
       "      <th>neighbourhood_group</th>\n",
       "      <th></th>\n",
       "      <th></th>\n",
       "      <th></th>\n",
       "    </tr>\n",
       "  </thead>\n",
       "  <tbody>\n",
       "    <tr>\n",
       "      <th>Bronx</th>\n",
       "      <td>379</td>\n",
       "      <td>652</td>\n",
       "      <td>60</td>\n",
       "    </tr>\n",
       "    <tr>\n",
       "      <th>Brooklyn</th>\n",
       "      <td>9559</td>\n",
       "      <td>10132</td>\n",
       "      <td>413</td>\n",
       "    </tr>\n",
       "    <tr>\n",
       "      <th>Manhattan</th>\n",
       "      <td>13199</td>\n",
       "      <td>7982</td>\n",
       "      <td>480</td>\n",
       "    </tr>\n",
       "    <tr>\n",
       "      <th>Queens</th>\n",
       "      <td>2096</td>\n",
       "      <td>3372</td>\n",
       "      <td>198</td>\n",
       "    </tr>\n",
       "    <tr>\n",
       "      <th>Staten Island</th>\n",
       "      <td>176</td>\n",
       "      <td>188</td>\n",
       "      <td>9</td>\n",
       "    </tr>\n",
       "  </tbody>\n",
       "</table>\n",
       "</div>"
      ],
      "text/plain": [
       "room_type            Entire home/apt  Private room  Shared room\n",
       "neighbourhood_group                                            \n",
       "Bronx                            379           652           60\n",
       "Brooklyn                        9559         10132          413\n",
       "Manhattan                      13199          7982          480\n",
       "Queens                          2096          3372          198\n",
       "Staten Island                    176           188            9"
      ]
     },
     "execution_count": 43,
     "metadata": {},
     "output_type": "execute_result"
    }
   ],
   "source": [
    "nyc[['neighbourhood_group', 'room_type']].\\\n",
    "    groupby(['neighbourhood_group', 'room_type']).size().unstack()"
   ]
  },
  {
   "cell_type": "code",
   "execution_count": 44,
   "metadata": {},
   "outputs": [
    {
     "data": {
      "text/plain": [
       "array([[  379,   652,    60],\n",
       "       [ 9559, 10132,   413],\n",
       "       [13199,  7982,   480],\n",
       "       [ 2096,  3372,   198],\n",
       "       [  176,   188,     9]], dtype=int64)"
      ]
     },
     "execution_count": 44,
     "metadata": {},
     "output_type": "execute_result"
    }
   ],
   "source": [
    "ans  = nyc[['neighbourhood_group', 'room_type']].\\\n",
    "            groupby(['neighbourhood_group', 'room_type']).size().unstack()\n",
    "ans.values"
   ]
  },
  {
   "cell_type": "code",
   "execution_count": 45,
   "metadata": {},
   "outputs": [
    {
     "data": {
      "text/plain": [
       "array([[ 1091],\n",
       "       [20104],\n",
       "       [21661],\n",
       "       [ 5666],\n",
       "       [  373]], dtype=int64)"
      ]
     },
     "execution_count": 45,
     "metadata": {},
     "output_type": "execute_result"
    }
   ],
   "source": [
    "ans.sum(axis=1).values.reshape(-1,1)"
   ]
  },
  {
   "cell_type": "code",
   "execution_count": 46,
   "metadata": {},
   "outputs": [
    {
     "data": {
      "text/plain": [
       "array([[0.34738772, 0.59761687, 0.05499542],\n",
       "       [0.47547752, 0.50397931, 0.02054318],\n",
       "       [0.60934398, 0.36849638, 0.02215964],\n",
       "       [0.36992587, 0.59512884, 0.03494529],\n",
       "       [0.47184987, 0.50402145, 0.02412869]])"
      ]
     },
     "execution_count": 46,
     "metadata": {},
     "output_type": "execute_result"
    }
   ],
   "source": [
    "ans.values / ans.sum(axis=1).values.reshape(-1,1)"
   ]
  },
  {
   "cell_type": "code",
   "execution_count": 47,
   "metadata": {},
   "outputs": [
    {
     "data": {
      "text/html": [
       "<div>\n",
       "<style scoped>\n",
       "    .dataframe tbody tr th:only-of-type {\n",
       "        vertical-align: middle;\n",
       "    }\n",
       "\n",
       "    .dataframe tbody tr th {\n",
       "        vertical-align: top;\n",
       "    }\n",
       "\n",
       "    .dataframe thead th {\n",
       "        text-align: right;\n",
       "    }\n",
       "</style>\n",
       "<table border=\"1\" class=\"dataframe\">\n",
       "  <thead>\n",
       "    <tr style=\"text-align: right;\">\n",
       "      <th>room_type</th>\n",
       "      <th>Entire home/apt</th>\n",
       "      <th>Private room</th>\n",
       "      <th>Shared room</th>\n",
       "    </tr>\n",
       "    <tr>\n",
       "      <th>neighbourhood_group</th>\n",
       "      <th></th>\n",
       "      <th></th>\n",
       "      <th></th>\n",
       "    </tr>\n",
       "  </thead>\n",
       "  <tbody>\n",
       "    <tr>\n",
       "      <th>Bronx</th>\n",
       "      <td>0.347388</td>\n",
       "      <td>0.597617</td>\n",
       "      <td>0.054995</td>\n",
       "    </tr>\n",
       "    <tr>\n",
       "      <th>Brooklyn</th>\n",
       "      <td>0.475478</td>\n",
       "      <td>0.503979</td>\n",
       "      <td>0.020543</td>\n",
       "    </tr>\n",
       "    <tr>\n",
       "      <th>Manhattan</th>\n",
       "      <td>0.609344</td>\n",
       "      <td>0.368496</td>\n",
       "      <td>0.022160</td>\n",
       "    </tr>\n",
       "    <tr>\n",
       "      <th>Queens</th>\n",
       "      <td>0.369926</td>\n",
       "      <td>0.595129</td>\n",
       "      <td>0.034945</td>\n",
       "    </tr>\n",
       "    <tr>\n",
       "      <th>Staten Island</th>\n",
       "      <td>0.471850</td>\n",
       "      <td>0.504021</td>\n",
       "      <td>0.024129</td>\n",
       "    </tr>\n",
       "  </tbody>\n",
       "</table>\n",
       "</div>"
      ],
      "text/plain": [
       "room_type            Entire home/apt  Private room  Shared room\n",
       "neighbourhood_group                                            \n",
       "Bronx                       0.347388      0.597617     0.054995\n",
       "Brooklyn                    0.475478      0.503979     0.020543\n",
       "Manhattan                   0.609344      0.368496     0.022160\n",
       "Queens                      0.369926      0.595129     0.034945\n",
       "Staten Island               0.471850      0.504021     0.024129"
      ]
     },
     "execution_count": 47,
     "metadata": {},
     "output_type": "execute_result"
    }
   ],
   "source": [
    "ans  = nyc[['neighbourhood_group', 'room_type']].\\\n",
    "            groupby(['neighbourhood_group', 'room_type']).size().unstack()\n",
    "ans.loc[:,:] = ans.values / ans.sum(axis=1).values.reshape(-1,1)\n",
    "ans"
   ]
  },
  {
   "attachments": {},
   "cell_type": "markdown",
   "metadata": {},
   "source": [
    "# 04_Apply , Map\n",
    "> 카드이용데이터 : https://www.kaggle.com/sakshigoyal7/credit-card-customers <br>\n",
    "> DataUrl = ‘https://raw.githubusercontent.com/Datamanim/pandas/main/BankChurnersUp.csv’"
   ]
  },
  {
   "attachments": {},
   "cell_type": "markdown",
   "metadata": {},
   "source": [
    "56. 데이터를 로드하고 데이터 행과 열의 갯수를 출력하라"
   ]
  },
  {
   "cell_type": "code",
   "execution_count": 16,
   "metadata": {},
   "outputs": [
    {
     "name": "stdout",
     "output_type": "stream",
     "text": [
      "(10127, 19)\n",
      "<class 'pandas.core.frame.DataFrame'>\n",
      "RangeIndex: 10127 entries, 0 to 10126\n",
      "Data columns (total 19 columns):\n",
      " #   Column                    Non-Null Count  Dtype  \n",
      "---  ------                    --------------  -----  \n",
      " 0   Unnamed: 0                10127 non-null  int64  \n",
      " 1   CLIENTNUM                 10127 non-null  int64  \n",
      " 2   Attrition_Flag            10127 non-null  object \n",
      " 3   Customer_Age              10127 non-null  int64  \n",
      " 4   Gender                    10127 non-null  object \n",
      " 5   Dependent_count           10127 non-null  int64  \n",
      " 6   Education_Level           10127 non-null  object \n",
      " 7   Marital_Status            10127 non-null  object \n",
      " 8   Income_Category           10127 non-null  object \n",
      " 9   Card_Category             10127 non-null  object \n",
      " 10  Months_on_book            10127 non-null  int64  \n",
      " 11  Total_Relationship_Count  10127 non-null  int64  \n",
      " 12  Months_Inactive_12_mon    10127 non-null  int64  \n",
      " 13  Contacts_Count_12_mon     10127 non-null  int64  \n",
      " 14  Credit_Limit              10127 non-null  float64\n",
      " 15  Total_Revolving_Bal       10127 non-null  int64  \n",
      " 16  Avg_Open_To_Buy           10127 non-null  float64\n",
      " 17  Total_Amt_Chng_Q4_Q1      10127 non-null  float64\n",
      " 18  Total_Trans_Amt           10127 non-null  int64  \n",
      "dtypes: float64(3), int64(10), object(6)\n",
      "memory usage: 1.5+ MB\n"
     ]
    }
   ],
   "source": [
    "import pandas as pd\n",
    "card = pd.read_csv('https://raw.githubusercontent.com/Datamanim/pandas/main/BankChurnersUp.csv')\n",
    "print(card.shape)\n",
    "card.info()"
   ]
  },
  {
   "cell_type": "code",
   "execution_count": 17,
   "metadata": {},
   "outputs": [
    {
     "data": {
      "text/html": [
       "<div>\n",
       "<style scoped>\n",
       "    .dataframe tbody tr th:only-of-type {\n",
       "        vertical-align: middle;\n",
       "    }\n",
       "\n",
       "    .dataframe tbody tr th {\n",
       "        vertical-align: top;\n",
       "    }\n",
       "\n",
       "    .dataframe thead th {\n",
       "        text-align: right;\n",
       "    }\n",
       "</style>\n",
       "<table border=\"1\" class=\"dataframe\">\n",
       "  <thead>\n",
       "    <tr style=\"text-align: right;\">\n",
       "      <th></th>\n",
       "      <th>Unnamed: 0</th>\n",
       "      <th>CLIENTNUM</th>\n",
       "      <th>Attrition_Flag</th>\n",
       "      <th>Customer_Age</th>\n",
       "      <th>Gender</th>\n",
       "      <th>Dependent_count</th>\n",
       "      <th>Education_Level</th>\n",
       "      <th>Marital_Status</th>\n",
       "      <th>Income_Category</th>\n",
       "      <th>Card_Category</th>\n",
       "      <th>Months_on_book</th>\n",
       "      <th>Total_Relationship_Count</th>\n",
       "      <th>Months_Inactive_12_mon</th>\n",
       "      <th>Contacts_Count_12_mon</th>\n",
       "      <th>Credit_Limit</th>\n",
       "      <th>Total_Revolving_Bal</th>\n",
       "      <th>Avg_Open_To_Buy</th>\n",
       "      <th>Total_Amt_Chng_Q4_Q1</th>\n",
       "      <th>Total_Trans_Amt</th>\n",
       "    </tr>\n",
       "  </thead>\n",
       "  <tbody>\n",
       "    <tr>\n",
       "      <th>0</th>\n",
       "      <td>0</td>\n",
       "      <td>768805383</td>\n",
       "      <td>Existing Customer</td>\n",
       "      <td>45</td>\n",
       "      <td>M</td>\n",
       "      <td>3</td>\n",
       "      <td>High School</td>\n",
       "      <td>Married</td>\n",
       "      <td>$60K - $80K</td>\n",
       "      <td>Blue</td>\n",
       "      <td>39</td>\n",
       "      <td>5</td>\n",
       "      <td>1</td>\n",
       "      <td>3</td>\n",
       "      <td>12691.0</td>\n",
       "      <td>777</td>\n",
       "      <td>11914.0</td>\n",
       "      <td>1.335</td>\n",
       "      <td>1144</td>\n",
       "    </tr>\n",
       "    <tr>\n",
       "      <th>1</th>\n",
       "      <td>1</td>\n",
       "      <td>818770008</td>\n",
       "      <td>Existing Customer</td>\n",
       "      <td>49</td>\n",
       "      <td>F</td>\n",
       "      <td>5</td>\n",
       "      <td>Graduate</td>\n",
       "      <td>Single</td>\n",
       "      <td>Less than $40K</td>\n",
       "      <td>Blue</td>\n",
       "      <td>44</td>\n",
       "      <td>6</td>\n",
       "      <td>1</td>\n",
       "      <td>2</td>\n",
       "      <td>8256.0</td>\n",
       "      <td>864</td>\n",
       "      <td>7392.0</td>\n",
       "      <td>1.541</td>\n",
       "      <td>1291</td>\n",
       "    </tr>\n",
       "    <tr>\n",
       "      <th>2</th>\n",
       "      <td>2</td>\n",
       "      <td>713982108</td>\n",
       "      <td>Existing Customer</td>\n",
       "      <td>51</td>\n",
       "      <td>M</td>\n",
       "      <td>3</td>\n",
       "      <td>Graduate</td>\n",
       "      <td>Married</td>\n",
       "      <td>$80K - $120K</td>\n",
       "      <td>Blue</td>\n",
       "      <td>36</td>\n",
       "      <td>4</td>\n",
       "      <td>1</td>\n",
       "      <td>0</td>\n",
       "      <td>3418.0</td>\n",
       "      <td>0</td>\n",
       "      <td>3418.0</td>\n",
       "      <td>2.594</td>\n",
       "      <td>1887</td>\n",
       "    </tr>\n",
       "    <tr>\n",
       "      <th>3</th>\n",
       "      <td>3</td>\n",
       "      <td>769911858</td>\n",
       "      <td>Existing Customer</td>\n",
       "      <td>40</td>\n",
       "      <td>F</td>\n",
       "      <td>4</td>\n",
       "      <td>High School</td>\n",
       "      <td>Unknown</td>\n",
       "      <td>Less than $40K</td>\n",
       "      <td>Blue</td>\n",
       "      <td>34</td>\n",
       "      <td>3</td>\n",
       "      <td>4</td>\n",
       "      <td>1</td>\n",
       "      <td>3313.0</td>\n",
       "      <td>2517</td>\n",
       "      <td>796.0</td>\n",
       "      <td>1.405</td>\n",
       "      <td>1171</td>\n",
       "    </tr>\n",
       "    <tr>\n",
       "      <th>4</th>\n",
       "      <td>4</td>\n",
       "      <td>709106358</td>\n",
       "      <td>Existing Customer</td>\n",
       "      <td>40</td>\n",
       "      <td>M</td>\n",
       "      <td>3</td>\n",
       "      <td>Uneducated</td>\n",
       "      <td>Married</td>\n",
       "      <td>$60K - $80K</td>\n",
       "      <td>Blue</td>\n",
       "      <td>21</td>\n",
       "      <td>5</td>\n",
       "      <td>1</td>\n",
       "      <td>0</td>\n",
       "      <td>4716.0</td>\n",
       "      <td>0</td>\n",
       "      <td>4716.0</td>\n",
       "      <td>2.175</td>\n",
       "      <td>816</td>\n",
       "    </tr>\n",
       "  </tbody>\n",
       "</table>\n",
       "</div>"
      ],
      "text/plain": [
       "   Unnamed: 0  CLIENTNUM     Attrition_Flag  Customer_Age Gender  \\\n",
       "0           0  768805383  Existing Customer            45      M   \n",
       "1           1  818770008  Existing Customer            49      F   \n",
       "2           2  713982108  Existing Customer            51      M   \n",
       "3           3  769911858  Existing Customer            40      F   \n",
       "4           4  709106358  Existing Customer            40      M   \n",
       "\n",
       "   Dependent_count Education_Level Marital_Status Income_Category  \\\n",
       "0                3     High School        Married     $60K - $80K   \n",
       "1                5        Graduate         Single  Less than $40K   \n",
       "2                3        Graduate        Married    $80K - $120K   \n",
       "3                4     High School        Unknown  Less than $40K   \n",
       "4                3      Uneducated        Married     $60K - $80K   \n",
       "\n",
       "  Card_Category  Months_on_book  Total_Relationship_Count  \\\n",
       "0          Blue              39                         5   \n",
       "1          Blue              44                         6   \n",
       "2          Blue              36                         4   \n",
       "3          Blue              34                         3   \n",
       "4          Blue              21                         5   \n",
       "\n",
       "   Months_Inactive_12_mon  Contacts_Count_12_mon  Credit_Limit  \\\n",
       "0                       1                      3       12691.0   \n",
       "1                       1                      2        8256.0   \n",
       "2                       1                      0        3418.0   \n",
       "3                       4                      1        3313.0   \n",
       "4                       1                      0        4716.0   \n",
       "\n",
       "   Total_Revolving_Bal  Avg_Open_To_Buy  Total_Amt_Chng_Q4_Q1  Total_Trans_Amt  \n",
       "0                  777          11914.0                 1.335             1144  \n",
       "1                  864           7392.0                 1.541             1291  \n",
       "2                    0           3418.0                 2.594             1887  \n",
       "3                 2517            796.0                 1.405             1171  \n",
       "4                    0           4716.0                 2.175              816  "
      ]
     },
     "execution_count": 17,
     "metadata": {},
     "output_type": "execute_result"
    }
   ],
   "source": [
    "card.head()"
   ]
  },
  {
   "attachments": {},
   "cell_type": "markdown",
   "metadata": {},
   "source": [
    "57. Income_Category의 카테고리를 map 함수를 이용하여 다음과 같이 변경하여 newIncome 컬럼에 매핑하라"
   ]
  },
  {
   "cell_type": "code",
   "execution_count": 2,
   "metadata": {},
   "outputs": [
    {
     "data": {
      "text/html": [
       "<div>\n",
       "<style scoped>\n",
       "    .dataframe tbody tr th:only-of-type {\n",
       "        vertical-align: middle;\n",
       "    }\n",
       "\n",
       "    .dataframe tbody tr th {\n",
       "        vertical-align: top;\n",
       "    }\n",
       "\n",
       "    .dataframe thead th {\n",
       "        text-align: right;\n",
       "    }\n",
       "</style>\n",
       "<table border=\"1\" class=\"dataframe\">\n",
       "  <thead>\n",
       "    <tr style=\"text-align: right;\">\n",
       "      <th></th>\n",
       "      <th>Unnamed: 0</th>\n",
       "      <th>CLIENTNUM</th>\n",
       "      <th>Attrition_Flag</th>\n",
       "      <th>Customer_Age</th>\n",
       "      <th>Gender</th>\n",
       "      <th>Dependent_count</th>\n",
       "      <th>Education_Level</th>\n",
       "      <th>Marital_Status</th>\n",
       "      <th>Income_Category</th>\n",
       "      <th>Card_Category</th>\n",
       "      <th>Months_on_book</th>\n",
       "      <th>Total_Relationship_Count</th>\n",
       "      <th>Months_Inactive_12_mon</th>\n",
       "      <th>Contacts_Count_12_mon</th>\n",
       "      <th>Credit_Limit</th>\n",
       "      <th>Total_Revolving_Bal</th>\n",
       "      <th>Avg_Open_To_Buy</th>\n",
       "      <th>Total_Amt_Chng_Q4_Q1</th>\n",
       "      <th>Total_Trans_Amt</th>\n",
       "      <th>newIncome</th>\n",
       "    </tr>\n",
       "  </thead>\n",
       "  <tbody>\n",
       "    <tr>\n",
       "      <th>0</th>\n",
       "      <td>0</td>\n",
       "      <td>768805383</td>\n",
       "      <td>Existing Customer</td>\n",
       "      <td>45</td>\n",
       "      <td>M</td>\n",
       "      <td>3</td>\n",
       "      <td>High School</td>\n",
       "      <td>Married</td>\n",
       "      <td>$60K - $80K</td>\n",
       "      <td>Blue</td>\n",
       "      <td>39</td>\n",
       "      <td>5</td>\n",
       "      <td>1</td>\n",
       "      <td>3</td>\n",
       "      <td>12691.0</td>\n",
       "      <td>777</td>\n",
       "      <td>11914.0</td>\n",
       "      <td>1.335</td>\n",
       "      <td>1144</td>\n",
       "      <td>c</td>\n",
       "    </tr>\n",
       "    <tr>\n",
       "      <th>1</th>\n",
       "      <td>1</td>\n",
       "      <td>818770008</td>\n",
       "      <td>Existing Customer</td>\n",
       "      <td>49</td>\n",
       "      <td>F</td>\n",
       "      <td>5</td>\n",
       "      <td>Graduate</td>\n",
       "      <td>Single</td>\n",
       "      <td>Less than $40K</td>\n",
       "      <td>Blue</td>\n",
       "      <td>44</td>\n",
       "      <td>6</td>\n",
       "      <td>1</td>\n",
       "      <td>2</td>\n",
       "      <td>8256.0</td>\n",
       "      <td>864</td>\n",
       "      <td>7392.0</td>\n",
       "      <td>1.541</td>\n",
       "      <td>1291</td>\n",
       "      <td>a</td>\n",
       "    </tr>\n",
       "    <tr>\n",
       "      <th>2</th>\n",
       "      <td>2</td>\n",
       "      <td>713982108</td>\n",
       "      <td>Existing Customer</td>\n",
       "      <td>51</td>\n",
       "      <td>M</td>\n",
       "      <td>3</td>\n",
       "      <td>Graduate</td>\n",
       "      <td>Married</td>\n",
       "      <td>$80K - $120K</td>\n",
       "      <td>Blue</td>\n",
       "      <td>36</td>\n",
       "      <td>4</td>\n",
       "      <td>1</td>\n",
       "      <td>0</td>\n",
       "      <td>3418.0</td>\n",
       "      <td>0</td>\n",
       "      <td>3418.0</td>\n",
       "      <td>2.594</td>\n",
       "      <td>1887</td>\n",
       "      <td>d</td>\n",
       "    </tr>\n",
       "    <tr>\n",
       "      <th>3</th>\n",
       "      <td>3</td>\n",
       "      <td>769911858</td>\n",
       "      <td>Existing Customer</td>\n",
       "      <td>40</td>\n",
       "      <td>F</td>\n",
       "      <td>4</td>\n",
       "      <td>High School</td>\n",
       "      <td>Unknown</td>\n",
       "      <td>Less than $40K</td>\n",
       "      <td>Blue</td>\n",
       "      <td>34</td>\n",
       "      <td>3</td>\n",
       "      <td>4</td>\n",
       "      <td>1</td>\n",
       "      <td>3313.0</td>\n",
       "      <td>2517</td>\n",
       "      <td>796.0</td>\n",
       "      <td>1.405</td>\n",
       "      <td>1171</td>\n",
       "      <td>a</td>\n",
       "    </tr>\n",
       "    <tr>\n",
       "      <th>4</th>\n",
       "      <td>4</td>\n",
       "      <td>709106358</td>\n",
       "      <td>Existing Customer</td>\n",
       "      <td>40</td>\n",
       "      <td>M</td>\n",
       "      <td>3</td>\n",
       "      <td>Uneducated</td>\n",
       "      <td>Married</td>\n",
       "      <td>$60K - $80K</td>\n",
       "      <td>Blue</td>\n",
       "      <td>21</td>\n",
       "      <td>5</td>\n",
       "      <td>1</td>\n",
       "      <td>0</td>\n",
       "      <td>4716.0</td>\n",
       "      <td>0</td>\n",
       "      <td>4716.0</td>\n",
       "      <td>2.175</td>\n",
       "      <td>816</td>\n",
       "      <td>c</td>\n",
       "    </tr>\n",
       "  </tbody>\n",
       "</table>\n",
       "</div>"
      ],
      "text/plain": [
       "   Unnamed: 0  CLIENTNUM     Attrition_Flag  Customer_Age Gender  \\\n",
       "0           0  768805383  Existing Customer            45      M   \n",
       "1           1  818770008  Existing Customer            49      F   \n",
       "2           2  713982108  Existing Customer            51      M   \n",
       "3           3  769911858  Existing Customer            40      F   \n",
       "4           4  709106358  Existing Customer            40      M   \n",
       "\n",
       "   Dependent_count Education_Level Marital_Status Income_Category  \\\n",
       "0                3     High School        Married     $60K - $80K   \n",
       "1                5        Graduate         Single  Less than $40K   \n",
       "2                3        Graduate        Married    $80K - $120K   \n",
       "3                4     High School        Unknown  Less than $40K   \n",
       "4                3      Uneducated        Married     $60K - $80K   \n",
       "\n",
       "  Card_Category  Months_on_book  Total_Relationship_Count  \\\n",
       "0          Blue              39                         5   \n",
       "1          Blue              44                         6   \n",
       "2          Blue              36                         4   \n",
       "3          Blue              34                         3   \n",
       "4          Blue              21                         5   \n",
       "\n",
       "   Months_Inactive_12_mon  Contacts_Count_12_mon  Credit_Limit  \\\n",
       "0                       1                      3       12691.0   \n",
       "1                       1                      2        8256.0   \n",
       "2                       1                      0        3418.0   \n",
       "3                       4                      1        3313.0   \n",
       "4                       1                      0        4716.0   \n",
       "\n",
       "   Total_Revolving_Bal  Avg_Open_To_Buy  Total_Amt_Chng_Q4_Q1  \\\n",
       "0                  777          11914.0                 1.335   \n",
       "1                  864           7392.0                 1.541   \n",
       "2                    0           3418.0                 2.594   \n",
       "3                 2517            796.0                 1.405   \n",
       "4                    0           4716.0                 2.175   \n",
       "\n",
       "   Total_Trans_Amt newIncome  \n",
       "0             1144         c  \n",
       "1             1291         a  \n",
       "2             1887         d  \n",
       "3             1171         a  \n",
       "4              816         c  "
      ]
     },
     "execution_count": 2,
     "metadata": {},
     "output_type": "execute_result"
    }
   ],
   "source": [
    "new = {'Unknown' : \"N\",\n",
    "'Less than $40K' : 'a',\n",
    "'$40K - $60K' : 'b',\n",
    "'$60K - $80K' : 'c',\n",
    "'$80K - $120K' : 'd',\n",
    "'$120K +' : 'e'}\n",
    "\n",
    "card['newIncome'] = card['Income_Category'].map(new)\n",
    "card.head()"
   ]
  },
  {
   "cell_type": "code",
   "execution_count": null,
   "metadata": {},
   "outputs": [],
   "source": [
    "# 정답\n",
    "dic = {\n",
    "    'Unknown'        : 'N',\n",
    "    'Less than $40K' : 'a',\n",
    "    '$40K - $60K'    : 'b',\n",
    "    '$60K - $80K'    : 'c',\n",
    "    '$80K - $120K'   : 'd',\n",
    "    '$120K +'        : 'e'   \n",
    "}\n",
    "\n",
    "df['newIncome'] = df.Income_Category.map(lambda x: dic[x]) #람다를 안 써도 잘 되는..?\n",
    "\n",
    "Ans = df['newIncome']"
   ]
  },
  {
   "attachments": {},
   "cell_type": "markdown",
   "metadata": {},
   "source": [
    "58. Income_Category의 카테고리를 apply 함수를 이용하여 다음과 같이 변경하여 newIncome 컬럼에 매핑하라"
   ]
  },
  {
   "cell_type": "code",
   "execution_count": 3,
   "metadata": {},
   "outputs": [
    {
     "data": {
      "text/html": [
       "<div>\n",
       "<style scoped>\n",
       "    .dataframe tbody tr th:only-of-type {\n",
       "        vertical-align: middle;\n",
       "    }\n",
       "\n",
       "    .dataframe tbody tr th {\n",
       "        vertical-align: top;\n",
       "    }\n",
       "\n",
       "    .dataframe thead th {\n",
       "        text-align: right;\n",
       "    }\n",
       "</style>\n",
       "<table border=\"1\" class=\"dataframe\">\n",
       "  <thead>\n",
       "    <tr style=\"text-align: right;\">\n",
       "      <th></th>\n",
       "      <th>Unnamed: 0</th>\n",
       "      <th>CLIENTNUM</th>\n",
       "      <th>Attrition_Flag</th>\n",
       "      <th>Customer_Age</th>\n",
       "      <th>Gender</th>\n",
       "      <th>Dependent_count</th>\n",
       "      <th>Education_Level</th>\n",
       "      <th>Marital_Status</th>\n",
       "      <th>Income_Category</th>\n",
       "      <th>Card_Category</th>\n",
       "      <th>Months_on_book</th>\n",
       "      <th>Total_Relationship_Count</th>\n",
       "      <th>Months_Inactive_12_mon</th>\n",
       "      <th>Contacts_Count_12_mon</th>\n",
       "      <th>Credit_Limit</th>\n",
       "      <th>Total_Revolving_Bal</th>\n",
       "      <th>Avg_Open_To_Buy</th>\n",
       "      <th>Total_Amt_Chng_Q4_Q1</th>\n",
       "      <th>Total_Trans_Amt</th>\n",
       "      <th>newIncome</th>\n",
       "    </tr>\n",
       "  </thead>\n",
       "  <tbody>\n",
       "    <tr>\n",
       "      <th>0</th>\n",
       "      <td>0</td>\n",
       "      <td>768805383</td>\n",
       "      <td>Existing Customer</td>\n",
       "      <td>45</td>\n",
       "      <td>M</td>\n",
       "      <td>3</td>\n",
       "      <td>High School</td>\n",
       "      <td>Married</td>\n",
       "      <td>$60K - $80K</td>\n",
       "      <td>Blue</td>\n",
       "      <td>39</td>\n",
       "      <td>5</td>\n",
       "      <td>1</td>\n",
       "      <td>3</td>\n",
       "      <td>12691.0</td>\n",
       "      <td>777</td>\n",
       "      <td>11914.0</td>\n",
       "      <td>1.335</td>\n",
       "      <td>1144</td>\n",
       "      <td>c</td>\n",
       "    </tr>\n",
       "    <tr>\n",
       "      <th>1</th>\n",
       "      <td>1</td>\n",
       "      <td>818770008</td>\n",
       "      <td>Existing Customer</td>\n",
       "      <td>49</td>\n",
       "      <td>F</td>\n",
       "      <td>5</td>\n",
       "      <td>Graduate</td>\n",
       "      <td>Single</td>\n",
       "      <td>Less than $40K</td>\n",
       "      <td>Blue</td>\n",
       "      <td>44</td>\n",
       "      <td>6</td>\n",
       "      <td>1</td>\n",
       "      <td>2</td>\n",
       "      <td>8256.0</td>\n",
       "      <td>864</td>\n",
       "      <td>7392.0</td>\n",
       "      <td>1.541</td>\n",
       "      <td>1291</td>\n",
       "      <td>a</td>\n",
       "    </tr>\n",
       "    <tr>\n",
       "      <th>2</th>\n",
       "      <td>2</td>\n",
       "      <td>713982108</td>\n",
       "      <td>Existing Customer</td>\n",
       "      <td>51</td>\n",
       "      <td>M</td>\n",
       "      <td>3</td>\n",
       "      <td>Graduate</td>\n",
       "      <td>Married</td>\n",
       "      <td>$80K - $120K</td>\n",
       "      <td>Blue</td>\n",
       "      <td>36</td>\n",
       "      <td>4</td>\n",
       "      <td>1</td>\n",
       "      <td>0</td>\n",
       "      <td>3418.0</td>\n",
       "      <td>0</td>\n",
       "      <td>3418.0</td>\n",
       "      <td>2.594</td>\n",
       "      <td>1887</td>\n",
       "      <td>d</td>\n",
       "    </tr>\n",
       "    <tr>\n",
       "      <th>3</th>\n",
       "      <td>3</td>\n",
       "      <td>769911858</td>\n",
       "      <td>Existing Customer</td>\n",
       "      <td>40</td>\n",
       "      <td>F</td>\n",
       "      <td>4</td>\n",
       "      <td>High School</td>\n",
       "      <td>Unknown</td>\n",
       "      <td>Less than $40K</td>\n",
       "      <td>Blue</td>\n",
       "      <td>34</td>\n",
       "      <td>3</td>\n",
       "      <td>4</td>\n",
       "      <td>1</td>\n",
       "      <td>3313.0</td>\n",
       "      <td>2517</td>\n",
       "      <td>796.0</td>\n",
       "      <td>1.405</td>\n",
       "      <td>1171</td>\n",
       "      <td>a</td>\n",
       "    </tr>\n",
       "    <tr>\n",
       "      <th>4</th>\n",
       "      <td>4</td>\n",
       "      <td>709106358</td>\n",
       "      <td>Existing Customer</td>\n",
       "      <td>40</td>\n",
       "      <td>M</td>\n",
       "      <td>3</td>\n",
       "      <td>Uneducated</td>\n",
       "      <td>Married</td>\n",
       "      <td>$60K - $80K</td>\n",
       "      <td>Blue</td>\n",
       "      <td>21</td>\n",
       "      <td>5</td>\n",
       "      <td>1</td>\n",
       "      <td>0</td>\n",
       "      <td>4716.0</td>\n",
       "      <td>0</td>\n",
       "      <td>4716.0</td>\n",
       "      <td>2.175</td>\n",
       "      <td>816</td>\n",
       "      <td>c</td>\n",
       "    </tr>\n",
       "  </tbody>\n",
       "</table>\n",
       "</div>"
      ],
      "text/plain": [
       "   Unnamed: 0  CLIENTNUM     Attrition_Flag  Customer_Age Gender  \\\n",
       "0           0  768805383  Existing Customer            45      M   \n",
       "1           1  818770008  Existing Customer            49      F   \n",
       "2           2  713982108  Existing Customer            51      M   \n",
       "3           3  769911858  Existing Customer            40      F   \n",
       "4           4  709106358  Existing Customer            40      M   \n",
       "\n",
       "   Dependent_count Education_Level Marital_Status Income_Category  \\\n",
       "0                3     High School        Married     $60K - $80K   \n",
       "1                5        Graduate         Single  Less than $40K   \n",
       "2                3        Graduate        Married    $80K - $120K   \n",
       "3                4     High School        Unknown  Less than $40K   \n",
       "4                3      Uneducated        Married     $60K - $80K   \n",
       "\n",
       "  Card_Category  Months_on_book  Total_Relationship_Count  \\\n",
       "0          Blue              39                         5   \n",
       "1          Blue              44                         6   \n",
       "2          Blue              36                         4   \n",
       "3          Blue              34                         3   \n",
       "4          Blue              21                         5   \n",
       "\n",
       "   Months_Inactive_12_mon  Contacts_Count_12_mon  Credit_Limit  \\\n",
       "0                       1                      3       12691.0   \n",
       "1                       1                      2        8256.0   \n",
       "2                       1                      0        3418.0   \n",
       "3                       4                      1        3313.0   \n",
       "4                       1                      0        4716.0   \n",
       "\n",
       "   Total_Revolving_Bal  Avg_Open_To_Buy  Total_Amt_Chng_Q4_Q1  \\\n",
       "0                  777          11914.0                 1.335   \n",
       "1                  864           7392.0                 1.541   \n",
       "2                    0           3418.0                 2.594   \n",
       "3                 2517            796.0                 1.405   \n",
       "4                    0           4716.0                 2.175   \n",
       "\n",
       "   Total_Trans_Amt newIncome  \n",
       "0             1144         c  \n",
       "1             1291         a  \n",
       "2             1887         d  \n",
       "3             1171         a  \n",
       "4              816         c  "
      ]
     },
     "execution_count": 3,
     "metadata": {},
     "output_type": "execute_result"
    }
   ],
   "source": [
    "new = {'Unknown' : \"N\",\n",
    "'Less than $40K' : 'a',\n",
    "'$40K - $60K' : 'b',\n",
    "'$60K - $80K' : 'c',\n",
    "'$80K - $120K' : 'd',\n",
    "'$120K +' : 'e'}\n",
    "\n",
    "card['newIncome'] = card['Income_Category'].apply(lambda x: new[x])\n",
    "card.head()"
   ]
  },
  {
   "attachments": {},
   "cell_type": "markdown",
   "metadata": {},
   "source": [
    "★ 59. Customer_Age의 값을 이용하여 나이 구간을 AgeState 컬럼으로 정의하라. (0~9 : 0 , 10~19 :10 , 20~29 :20 … 각 구간의 빈도수를 출력하라"
   ]
  },
  {
   "cell_type": "code",
   "execution_count": 4,
   "metadata": {},
   "outputs": [
    {
     "name": "stdout",
     "output_type": "stream",
     "text": [
      "20     195\n",
      "30    1841\n",
      "40    4561\n",
      "50    2998\n",
      "60     530\n",
      "70       2\n",
      "Name: AgeState, dtype: int64\n"
     ]
    }
   ],
   "source": [
    "card['AgeState'] = card.Customer_Age.map(lambda x : x//10 *10)\n",
    "ans = card.AgeState.value_counts().sort_index()\n",
    "print(ans)"
   ]
  },
  {
   "attachments": {},
   "cell_type": "markdown",
   "metadata": {},
   "source": [
    "60. Education_Level의 값중 Graduate단어가 포함되는 값은 1 그렇지 않은 경우에는 0으로 변경하여 newEduLevel 컬럼을 정의하고 빈도수를 출력하라"
   ]
  },
  {
   "cell_type": "code",
   "execution_count": 5,
   "metadata": {},
   "outputs": [
    {
     "name": "stdout",
     "output_type": "stream",
     "text": [
      "0    6483\n",
      "1    3644\n",
      "Name: newEduLevel, dtype: int64\n"
     ]
    }
   ],
   "source": [
    "card['newEduLevel'] = card['Education_Level'].map(lambda x : 1 if 'Graduate' in x else 0)\n",
    "ans = card.newEduLevel.value_counts().sort_index()\n",
    "print(ans)"
   ]
  },
  {
   "attachments": {},
   "cell_type": "markdown",
   "metadata": {},
   "source": [
    "61. Credit_Limit 컬럼값이 4500 이상인 경우 1 그외의 경우에는 모두 0으로 하는 newLimit 정의하라. newLimit 각 값들의 빈도수를 출력하라"
   ]
  },
  {
   "cell_type": "code",
   "execution_count": 8,
   "metadata": {},
   "outputs": [
    {
     "name": "stdout",
     "output_type": "stream",
     "text": [
      "1    5096\n",
      "0    5031\n",
      "Name: newLimit, dtype: int64\n"
     ]
    }
   ],
   "source": [
    "card['newLimit'] = card.Credit_Limit.map(lambda x : 1 if x >= 4500 else 0)\n",
    "print(card.newLimit.value_counts())"
   ]
  },
  {
   "attachments": {},
   "cell_type": "markdown",
   "metadata": {},
   "source": [
    "★ 62. Marital_Status 컬럼값이 Married 이고 Card_Category 컬럼의 값이 Platinum인 경우 1 그외의 경우에는 모두 0으로 하는 newState컬럼을 정의하라. newState의 각 값들의 빈도수를 출력하라"
   ]
  },
  {
   "cell_type": "code",
   "execution_count": 13,
   "metadata": {},
   "outputs": [
    {
     "name": "stdout",
     "output_type": "stream",
     "text": [
      "0    10120\n",
      "1        7\n",
      "Name: newState, dtype: int64\n"
     ]
    }
   ],
   "source": [
    "def check(x) :\n",
    "    if x.Marital_Status=='Married' and x.Card_Category=='Platinum' :\n",
    "        return 1\n",
    "    else: \n",
    "        return 0\n",
    "\n",
    "card['newState'] = card.apply(check, axis=1)\n",
    "print(card.newState.value_counts())"
   ]
  },
  {
   "attachments": {},
   "cell_type": "markdown",
   "metadata": {},
   "source": [
    "63. Gender 컬럼값 M인 경우 male, F인 경우 female로 값을 변경하여 Gender 컬럼에 새롭게 정의하라. 각 value의 빈도를 출력하라"
   ]
  },
  {
   "cell_type": "code",
   "execution_count": 18,
   "metadata": {},
   "outputs": [
    {
     "name": "stdout",
     "output_type": "stream",
     "text": [
      "female    5358\n",
      "male      4769\n",
      "Name: Gender, dtype: int64\n"
     ]
    }
   ],
   "source": [
    "card['Gender'] = card.Gender.apply(lambda x : 'female' if x == 'F' else 'male')\n",
    "print(card.Gender.value_counts())"
   ]
  },
  {
   "attachments": {},
   "cell_type": "markdown",
   "metadata": {},
   "source": [
    "# 05_Time_Series\n",
    "> 주가 데이터 : https://raw.githubusercontent.com/guipsamora/pandas_exercises/master/06_Stats/Wind_Stats/wind.data <br>\n",
    "> DataUrl = ‘https://raw.githubusercontent.com/Datamanim/pandas/main/timeTest.csv’"
   ]
  },
  {
   "attachments": {},
   "cell_type": "markdown",
   "metadata": {},
   "source": [
    "64. 데이터를 로드하고 각 열의 데이터 타입을 파악하라"
   ]
  },
  {
   "cell_type": "code",
   "execution_count": 2,
   "metadata": {},
   "outputs": [
    {
     "name": "stdout",
     "output_type": "stream",
     "text": [
      "<class 'pandas.core.frame.DataFrame'>\n",
      "RangeIndex: 6574 entries, 0 to 6573\n",
      "Data columns (total 13 columns):\n",
      " #   Column    Non-Null Count  Dtype  \n",
      "---  ------    --------------  -----  \n",
      " 0   Yr_Mo_Dy  6574 non-null   object \n",
      " 1   RPT       6568 non-null   float64\n",
      " 2   VAL       6571 non-null   float64\n",
      " 3   ROS       6572 non-null   float64\n",
      " 4   KIL       6569 non-null   float64\n",
      " 5   SHA       6572 non-null   float64\n",
      " 6   BIR       6574 non-null   float64\n",
      " 7   DUB       6571 non-null   float64\n",
      " 8   CLA       6572 non-null   float64\n",
      " 9   MUL       6571 non-null   float64\n",
      " 10  CLO       6573 non-null   float64\n",
      " 11  BEL       6574 non-null   float64\n",
      " 12  MAL       6570 non-null   float64\n",
      "dtypes: float64(12), object(1)\n",
      "memory usage: 667.8+ KB\n"
     ]
    }
   ],
   "source": [
    "import pandas as pd\n",
    "wind = pd.read_csv('https://raw.githubusercontent.com/Datamanim/pandas/main/timeTest.csv')\n",
    "wind.info()"
   ]
  },
  {
   "attachments": {},
   "cell_type": "markdown",
   "metadata": {},
   "source": [
    "★ 65. Yr_Mo_Dy을 판다스에서 인식할 수 있는 datetime64타입으로 변경하라"
   ]
  },
  {
   "cell_type": "code",
   "execution_count": 20,
   "metadata": {},
   "outputs": [
    {
     "data": {
      "text/html": [
       "<div>\n",
       "<style scoped>\n",
       "    .dataframe tbody tr th:only-of-type {\n",
       "        vertical-align: middle;\n",
       "    }\n",
       "\n",
       "    .dataframe tbody tr th {\n",
       "        vertical-align: top;\n",
       "    }\n",
       "\n",
       "    .dataframe thead th {\n",
       "        text-align: right;\n",
       "    }\n",
       "</style>\n",
       "<table border=\"1\" class=\"dataframe\">\n",
       "  <thead>\n",
       "    <tr style=\"text-align: right;\">\n",
       "      <th></th>\n",
       "      <th>Yr_Mo_Dy</th>\n",
       "      <th>RPT</th>\n",
       "      <th>VAL</th>\n",
       "      <th>ROS</th>\n",
       "      <th>KIL</th>\n",
       "      <th>SHA</th>\n",
       "      <th>BIR</th>\n",
       "      <th>DUB</th>\n",
       "      <th>CLA</th>\n",
       "      <th>MUL</th>\n",
       "      <th>CLO</th>\n",
       "      <th>BEL</th>\n",
       "      <th>MAL</th>\n",
       "    </tr>\n",
       "  </thead>\n",
       "  <tbody>\n",
       "    <tr>\n",
       "      <th>0</th>\n",
       "      <td>2061-01-01</td>\n",
       "      <td>15.04</td>\n",
       "      <td>14.96</td>\n",
       "      <td>13.17</td>\n",
       "      <td>9.29</td>\n",
       "      <td>NaN</td>\n",
       "      <td>9.87</td>\n",
       "      <td>13.67</td>\n",
       "      <td>10.25</td>\n",
       "      <td>10.83</td>\n",
       "      <td>12.58</td>\n",
       "      <td>18.50</td>\n",
       "      <td>15.04</td>\n",
       "    </tr>\n",
       "    <tr>\n",
       "      <th>1</th>\n",
       "      <td>2061-01-02</td>\n",
       "      <td>14.71</td>\n",
       "      <td>NaN</td>\n",
       "      <td>10.83</td>\n",
       "      <td>6.50</td>\n",
       "      <td>12.62</td>\n",
       "      <td>7.67</td>\n",
       "      <td>11.50</td>\n",
       "      <td>10.04</td>\n",
       "      <td>9.79</td>\n",
       "      <td>9.67</td>\n",
       "      <td>17.54</td>\n",
       "      <td>13.83</td>\n",
       "    </tr>\n",
       "    <tr>\n",
       "      <th>2</th>\n",
       "      <td>2061-01-03</td>\n",
       "      <td>18.50</td>\n",
       "      <td>16.88</td>\n",
       "      <td>12.33</td>\n",
       "      <td>10.13</td>\n",
       "      <td>11.17</td>\n",
       "      <td>6.17</td>\n",
       "      <td>11.25</td>\n",
       "      <td>NaN</td>\n",
       "      <td>8.50</td>\n",
       "      <td>7.67</td>\n",
       "      <td>12.75</td>\n",
       "      <td>12.71</td>\n",
       "    </tr>\n",
       "    <tr>\n",
       "      <th>3</th>\n",
       "      <td>2061-01-04</td>\n",
       "      <td>10.58</td>\n",
       "      <td>6.63</td>\n",
       "      <td>11.75</td>\n",
       "      <td>4.58</td>\n",
       "      <td>4.54</td>\n",
       "      <td>2.88</td>\n",
       "      <td>8.63</td>\n",
       "      <td>1.79</td>\n",
       "      <td>5.83</td>\n",
       "      <td>5.88</td>\n",
       "      <td>5.46</td>\n",
       "      <td>10.88</td>\n",
       "    </tr>\n",
       "    <tr>\n",
       "      <th>4</th>\n",
       "      <td>2061-01-05</td>\n",
       "      <td>13.33</td>\n",
       "      <td>13.25</td>\n",
       "      <td>11.42</td>\n",
       "      <td>6.17</td>\n",
       "      <td>10.71</td>\n",
       "      <td>8.21</td>\n",
       "      <td>11.92</td>\n",
       "      <td>6.54</td>\n",
       "      <td>10.92</td>\n",
       "      <td>10.34</td>\n",
       "      <td>12.92</td>\n",
       "      <td>11.83</td>\n",
       "    </tr>\n",
       "  </tbody>\n",
       "</table>\n",
       "</div>"
      ],
      "text/plain": [
       "     Yr_Mo_Dy    RPT    VAL    ROS    KIL    SHA   BIR    DUB    CLA    MUL  \\\n",
       "0  2061-01-01  15.04  14.96  13.17   9.29    NaN  9.87  13.67  10.25  10.83   \n",
       "1  2061-01-02  14.71    NaN  10.83   6.50  12.62  7.67  11.50  10.04   9.79   \n",
       "2  2061-01-03  18.50  16.88  12.33  10.13  11.17  6.17  11.25    NaN   8.50   \n",
       "3  2061-01-04  10.58   6.63  11.75   4.58   4.54  2.88   8.63   1.79   5.83   \n",
       "4  2061-01-05  13.33  13.25  11.42   6.17  10.71  8.21  11.92   6.54  10.92   \n",
       "\n",
       "     CLO    BEL    MAL  \n",
       "0  12.58  18.50  15.04  \n",
       "1   9.67  17.54  13.83  \n",
       "2   7.67  12.75  12.71  \n",
       "3   5.88   5.46  10.88  \n",
       "4  10.34  12.92  11.83  "
      ]
     },
     "execution_count": 20,
     "metadata": {},
     "output_type": "execute_result"
    }
   ],
   "source": [
    "wind.head()"
   ]
  },
  {
   "cell_type": "code",
   "execution_count": 27,
   "metadata": {},
   "outputs": [
    {
     "data": {
      "text/plain": [
       "0    2061-01-01\n",
       "1    2061-01-02\n",
       "2    2061-01-03\n",
       "3    2061-01-04\n",
       "Name: Yr_Mo_Dy, dtype: object"
      ]
     },
     "execution_count": 27,
     "metadata": {},
     "output_type": "execute_result"
    }
   ],
   "source": [
    "wind.Yr_Mo_Dy.head(4)"
   ]
  },
  {
   "cell_type": "code",
   "execution_count": 3,
   "metadata": {},
   "outputs": [
    {
     "data": {
      "text/plain": [
       "0   2061-01-01\n",
       "1   2061-01-02\n",
       "2   2061-01-03\n",
       "3   2061-01-04\n",
       "Name: Yr_Mo_Dy, dtype: datetime64[ns]"
      ]
     },
     "execution_count": 3,
     "metadata": {},
     "output_type": "execute_result"
    }
   ],
   "source": [
    "wind.Yr_Mo_Dy = pd.to_datetime(wind.Yr_Mo_Dy)\n",
    "wind.Yr_Mo_Dy.head(4)"
   ]
  },
  {
   "attachments": {},
   "cell_type": "markdown",
   "metadata": {},
   "source": [
    "★ 66. Yr_Mo_Dy에 존재하는 년도의 유일값을 모두 출력하라"
   ]
  },
  {
   "cell_type": "code",
   "execution_count": 55,
   "metadata": {},
   "outputs": [
    {
     "name": "stdout",
     "output_type": "stream",
     "text": [
      "[2061 2062 2063 2064 2065 2066 2067 2068 2069 2070 1971 1972 1973 1974\n",
      " 1975 1976 1977 1978]\n"
     ]
    }
   ],
   "source": [
    "print(wind.Yr_Mo_Dy.dt.year.unique())"
   ]
  },
  {
   "attachments": {},
   "cell_type": "markdown",
   "metadata": {},
   "source": [
    "★ 67. Yr_Mo_Dy에 년도가 2061년 이상의 경우에는 모두 잘못된 데이터이다. 해당경우의 값은 100을 빼서 새롭게 날짜를 Yr_Mo_Dy 컬럼에 정의하라"
   ]
  },
  {
   "cell_type": "code",
   "execution_count": 6,
   "metadata": {},
   "outputs": [
    {
     "name": "stdout",
     "output_type": "stream",
     "text": [
      "    Yr_Mo_Dy    RPT    VAL    ROS    KIL    SHA   BIR    DUB    CLA    MUL  \\\n",
      "0 1961-01-01  15.04  14.96  13.17   9.29    NaN  9.87  13.67  10.25  10.83   \n",
      "1 1961-01-02  14.71    NaN  10.83   6.50  12.62  7.67  11.50  10.04   9.79   \n",
      "2 1961-01-03  18.50  16.88  12.33  10.13  11.17  6.17  11.25    NaN   8.50   \n",
      "3 1961-01-04  10.58   6.63  11.75   4.58   4.54  2.88   8.63   1.79   5.83   \n",
      "\n",
      "     CLO    BEL    MAL  \n",
      "0  12.58  18.50  15.04  \n",
      "1   9.67  17.54  13.83  \n",
      "2   7.67  12.75  12.71  \n",
      "3   5.88   5.46  10.88  \n"
     ]
    }
   ],
   "source": [
    "def fix_century(x):\n",
    "    import datetime\n",
    "    year = x.year - 100 if x.year >= 2061 else x.year\n",
    "    return pd.to_datetime(datetime.date(year, x.month, x.day))\n",
    "\n",
    "wind['Yr_Mo_Dy'] = wind['Yr_Mo_Dy'].apply(fix_century)\n",
    "print(wind.head(4))"
   ]
  },
  {
   "attachments": {},
   "cell_type": "markdown",
   "metadata": {},
   "source": [
    "★ 68. 년도별 각컬럼의 평균값을 구하여라"
   ]
  },
  {
   "cell_type": "code",
   "execution_count": 7,
   "metadata": {},
   "outputs": [
    {
     "name": "stdout",
     "output_type": "stream",
     "text": [
      "                RPT        VAL        ROS       KIL        SHA       BIR  \\\n",
      "Yr_Mo_Dy                                                                   \n",
      "1961      12.299583  10.351796  11.362369  6.958227  10.881763  7.729726   \n",
      "1962      12.246923  10.110438  11.732712  6.960440  10.657918  7.393068   \n",
      "1963      12.813452  10.836986  12.541151  7.330055  11.724110  8.434712   \n",
      "1964      12.363661  10.920164  12.104372  6.787787  11.454481  7.570874   \n",
      "\n",
      "                DUB        CLA       MUL        CLO        BEL        MAL  \n",
      "Yr_Mo_Dy                                                                   \n",
      "1961       9.733923   8.858788  8.647652   9.835577  13.502795  13.680773  \n",
      "1962      11.020712   8.793753  8.316822   9.676247  12.930685  14.323956  \n",
      "1963      11.075699  10.336548  8.903589  10.224438  13.638877  14.999014  \n",
      "1964      10.259153   9.467350  7.789016  10.207951  13.740546  14.910301  \n"
     ]
    }
   ],
   "source": [
    "print(wind.groupby(wind.Yr_Mo_Dy.dt.year).mean(numeric_only=True).head(4))"
   ]
  },
  {
   "attachments": {},
   "cell_type": "markdown",
   "metadata": {},
   "source": [
    "★ 69. weekday컬럼을 만들고 요일별로 매핑하라 ( 월요일: 0 ~ 일요일 :6)"
   ]
  },
  {
   "cell_type": "code",
   "execution_count": 8,
   "metadata": {},
   "outputs": [
    {
     "name": "stdout",
     "output_type": "stream",
     "text": [
      "   weekday\n",
      "0        6\n",
      "1        0\n",
      "2        1\n"
     ]
    }
   ],
   "source": [
    "wind['weekday'] = wind.Yr_Mo_Dy.dt.weekday\n",
    "print(wind.weekday.head(3).to_frame())"
   ]
  },
  {
   "attachments": {},
   "cell_type": "markdown",
   "metadata": {},
   "source": [
    "70. weekday컬럼을 기준으로 주말이면 1 평일이면 0의 값을 가지는 WeekCheck 컬럼을 만들어라"
   ]
  },
  {
   "cell_type": "code",
   "execution_count": 9,
   "metadata": {},
   "outputs": [
    {
     "name": "stdout",
     "output_type": "stream",
     "text": [
      "   WeekCheck\n",
      "0          1\n",
      "1          0\n",
      "2          0\n"
     ]
    }
   ],
   "source": [
    "wind['WeekCheck'] = wind.weekday.apply(lambda x : 1 if (x==6)or(x==5) else 0)\n",
    "print(wind.WeekCheck.head(3).to_frame())"
   ]
  },
  {
   "cell_type": "code",
   "execution_count": 10,
   "metadata": {},
   "outputs": [
    {
     "name": "stdout",
     "output_type": "stream",
     "text": [
      "   WeekCheck\n",
      "0          1\n",
      "1          0\n",
      "2          0\n"
     ]
    }
   ],
   "source": [
    "# 답안\n",
    "wind['WeekCheck'] = wind.weekday.map(lambda x : 1 if x in [5,6] else 0)\n",
    "print(wind.WeekCheck.head(3).to_frame())"
   ]
  },
  {
   "attachments": {},
   "cell_type": "markdown",
   "metadata": {},
   "source": [
    "71. 년도, 일자 상관없이 모든 컬럼의 각 달의 평균을 구하여라"
   ]
  },
  {
   "cell_type": "code",
   "execution_count": 13,
   "metadata": {},
   "outputs": [
    {
     "data": {
      "text/html": [
       "<div>\n",
       "<style scoped>\n",
       "    .dataframe tbody tr th:only-of-type {\n",
       "        vertical-align: middle;\n",
       "    }\n",
       "\n",
       "    .dataframe tbody tr th {\n",
       "        vertical-align: top;\n",
       "    }\n",
       "\n",
       "    .dataframe thead th {\n",
       "        text-align: right;\n",
       "    }\n",
       "</style>\n",
       "<table border=\"1\" class=\"dataframe\">\n",
       "  <thead>\n",
       "    <tr style=\"text-align: right;\">\n",
       "      <th></th>\n",
       "      <th>RPT</th>\n",
       "      <th>VAL</th>\n",
       "      <th>ROS</th>\n",
       "      <th>KIL</th>\n",
       "      <th>SHA</th>\n",
       "      <th>BIR</th>\n",
       "      <th>DUB</th>\n",
       "      <th>CLA</th>\n",
       "      <th>MUL</th>\n",
       "      <th>CLO</th>\n",
       "      <th>BEL</th>\n",
       "      <th>MAL</th>\n",
       "      <th>weekday</th>\n",
       "      <th>WeekCheck</th>\n",
       "    </tr>\n",
       "    <tr>\n",
       "      <th>Yr_Mo_Dy</th>\n",
       "      <th></th>\n",
       "      <th></th>\n",
       "      <th></th>\n",
       "      <th></th>\n",
       "      <th></th>\n",
       "      <th></th>\n",
       "      <th></th>\n",
       "      <th></th>\n",
       "      <th></th>\n",
       "      <th></th>\n",
       "      <th></th>\n",
       "      <th></th>\n",
       "      <th></th>\n",
       "      <th></th>\n",
       "    </tr>\n",
       "  </thead>\n",
       "  <tbody>\n",
       "    <tr>\n",
       "      <th>1</th>\n",
       "      <td>14.847325</td>\n",
       "      <td>12.914560</td>\n",
       "      <td>13.299624</td>\n",
       "      <td>7.199498</td>\n",
       "      <td>11.667734</td>\n",
       "      <td>8.054839</td>\n",
       "      <td>11.819355</td>\n",
       "      <td>9.512047</td>\n",
       "      <td>9.543208</td>\n",
       "      <td>10.053566</td>\n",
       "      <td>14.550520</td>\n",
       "      <td>18.028763</td>\n",
       "      <td>2.989247</td>\n",
       "      <td>0.284946</td>\n",
       "    </tr>\n",
       "    <tr>\n",
       "      <th>2</th>\n",
       "      <td>13.710906</td>\n",
       "      <td>12.111122</td>\n",
       "      <td>12.879132</td>\n",
       "      <td>6.942411</td>\n",
       "      <td>11.551772</td>\n",
       "      <td>7.633858</td>\n",
       "      <td>11.206024</td>\n",
       "      <td>9.341437</td>\n",
       "      <td>9.313169</td>\n",
       "      <td>9.518051</td>\n",
       "      <td>13.728898</td>\n",
       "      <td>17.156142</td>\n",
       "      <td>3.005906</td>\n",
       "      <td>0.287402</td>\n",
       "    </tr>\n",
       "    <tr>\n",
       "      <th>3</th>\n",
       "      <td>13.158687</td>\n",
       "      <td>11.505842</td>\n",
       "      <td>12.648118</td>\n",
       "      <td>7.265907</td>\n",
       "      <td>11.554516</td>\n",
       "      <td>7.959409</td>\n",
       "      <td>11.310179</td>\n",
       "      <td>9.635896</td>\n",
       "      <td>9.700324</td>\n",
       "      <td>10.096953</td>\n",
       "      <td>13.810609</td>\n",
       "      <td>16.909317</td>\n",
       "      <td>3.000000</td>\n",
       "      <td>0.283154</td>\n",
       "    </tr>\n",
       "    <tr>\n",
       "      <th>4</th>\n",
       "      <td>12.555648</td>\n",
       "      <td>10.429759</td>\n",
       "      <td>12.204815</td>\n",
       "      <td>6.898037</td>\n",
       "      <td>10.677667</td>\n",
       "      <td>7.441389</td>\n",
       "      <td>10.221315</td>\n",
       "      <td>8.909056</td>\n",
       "      <td>8.930870</td>\n",
       "      <td>9.158019</td>\n",
       "      <td>12.664759</td>\n",
       "      <td>14.937611</td>\n",
       "      <td>3.011111</td>\n",
       "      <td>0.288889</td>\n",
       "    </tr>\n",
       "  </tbody>\n",
       "</table>\n",
       "</div>"
      ],
      "text/plain": [
       "                RPT        VAL        ROS       KIL        SHA       BIR  \\\n",
       "Yr_Mo_Dy                                                                   \n",
       "1         14.847325  12.914560  13.299624  7.199498  11.667734  8.054839   \n",
       "2         13.710906  12.111122  12.879132  6.942411  11.551772  7.633858   \n",
       "3         13.158687  11.505842  12.648118  7.265907  11.554516  7.959409   \n",
       "4         12.555648  10.429759  12.204815  6.898037  10.677667  7.441389   \n",
       "\n",
       "                DUB       CLA       MUL        CLO        BEL        MAL  \\\n",
       "Yr_Mo_Dy                                                                   \n",
       "1         11.819355  9.512047  9.543208  10.053566  14.550520  18.028763   \n",
       "2         11.206024  9.341437  9.313169   9.518051  13.728898  17.156142   \n",
       "3         11.310179  9.635896  9.700324  10.096953  13.810609  16.909317   \n",
       "4         10.221315  8.909056  8.930870   9.158019  12.664759  14.937611   \n",
       "\n",
       "           weekday  WeekCheck  \n",
       "Yr_Mo_Dy                       \n",
       "1         2.989247   0.284946  \n",
       "2         3.005906   0.287402  \n",
       "3         3.000000   0.283154  \n",
       "4         3.011111   0.288889  "
      ]
     },
     "execution_count": 13,
     "metadata": {},
     "output_type": "execute_result"
    }
   ],
   "source": [
    "ans = wind.groupby(wind.Yr_Mo_Dy.dt.month).mean(numeric_only=True)\n",
    "ans.head(4)"
   ]
  },
  {
   "attachments": {},
   "cell_type": "markdown",
   "metadata": {},
   "source": [
    "72. 모든 결측치는 컬럼기준 직전의 값으로 대체하고 첫번째 행에 결측치가 있을경우 뒤에있는 값으로 대채하라"
   ]
  },
  {
   "cell_type": "code",
   "execution_count": 17,
   "metadata": {},
   "outputs": [
    {
     "name": "stdout",
     "output_type": "stream",
     "text": [
      "Yr_Mo_Dy     0\n",
      "RPT          0\n",
      "VAL          0\n",
      "ROS          0\n",
      "KIL          0\n",
      "SHA          0\n",
      "BIR          0\n",
      "DUB          0\n",
      "CLA          0\n",
      "MUL          0\n",
      "CLO          0\n",
      "BEL          0\n",
      "MAL          0\n",
      "weekday      0\n",
      "WeekCheck    0\n",
      "dtype: int64\n"
     ]
    }
   ],
   "source": [
    "wind.fillna(method='ffill', inplace=True)\n",
    "wind.fillna(method='bfill', inplace=True)\n",
    "print(wind.isnull().sum())"
   ]
  },
  {
   "cell_type": "code",
   "execution_count": null,
   "metadata": {},
   "outputs": [],
   "source": [
    "# 답안 >> 두가지를 한꺼번 써는 것도 가능!\n",
    "df = df.fillna(method='ffill').fillna(method='bfill')"
   ]
  },
  {
   "attachments": {},
   "cell_type": "markdown",
   "metadata": {},
   "source": [
    "★ 73. 년도 - 월을 기준으로 모든 컬럼의 평균값을 구하여라\n",
    "> https://pandas.pydata.org/docs/reference/api/pandas.Series.dt.to_period.html?highlight=to_period#pandas.Series.dt.to_period"
   ]
  },
  {
   "cell_type": "code",
   "execution_count": 20,
   "metadata": {},
   "outputs": [
    {
     "name": "stdout",
     "output_type": "stream",
     "text": [
      "                RPT        VAL        ROS       KIL        SHA        BIR  \\\n",
      "Yr_Mo_Dy                                                                    \n",
      "1961-01   14.932581  12.084194  13.431613  7.736774  11.215806   8.588065   \n",
      "1961-02   16.269286  14.975357  14.324643  9.116786  13.852143  10.937500   \n",
      "1961-03   11.015806  11.296452  10.752903  7.137742  10.509355   8.866774   \n",
      "\n",
      "                DUB        CLA        MUL        CLO        BEL        MAL  \\\n",
      "Yr_Mo_Dy                                                                     \n",
      "1961-01   11.184839   9.270968   9.085806  10.107419  13.880968  14.703226   \n",
      "1961-02   11.890714  11.846071  11.821429  12.714286  18.583214  15.411786   \n",
      "1961-03    9.644194   9.829677  10.646129  11.251935  16.410968  15.637742   \n",
      "\n",
      "           weekday  WeekCheck  \n",
      "Yr_Mo_Dy                       \n",
      "1961-01   2.935484   0.290323  \n",
      "1961-02   3.000000   0.285714  \n",
      "1961-03   3.000000   0.258065  \n"
     ]
    }
   ],
   "source": [
    "ans = wind.groupby(wind.Yr_Mo_Dy.dt.to_period('M')).mean(numeric_only=True)\n",
    "print(ans.head(3))"
   ]
  },
  {
   "attachments": {},
   "cell_type": "markdown",
   "metadata": {},
   "source": [
    "★ 74. RPT 컬럼의 값을 일자별 기준으로 1차차분하라\n",
    "> 차분 : 수열에서 연속하는 두 항의 차"
   ]
  },
  {
   "cell_type": "code",
   "execution_count": 21,
   "metadata": {},
   "outputs": [
    {
     "name": "stdout",
     "output_type": "stream",
     "text": [
      "0     NaN\n",
      "1   -0.33\n",
      "2    3.79\n",
      "Name: RPT, dtype: float64\n"
     ]
    }
   ],
   "source": [
    "print(wind.RPT.diff().head(3))"
   ]
  },
  {
   "attachments": {},
   "cell_type": "markdown",
   "metadata": {},
   "source": [
    "★ 75. RPT와 VAL의 컬럼을 일주일 간격으로 각각 이동평균한값을 구하여라"
   ]
  },
  {
   "cell_type": "code",
   "execution_count": 23,
   "metadata": {},
   "outputs": [
    {
     "name": "stdout",
     "output_type": "stream",
     "text": [
      "         RPT        VAL\n",
      "0        NaN        NaN\n",
      "1        NaN        NaN\n",
      "2        NaN        NaN\n",
      "3        NaN        NaN\n",
      "4        NaN        NaN\n",
      "5        NaN        NaN\n",
      "6  14.124286  12.727143\n",
      "7  13.541429  11.982857\n",
      "8  13.237143  11.392857\n"
     ]
    }
   ],
   "source": [
    "print(wind[['RPT', 'VAL']].rolling(7).mean(numeric_only=True).head(9))"
   ]
  },
  {
   "attachments": {},
   "cell_type": "markdown",
   "metadata": {},
   "source": [
    "### 데이터 변경\n",
    "- 서울시 미세먼지 데이터 : https://www.airkorea.or.kr/web/realSearch?pMENU_NO=97 \n",
    "- DataUrl = ‘https://raw.githubusercontent.com/Datamanim/pandas/main/seoul_pm.csv’"
   ]
  },
  {
   "cell_type": "code",
   "execution_count": 26,
   "metadata": {},
   "outputs": [
    {
     "name": "stdout",
     "output_type": "stream",
     "text": [
      "<class 'pandas.core.frame.DataFrame'>\n",
      "RangeIndex: 1239 entries, 0 to 1238\n",
      "Data columns (total 13 columns):\n",
      " #   Column     Non-Null Count  Dtype  \n",
      "---  ------     --------------  -----  \n",
      " 0   (년-월-일:시)  1239 non-null   object \n",
      " 1   PM10등급     1233 non-null   object \n",
      " 2   PM10       1233 non-null   float64\n",
      " 3   PM2.5등급    1232 non-null   object \n",
      " 4   PM2.5      1232 non-null   float64\n",
      " 5   오존등급       1232 non-null   object \n",
      " 6   오존         1232 non-null   float64\n",
      " 7   이산화질소등급    1232 non-null   object \n",
      " 8   이산화질소      1232 non-null   float64\n",
      " 9   일산화탄소등급    1232 non-null   object \n",
      " 10  일산화탄소      1232 non-null   float64\n",
      " 11  아황산가스등급    1232 non-null   object \n",
      " 12  아황산가스      1232 non-null   float64\n",
      "dtypes: float64(6), object(7)\n",
      "memory usage: 126.0+ KB\n"
     ]
    }
   ],
   "source": [
    "df = pd.read_csv('https://raw.githubusercontent.com/Datamanim/pandas/main/seoul_pm.csv')\n",
    "df.info()"
   ]
  },
  {
   "cell_type": "code",
   "execution_count": 27,
   "metadata": {},
   "outputs": [
    {
     "data": {
      "text/html": [
       "<div>\n",
       "<style scoped>\n",
       "    .dataframe tbody tr th:only-of-type {\n",
       "        vertical-align: middle;\n",
       "    }\n",
       "\n",
       "    .dataframe tbody tr th {\n",
       "        vertical-align: top;\n",
       "    }\n",
       "\n",
       "    .dataframe thead th {\n",
       "        text-align: right;\n",
       "    }\n",
       "</style>\n",
       "<table border=\"1\" class=\"dataframe\">\n",
       "  <thead>\n",
       "    <tr style=\"text-align: right;\">\n",
       "      <th></th>\n",
       "      <th>(년-월-일:시)</th>\n",
       "      <th>PM10등급</th>\n",
       "      <th>PM10</th>\n",
       "      <th>PM2.5등급</th>\n",
       "      <th>PM2.5</th>\n",
       "      <th>오존등급</th>\n",
       "      <th>오존</th>\n",
       "      <th>이산화질소등급</th>\n",
       "      <th>이산화질소</th>\n",
       "      <th>일산화탄소등급</th>\n",
       "      <th>일산화탄소</th>\n",
       "      <th>아황산가스등급</th>\n",
       "      <th>아황산가스</th>\n",
       "    </tr>\n",
       "  </thead>\n",
       "  <tbody>\n",
       "    <tr>\n",
       "      <th>0</th>\n",
       "      <td>2021-05-15:15</td>\n",
       "      <td>보통</td>\n",
       "      <td>47.0</td>\n",
       "      <td>보통</td>\n",
       "      <td>19.0</td>\n",
       "      <td>좋음</td>\n",
       "      <td>0.017</td>\n",
       "      <td>좋음</td>\n",
       "      <td>0.023</td>\n",
       "      <td>좋음</td>\n",
       "      <td>0.4</td>\n",
       "      <td>좋음</td>\n",
       "      <td>0.003</td>\n",
       "    </tr>\n",
       "    <tr>\n",
       "      <th>1</th>\n",
       "      <td>2021-05-15:14</td>\n",
       "      <td>보통</td>\n",
       "      <td>43.0</td>\n",
       "      <td>보통</td>\n",
       "      <td>20.0</td>\n",
       "      <td>좋음</td>\n",
       "      <td>0.024</td>\n",
       "      <td>좋음</td>\n",
       "      <td>0.019</td>\n",
       "      <td>좋음</td>\n",
       "      <td>0.3</td>\n",
       "      <td>좋음</td>\n",
       "      <td>0.003</td>\n",
       "    </tr>\n",
       "    <tr>\n",
       "      <th>2</th>\n",
       "      <td>2021-05-15:13</td>\n",
       "      <td>보통</td>\n",
       "      <td>34.0</td>\n",
       "      <td>보통</td>\n",
       "      <td>24.0</td>\n",
       "      <td>보통</td>\n",
       "      <td>0.035</td>\n",
       "      <td>좋음</td>\n",
       "      <td>0.017</td>\n",
       "      <td>좋음</td>\n",
       "      <td>0.4</td>\n",
       "      <td>좋음</td>\n",
       "      <td>0.004</td>\n",
       "    </tr>\n",
       "    <tr>\n",
       "      <th>3</th>\n",
       "      <td>2021-05-15:12</td>\n",
       "      <td>보통</td>\n",
       "      <td>41.0</td>\n",
       "      <td>보통</td>\n",
       "      <td>27.0</td>\n",
       "      <td>보통</td>\n",
       "      <td>0.037</td>\n",
       "      <td>좋음</td>\n",
       "      <td>0.020</td>\n",
       "      <td>좋음</td>\n",
       "      <td>0.4</td>\n",
       "      <td>좋음</td>\n",
       "      <td>0.004</td>\n",
       "    </tr>\n",
       "    <tr>\n",
       "      <th>4</th>\n",
       "      <td>2021-05-15:11</td>\n",
       "      <td>보통</td>\n",
       "      <td>51.0</td>\n",
       "      <td>보통</td>\n",
       "      <td>34.0</td>\n",
       "      <td>보통</td>\n",
       "      <td>0.033</td>\n",
       "      <td>좋음</td>\n",
       "      <td>0.023</td>\n",
       "      <td>좋음</td>\n",
       "      <td>0.4</td>\n",
       "      <td>좋음</td>\n",
       "      <td>0.005</td>\n",
       "    </tr>\n",
       "  </tbody>\n",
       "</table>\n",
       "</div>"
      ],
      "text/plain": [
       "       (년-월-일:시) PM10등급  PM10 PM2.5등급  PM2.5 오존등급     오존 이산화질소등급  이산화질소  \\\n",
       "0  2021-05-15:15     보통  47.0      보통   19.0   좋음  0.017      좋음  0.023   \n",
       "1  2021-05-15:14     보통  43.0      보통   20.0   좋음  0.024      좋음  0.019   \n",
       "2  2021-05-15:13     보통  34.0      보통   24.0   보통  0.035      좋음  0.017   \n",
       "3  2021-05-15:12     보통  41.0      보통   27.0   보통  0.037      좋음  0.020   \n",
       "4  2021-05-15:11     보통  51.0      보통   34.0   보통  0.033      좋음  0.023   \n",
       "\n",
       "  일산화탄소등급  일산화탄소 아황산가스등급  아황산가스  \n",
       "0      좋음    0.4      좋음  0.003  \n",
       "1      좋음    0.3      좋음  0.003  \n",
       "2      좋음    0.4      좋음  0.004  \n",
       "3      좋음    0.4      좋음  0.004  \n",
       "4      좋음    0.4      좋음  0.005  "
      ]
     },
     "execution_count": 27,
     "metadata": {},
     "output_type": "execute_result"
    }
   ],
   "source": [
    "df.head()"
   ]
  },
  {
   "attachments": {},
   "cell_type": "markdown",
   "metadata": {},
   "source": [
    "★ 76. 년-월-일:시 컬럼을 pandas에서 인식할 수 있는 datetime 형태로 변경하라. 서울시의 제공데이터의 경우 0시가 24시로 표현된다"
   ]
  },
  {
   "cell_type": "code",
   "execution_count": 35,
   "metadata": {},
   "outputs": [
    {
     "name": "stdout",
     "output_type": "stream",
     "text": [
      "15 2021-05-15\n",
      "2021-05-15 15:00:00\n"
     ]
    }
   ],
   "source": [
    "import datetime\n",
    "h = '2021-05-15:15'.split(':')[1]\n",
    "d = '2021-05-15:15'.split(':')[0]\n",
    "print(h, d)\n",
    "if h == '24':\n",
    "    h = '00:00:00'\n",
    "    finaldate = pd.to_datetime(d + ' ' + h) + datetime.timedelta(days=1)\n",
    "else:\n",
    "    h = h + ':00:00'\n",
    "    finaldate = pd.to_datetime(d+' '+h)\n",
    "print( finaldate)"
   ]
  },
  {
   "cell_type": "code",
   "execution_count": 33,
   "metadata": {},
   "outputs": [
    {
     "data": {
      "text/plain": [
       "0   2021-05-15 15:00:00\n",
       "1   2021-05-15 14:00:00\n",
       "2   2021-05-15 13:00:00\n",
       "Name: (년-월-일:시), dtype: datetime64[ns]"
      ]
     },
     "execution_count": 33,
     "metadata": {},
     "output_type": "execute_result"
    }
   ],
   "source": [
    "def change_date(x):\n",
    "    import datetime\n",
    "    h = x.split(':')[1]\n",
    "    d = x.split(':')[0]\n",
    "\n",
    "    if h == '24':\n",
    "        h = '00:00:00'\n",
    "        finaldate = pd.to_datetime(d + ' ' + h) + datetime.timedelta(days=1)\n",
    "    else:\n",
    "        h = h + ':00:00'\n",
    "        finaldate = pd.to_datetime(d+' '+h)\n",
    "    return finaldate\n",
    "\n",
    "df['(년-월-일:시)'] = df['(년-월-일:시)'].apply(change_date)\n",
    "df['(년-월-일:시)'].head(3)"
   ]
  },
  {
   "attachments": {},
   "cell_type": "markdown",
   "metadata": {},
   "source": [
    "★ 77. 일자별 영어요일 이름을 dayName 컬럼에 저장하라"
   ]
  },
  {
   "cell_type": "code",
   "execution_count": 36,
   "metadata": {},
   "outputs": [
    {
     "name": "stdout",
     "output_type": "stream",
     "text": [
      "0    Saturday\n",
      "1    Saturday\n",
      "2    Saturday\n",
      "3    Saturday\n",
      "4    Saturday\n",
      "Name: dayName, dtype: object\n"
     ]
    }
   ],
   "source": [
    "df['dayName'] = df['(년-월-일:시)'].dt.day_name()\n",
    "print(df.dayName.head())"
   ]
  },
  {
   "attachments": {},
   "cell_type": "markdown",
   "metadata": {},
   "source": [
    "★ 78. 요일별 각 PM10등급의 빈도수를 파악하라"
   ]
  },
  {
   "cell_type": "code",
   "execution_count": 42,
   "metadata": {},
   "outputs": [
    {
     "name": "stdout",
     "output_type": "stream",
     "text": [
      "      dayName PM10등급  size\n",
      "0      Friday     나쁨    31\n",
      "1      Friday   매우나쁨    17\n",
      "2      Friday     보통   120\n",
      "3      Friday     좋음    21\n",
      "4      Monday     나쁨     1\n",
      "5      Monday   매우나쁨    21\n",
      "6      Monday     보통    83\n",
      "7      Monday     좋음    63\n",
      "8    Saturday     나쁨    31\n",
      "9    Saturday   매우나쁨    27\n",
      "10   Saturday     보통    71\n",
      "11   Saturday     좋음    54\n",
      "12     Sunday     나쁨     2\n",
      "13     Sunday   매우나쁨     1\n",
      "14     Sunday     보통    67\n",
      "15     Sunday     좋음    98\n",
      "16   Thursday     나쁨    41\n",
      "17   Thursday     보통   144\n",
      "18   Thursday     좋음     5\n",
      "19    Tuesday     나쁨    13\n",
      "20    Tuesday   매우나쁨    10\n",
      "21    Tuesday     보통    71\n",
      "22    Tuesday     좋음    74\n",
      "23  Wednesday     나쁨    26\n",
      "24  Wednesday     보통    95\n",
      "25  Wednesday     좋음    46\n"
     ]
    }
   ],
   "source": [
    "ans1 = df.groupby(['dayName', 'PM10등급'], as_index=False).size()\n",
    "print(ans1)"
   ]
  },
  {
   "cell_type": "code",
   "execution_count": 44,
   "metadata": {},
   "outputs": [
    {
     "name": "stdout",
     "output_type": "stream",
     "text": [
      "PM10등급       나쁨  매우나쁨     보통    좋음\n",
      "dayName                           \n",
      "Friday     31.0  17.0  120.0  21.0\n",
      "Monday      1.0  21.0   83.0  63.0\n",
      "Saturday   31.0  27.0   71.0  54.0\n",
      "Sunday      2.0   1.0   67.0  98.0\n",
      "Thursday   41.0   0.0  144.0   5.0\n",
      "Tuesday    13.0  10.0   71.0  74.0\n",
      "Wednesday  26.0   0.0   95.0  46.0\n"
     ]
    }
   ],
   "source": [
    "ans2 = ans1.pivot(index='dayName', columns='PM10등급', values='size').fillna(0)\n",
    "print(ans2)"
   ]
  },
  {
   "attachments": {},
   "cell_type": "markdown",
   "metadata": {},
   "source": [
    "★ 79. 시간이 연속적으로 존재하며 결측치가 없는지 확인하라\n",
    "> 시간을 차분했을 경우 첫 값은 nan, 이후 모든 차분값이 동일하면 연속이라 판단한다."
   ]
  },
  {
   "cell_type": "code",
   "execution_count": 45,
   "metadata": {},
   "outputs": [
    {
     "data": {
      "text/html": [
       "<div>\n",
       "<style scoped>\n",
       "    .dataframe tbody tr th:only-of-type {\n",
       "        vertical-align: middle;\n",
       "    }\n",
       "\n",
       "    .dataframe tbody tr th {\n",
       "        vertical-align: top;\n",
       "    }\n",
       "\n",
       "    .dataframe thead th {\n",
       "        text-align: right;\n",
       "    }\n",
       "</style>\n",
       "<table border=\"1\" class=\"dataframe\">\n",
       "  <thead>\n",
       "    <tr style=\"text-align: right;\">\n",
       "      <th></th>\n",
       "      <th>(년-월-일:시)</th>\n",
       "      <th>PM10등급</th>\n",
       "      <th>PM10</th>\n",
       "      <th>PM2.5등급</th>\n",
       "      <th>PM2.5</th>\n",
       "      <th>오존등급</th>\n",
       "      <th>오존</th>\n",
       "      <th>이산화질소등급</th>\n",
       "      <th>이산화질소</th>\n",
       "      <th>일산화탄소등급</th>\n",
       "      <th>일산화탄소</th>\n",
       "      <th>아황산가스등급</th>\n",
       "      <th>아황산가스</th>\n",
       "      <th>dayName</th>\n",
       "    </tr>\n",
       "  </thead>\n",
       "  <tbody>\n",
       "    <tr>\n",
       "      <th>0</th>\n",
       "      <td>2021-05-15 15:00:00</td>\n",
       "      <td>보통</td>\n",
       "      <td>47.0</td>\n",
       "      <td>보통</td>\n",
       "      <td>19.0</td>\n",
       "      <td>좋음</td>\n",
       "      <td>0.017</td>\n",
       "      <td>좋음</td>\n",
       "      <td>0.023</td>\n",
       "      <td>좋음</td>\n",
       "      <td>0.4</td>\n",
       "      <td>좋음</td>\n",
       "      <td>0.003</td>\n",
       "      <td>Saturday</td>\n",
       "    </tr>\n",
       "    <tr>\n",
       "      <th>1</th>\n",
       "      <td>2021-05-15 14:00:00</td>\n",
       "      <td>보통</td>\n",
       "      <td>43.0</td>\n",
       "      <td>보통</td>\n",
       "      <td>20.0</td>\n",
       "      <td>좋음</td>\n",
       "      <td>0.024</td>\n",
       "      <td>좋음</td>\n",
       "      <td>0.019</td>\n",
       "      <td>좋음</td>\n",
       "      <td>0.3</td>\n",
       "      <td>좋음</td>\n",
       "      <td>0.003</td>\n",
       "      <td>Saturday</td>\n",
       "    </tr>\n",
       "    <tr>\n",
       "      <th>2</th>\n",
       "      <td>2021-05-15 13:00:00</td>\n",
       "      <td>보통</td>\n",
       "      <td>34.0</td>\n",
       "      <td>보통</td>\n",
       "      <td>24.0</td>\n",
       "      <td>보통</td>\n",
       "      <td>0.035</td>\n",
       "      <td>좋음</td>\n",
       "      <td>0.017</td>\n",
       "      <td>좋음</td>\n",
       "      <td>0.4</td>\n",
       "      <td>좋음</td>\n",
       "      <td>0.004</td>\n",
       "      <td>Saturday</td>\n",
       "    </tr>\n",
       "    <tr>\n",
       "      <th>3</th>\n",
       "      <td>2021-05-15 12:00:00</td>\n",
       "      <td>보통</td>\n",
       "      <td>41.0</td>\n",
       "      <td>보통</td>\n",
       "      <td>27.0</td>\n",
       "      <td>보통</td>\n",
       "      <td>0.037</td>\n",
       "      <td>좋음</td>\n",
       "      <td>0.020</td>\n",
       "      <td>좋음</td>\n",
       "      <td>0.4</td>\n",
       "      <td>좋음</td>\n",
       "      <td>0.004</td>\n",
       "      <td>Saturday</td>\n",
       "    </tr>\n",
       "    <tr>\n",
       "      <th>4</th>\n",
       "      <td>2021-05-15 11:00:00</td>\n",
       "      <td>보통</td>\n",
       "      <td>51.0</td>\n",
       "      <td>보통</td>\n",
       "      <td>34.0</td>\n",
       "      <td>보통</td>\n",
       "      <td>0.033</td>\n",
       "      <td>좋음</td>\n",
       "      <td>0.023</td>\n",
       "      <td>좋음</td>\n",
       "      <td>0.4</td>\n",
       "      <td>좋음</td>\n",
       "      <td>0.005</td>\n",
       "      <td>Saturday</td>\n",
       "    </tr>\n",
       "  </tbody>\n",
       "</table>\n",
       "</div>"
      ],
      "text/plain": [
       "            (년-월-일:시) PM10등급  PM10 PM2.5등급  PM2.5 오존등급     오존 이산화질소등급  이산화질소  \\\n",
       "0 2021-05-15 15:00:00     보통  47.0      보통   19.0   좋음  0.017      좋음  0.023   \n",
       "1 2021-05-15 14:00:00     보통  43.0      보통   20.0   좋음  0.024      좋음  0.019   \n",
       "2 2021-05-15 13:00:00     보통  34.0      보통   24.0   보통  0.035      좋음  0.017   \n",
       "3 2021-05-15 12:00:00     보통  41.0      보통   27.0   보통  0.037      좋음  0.020   \n",
       "4 2021-05-15 11:00:00     보통  51.0      보통   34.0   보통  0.033      좋음  0.023   \n",
       "\n",
       "  일산화탄소등급  일산화탄소 아황산가스등급  아황산가스   dayName  \n",
       "0      좋음    0.4      좋음  0.003  Saturday  \n",
       "1      좋음    0.3      좋음  0.003  Saturday  \n",
       "2      좋음    0.4      좋음  0.004  Saturday  \n",
       "3      좋음    0.4      좋음  0.004  Saturday  \n",
       "4      좋음    0.4      좋음  0.005  Saturday  "
      ]
     },
     "execution_count": 45,
     "metadata": {},
     "output_type": "execute_result"
    }
   ],
   "source": [
    "df.head()"
   ]
  },
  {
   "cell_type": "code",
   "execution_count": 48,
   "metadata": {},
   "outputs": [
    {
     "name": "stdout",
     "output_type": "stream",
     "text": [
      "True\n"
     ]
    }
   ],
   "source": [
    "check = len(df['(년-월-일:시)'].diff().unique())\n",
    "if check == 2: print(True) # 첫행의 nan, 동일한 차이값 1개 == 총 2개\n",
    "else : print(False)"
   ]
  },
  {
   "attachments": {},
   "cell_type": "markdown",
   "metadata": {},
   "source": [
    "★ 80. 오전 10시와 오후 10시(22시)의 PM10의 평균값을 각각 구하여라"
   ]
  },
  {
   "cell_type": "code",
   "execution_count": 53,
   "metadata": {},
   "outputs": [
    {
     "data": {
      "text/html": [
       "<div>\n",
       "<style scoped>\n",
       "    .dataframe tbody tr th:only-of-type {\n",
       "        vertical-align: middle;\n",
       "    }\n",
       "\n",
       "    .dataframe tbody tr th {\n",
       "        vertical-align: top;\n",
       "    }\n",
       "\n",
       "    .dataframe thead th {\n",
       "        text-align: right;\n",
       "    }\n",
       "</style>\n",
       "<table border=\"1\" class=\"dataframe\">\n",
       "  <thead>\n",
       "    <tr style=\"text-align: right;\">\n",
       "      <th></th>\n",
       "      <th>PM10</th>\n",
       "    </tr>\n",
       "    <tr>\n",
       "      <th>(년-월-일:시)</th>\n",
       "      <th></th>\n",
       "    </tr>\n",
       "  </thead>\n",
       "  <tbody>\n",
       "    <tr>\n",
       "      <th>10</th>\n",
       "      <td>70.384615</td>\n",
       "    </tr>\n",
       "    <tr>\n",
       "      <th>22</th>\n",
       "      <td>69.941176</td>\n",
       "    </tr>\n",
       "  </tbody>\n",
       "</table>\n",
       "</div>"
      ],
      "text/plain": [
       "                PM10\n",
       "(년-월-일:시)           \n",
       "10         70.384615\n",
       "22         69.941176"
      ]
     },
     "execution_count": 53,
     "metadata": {},
     "output_type": "execute_result"
    }
   ],
   "source": [
    "df.groupby(df['(년-월-일:시)'].dt.hour).mean(numeric_only=True).iloc[[10, 22], [0]]"
   ]
  },
  {
   "attachments": {},
   "cell_type": "markdown",
   "metadata": {},
   "source": [
    "81. 날짜 컬럼을 index로 만들어라"
   ]
  },
  {
   "cell_type": "code",
   "execution_count": 55,
   "metadata": {},
   "outputs": [],
   "source": [
    "df.set_index(keys='(년-월-일:시)', inplace=True, drop=True)"
   ]
  },
  {
   "cell_type": "code",
   "execution_count": 56,
   "metadata": {},
   "outputs": [
    {
     "data": {
      "text/html": [
       "<div>\n",
       "<style scoped>\n",
       "    .dataframe tbody tr th:only-of-type {\n",
       "        vertical-align: middle;\n",
       "    }\n",
       "\n",
       "    .dataframe tbody tr th {\n",
       "        vertical-align: top;\n",
       "    }\n",
       "\n",
       "    .dataframe thead th {\n",
       "        text-align: right;\n",
       "    }\n",
       "</style>\n",
       "<table border=\"1\" class=\"dataframe\">\n",
       "  <thead>\n",
       "    <tr style=\"text-align: right;\">\n",
       "      <th></th>\n",
       "      <th>PM10등급</th>\n",
       "      <th>PM10</th>\n",
       "      <th>PM2.5등급</th>\n",
       "      <th>PM2.5</th>\n",
       "      <th>오존등급</th>\n",
       "      <th>오존</th>\n",
       "      <th>이산화질소등급</th>\n",
       "      <th>이산화질소</th>\n",
       "      <th>일산화탄소등급</th>\n",
       "      <th>일산화탄소</th>\n",
       "      <th>아황산가스등급</th>\n",
       "      <th>아황산가스</th>\n",
       "      <th>dayName</th>\n",
       "    </tr>\n",
       "    <tr>\n",
       "      <th>(년-월-일:시)</th>\n",
       "      <th></th>\n",
       "      <th></th>\n",
       "      <th></th>\n",
       "      <th></th>\n",
       "      <th></th>\n",
       "      <th></th>\n",
       "      <th></th>\n",
       "      <th></th>\n",
       "      <th></th>\n",
       "      <th></th>\n",
       "      <th></th>\n",
       "      <th></th>\n",
       "      <th></th>\n",
       "    </tr>\n",
       "  </thead>\n",
       "  <tbody>\n",
       "    <tr>\n",
       "      <th>2021-05-15 15:00:00</th>\n",
       "      <td>보통</td>\n",
       "      <td>47.0</td>\n",
       "      <td>보통</td>\n",
       "      <td>19.0</td>\n",
       "      <td>좋음</td>\n",
       "      <td>0.017</td>\n",
       "      <td>좋음</td>\n",
       "      <td>0.023</td>\n",
       "      <td>좋음</td>\n",
       "      <td>0.4</td>\n",
       "      <td>좋음</td>\n",
       "      <td>0.003</td>\n",
       "      <td>Saturday</td>\n",
       "    </tr>\n",
       "    <tr>\n",
       "      <th>2021-05-15 14:00:00</th>\n",
       "      <td>보통</td>\n",
       "      <td>43.0</td>\n",
       "      <td>보통</td>\n",
       "      <td>20.0</td>\n",
       "      <td>좋음</td>\n",
       "      <td>0.024</td>\n",
       "      <td>좋음</td>\n",
       "      <td>0.019</td>\n",
       "      <td>좋음</td>\n",
       "      <td>0.3</td>\n",
       "      <td>좋음</td>\n",
       "      <td>0.003</td>\n",
       "      <td>Saturday</td>\n",
       "    </tr>\n",
       "    <tr>\n",
       "      <th>2021-05-15 13:00:00</th>\n",
       "      <td>보통</td>\n",
       "      <td>34.0</td>\n",
       "      <td>보통</td>\n",
       "      <td>24.0</td>\n",
       "      <td>보통</td>\n",
       "      <td>0.035</td>\n",
       "      <td>좋음</td>\n",
       "      <td>0.017</td>\n",
       "      <td>좋음</td>\n",
       "      <td>0.4</td>\n",
       "      <td>좋음</td>\n",
       "      <td>0.004</td>\n",
       "      <td>Saturday</td>\n",
       "    </tr>\n",
       "    <tr>\n",
       "      <th>2021-05-15 12:00:00</th>\n",
       "      <td>보통</td>\n",
       "      <td>41.0</td>\n",
       "      <td>보통</td>\n",
       "      <td>27.0</td>\n",
       "      <td>보통</td>\n",
       "      <td>0.037</td>\n",
       "      <td>좋음</td>\n",
       "      <td>0.020</td>\n",
       "      <td>좋음</td>\n",
       "      <td>0.4</td>\n",
       "      <td>좋음</td>\n",
       "      <td>0.004</td>\n",
       "      <td>Saturday</td>\n",
       "    </tr>\n",
       "    <tr>\n",
       "      <th>2021-05-15 11:00:00</th>\n",
       "      <td>보통</td>\n",
       "      <td>51.0</td>\n",
       "      <td>보통</td>\n",
       "      <td>34.0</td>\n",
       "      <td>보통</td>\n",
       "      <td>0.033</td>\n",
       "      <td>좋음</td>\n",
       "      <td>0.023</td>\n",
       "      <td>좋음</td>\n",
       "      <td>0.4</td>\n",
       "      <td>좋음</td>\n",
       "      <td>0.005</td>\n",
       "      <td>Saturday</td>\n",
       "    </tr>\n",
       "  </tbody>\n",
       "</table>\n",
       "</div>"
      ],
      "text/plain": [
       "                    PM10등급  PM10 PM2.5등급  PM2.5 오존등급     오존 이산화질소등급  이산화질소  \\\n",
       "(년-월-일:시)                                                                    \n",
       "2021-05-15 15:00:00     보통  47.0      보통   19.0   좋음  0.017      좋음  0.023   \n",
       "2021-05-15 14:00:00     보통  43.0      보통   20.0   좋음  0.024      좋음  0.019   \n",
       "2021-05-15 13:00:00     보통  34.0      보통   24.0   보통  0.035      좋음  0.017   \n",
       "2021-05-15 12:00:00     보통  41.0      보통   27.0   보통  0.037      좋음  0.020   \n",
       "2021-05-15 11:00:00     보통  51.0      보통   34.0   보통  0.033      좋음  0.023   \n",
       "\n",
       "                    일산화탄소등급  일산화탄소 아황산가스등급  아황산가스   dayName  \n",
       "(년-월-일:시)                                                    \n",
       "2021-05-15 15:00:00      좋음    0.4      좋음  0.003  Saturday  \n",
       "2021-05-15 14:00:00      좋음    0.3      좋음  0.003  Saturday  \n",
       "2021-05-15 13:00:00      좋음    0.4      좋음  0.004  Saturday  \n",
       "2021-05-15 12:00:00      좋음    0.4      좋음  0.004  Saturday  \n",
       "2021-05-15 11:00:00      좋음    0.4      좋음  0.005  Saturday  "
      ]
     },
     "execution_count": 56,
     "metadata": {},
     "output_type": "execute_result"
    }
   ],
   "source": [
    "df.head()"
   ]
  },
  {
   "attachments": {},
   "cell_type": "markdown",
   "metadata": {},
   "source": [
    "★ 82. 데이터를 주단위로 뽑아서 최소,최대 평균, 표준표차를 구하여라"
   ]
  },
  {
   "cell_type": "code",
   "execution_count": 57,
   "metadata": {},
   "outputs": [
    {
     "name": "stdout",
     "output_type": "stream",
     "text": [
      "            PM10                               PM2.5                    \\\n",
      "             min    max       mean         std   min    max       mean   \n",
      "(년-월-일:시)                                                                \n",
      "2021-03-28   6.0  160.0  72.747368   43.345462   4.0  113.0  44.705263   \n",
      "2021-04-04   3.0  598.0  97.148810  129.911976   1.0  120.0  23.168675   \n",
      "2021-04-11  17.0  102.0  41.059524   16.325911   7.0   70.0  21.761905   \n",
      "2021-04-18   3.0  367.0  48.180723   43.254468   2.0   38.0  17.066265   \n",
      "2021-04-25  17.0  126.0  55.119048   26.659936   7.0   61.0  26.392857   \n",
      "\n",
      "                          오존         ...     이산화질소           일산화탄소       \\\n",
      "                  std    min    max  ...      mean       std   min  max   \n",
      "(년-월-일:시)                            ...                                  \n",
      "2021-03-28  29.551928  0.002  0.085  ...  0.044579  0.023722   0.3  1.4   \n",
      "2021-04-04  22.399578  0.003  0.055  ...  0.027929  0.014978   0.3  0.9   \n",
      "2021-04-11  11.479343  0.009  0.070  ...  0.022583  0.009562   0.3  0.7   \n",
      "2021-04-18   7.867952  0.002  0.070  ...  0.023753  0.013553   0.3  0.6   \n",
      "2021-04-25  13.094788  0.006  0.090  ...  0.028571  0.014640   0.3  0.8   \n",
      "\n",
      "                                아황산가스                             \n",
      "                mean       std    min    max      mean       std  \n",
      "(년-월-일:시)                                                         \n",
      "2021-03-28  0.611579  0.232408  0.002  0.006  0.003274  0.000961  \n",
      "2021-04-04  0.445833  0.135741  0.002  0.004  0.002732  0.000541  \n",
      "2021-04-11  0.389286  0.087573  0.002  0.004  0.002744  0.000569  \n",
      "2021-04-18  0.386747  0.084954  0.002  0.004  0.002464  0.000579  \n",
      "2021-04-25  0.457143  0.122142  0.001  0.011  0.003631  0.001763  \n",
      "\n",
      "[5 rows x 24 columns]\n"
     ]
    },
    {
     "name": "stderr",
     "output_type": "stream",
     "text": [
      "C:\\Users\\GD\\AppData\\Local\\Temp\\ipykernel_4456\\4154143186.py:1: FutureWarning: ['PM10등급', 'PM2.5등급', '오존등급', '이산화질소등급', '일산화탄소등급', '아황산가스등급', 'dayName'] did not aggregate successfully. If any error is raised this will raise in a future version of pandas. Drop these columns/ops to avoid this warning.\n",
      "  print( df.resample('W').agg(['min', 'max', 'mean', 'std']).head() )\n"
     ]
    }
   ],
   "source": [
    "print( df.resample('W').agg(['min', 'max', 'mean', 'std']).head() )"
   ]
  },
  {
   "attachments": {},
   "cell_type": "markdown",
   "metadata": {},
   "source": [
    "# Pivot\n",
    "> 국가별 5세이하 사망비율 통계 : https://www.kaggle.com/utkarshxy/who-worldhealth-statistics-2020-complete <br>\n",
    "> Dataurl = ‘https://raw.githubusercontent.com/Datamanim/pandas/main/under5MortalityRate.csv’"
   ]
  },
  {
   "cell_type": "code",
   "execution_count": 70,
   "metadata": {},
   "outputs": [
    {
     "name": "stdout",
     "output_type": "stream",
     "text": [
      "<class 'pandas.core.frame.DataFrame'>\n",
      "RangeIndex: 29999 entries, 0 to 29998\n",
      "Data columns (total 5 columns):\n",
      " #   Column         Non-Null Count  Dtype \n",
      "---  ------         --------------  ----- \n",
      " 0   Location       29999 non-null  object\n",
      " 1   Period         29999 non-null  int64 \n",
      " 2   Indicator      29999 non-null  object\n",
      " 3   Dim1           29999 non-null  object\n",
      " 4   First Tooltip  29999 non-null  object\n",
      "dtypes: int64(1), object(4)\n",
      "memory usage: 1.1+ MB\n"
     ]
    }
   ],
   "source": [
    "import pandas as pd\n",
    "ratedf = pd.read_csv('https://raw.githubusercontent.com/Datamanim/pandas/main/under5MortalityRate.csv')\n",
    "ratedf.info()"
   ]
  },
  {
   "cell_type": "code",
   "execution_count": 61,
   "metadata": {},
   "outputs": [
    {
     "data": {
      "text/html": [
       "<div>\n",
       "<style scoped>\n",
       "    .dataframe tbody tr th:only-of-type {\n",
       "        vertical-align: middle;\n",
       "    }\n",
       "\n",
       "    .dataframe tbody tr th {\n",
       "        vertical-align: top;\n",
       "    }\n",
       "\n",
       "    .dataframe thead th {\n",
       "        text-align: right;\n",
       "    }\n",
       "</style>\n",
       "<table border=\"1\" class=\"dataframe\">\n",
       "  <thead>\n",
       "    <tr style=\"text-align: right;\">\n",
       "      <th></th>\n",
       "      <th>Location</th>\n",
       "      <th>Period</th>\n",
       "      <th>Indicator</th>\n",
       "      <th>Dim1</th>\n",
       "      <th>First Tooltip</th>\n",
       "    </tr>\n",
       "  </thead>\n",
       "  <tbody>\n",
       "    <tr>\n",
       "      <th>0</th>\n",
       "      <td>Afghanistan</td>\n",
       "      <td>2019</td>\n",
       "      <td>Under-five mortality rate (probability of dyin...</td>\n",
       "      <td>Both sexes</td>\n",
       "      <td>60.27 [47.44-74.62]</td>\n",
       "    </tr>\n",
       "    <tr>\n",
       "      <th>1</th>\n",
       "      <td>Afghanistan</td>\n",
       "      <td>2019</td>\n",
       "      <td>Under-five mortality rate (probability of dyin...</td>\n",
       "      <td>Male</td>\n",
       "      <td>63.83 [50.04-79.16]</td>\n",
       "    </tr>\n",
       "    <tr>\n",
       "      <th>2</th>\n",
       "      <td>Afghanistan</td>\n",
       "      <td>2019</td>\n",
       "      <td>Under-five mortality rate (probability of dyin...</td>\n",
       "      <td>Female</td>\n",
       "      <td>56.57 [44.54-70.18]</td>\n",
       "    </tr>\n",
       "    <tr>\n",
       "      <th>3</th>\n",
       "      <td>Afghanistan</td>\n",
       "      <td>2018</td>\n",
       "      <td>Under-five mortality rate (probability of dyin...</td>\n",
       "      <td>Both sexes</td>\n",
       "      <td>62.54 [50.64-75.41]</td>\n",
       "    </tr>\n",
       "    <tr>\n",
       "      <th>4</th>\n",
       "      <td>Afghanistan</td>\n",
       "      <td>2018</td>\n",
       "      <td>Under-five mortality rate (probability of dyin...</td>\n",
       "      <td>Male</td>\n",
       "      <td>66.08 [53.41-79.76]</td>\n",
       "    </tr>\n",
       "  </tbody>\n",
       "</table>\n",
       "</div>"
      ],
      "text/plain": [
       "      Location  Period                                          Indicator  \\\n",
       "0  Afghanistan    2019  Under-five mortality rate (probability of dyin...   \n",
       "1  Afghanistan    2019  Under-five mortality rate (probability of dyin...   \n",
       "2  Afghanistan    2019  Under-five mortality rate (probability of dyin...   \n",
       "3  Afghanistan    2018  Under-five mortality rate (probability of dyin...   \n",
       "4  Afghanistan    2018  Under-five mortality rate (probability of dyin...   \n",
       "\n",
       "         Dim1        First Tooltip  \n",
       "0  Both sexes  60.27 [47.44-74.62]  \n",
       "1        Male  63.83 [50.04-79.16]  \n",
       "2      Female  56.57 [44.54-70.18]  \n",
       "3  Both sexes  62.54 [50.64-75.41]  \n",
       "4        Male  66.08 [53.41-79.76]  "
      ]
     },
     "execution_count": 61,
     "metadata": {},
     "output_type": "execute_result"
    }
   ],
   "source": [
    "ratedf.head()"
   ]
  },
  {
   "attachments": {},
   "cell_type": "markdown",
   "metadata": {},
   "source": [
    "83. Indicator을 삭제하고 First Tooltip 컬럼에서 신뢰구간에 해당하는 표현을 지워라"
   ]
  },
  {
   "cell_type": "code",
   "execution_count": 71,
   "metadata": {},
   "outputs": [],
   "source": [
    "ratedf.drop('Indicator', inplace=True, axis=1)"
   ]
  },
  {
   "cell_type": "code",
   "execution_count": 64,
   "metadata": {},
   "outputs": [
    {
     "data": {
      "text/plain": [
       "6"
      ]
     },
     "execution_count": 64,
     "metadata": {},
     "output_type": "execute_result"
    }
   ],
   "source": [
    "'60.27 [47.44-74.62]'.index('[')"
   ]
  },
  {
   "cell_type": "code",
   "execution_count": 72,
   "metadata": {},
   "outputs": [
    {
     "data": {
      "text/html": [
       "<div>\n",
       "<style scoped>\n",
       "    .dataframe tbody tr th:only-of-type {\n",
       "        vertical-align: middle;\n",
       "    }\n",
       "\n",
       "    .dataframe tbody tr th {\n",
       "        vertical-align: top;\n",
       "    }\n",
       "\n",
       "    .dataframe thead th {\n",
       "        text-align: right;\n",
       "    }\n",
       "</style>\n",
       "<table border=\"1\" class=\"dataframe\">\n",
       "  <thead>\n",
       "    <tr style=\"text-align: right;\">\n",
       "      <th></th>\n",
       "      <th>Location</th>\n",
       "      <th>Period</th>\n",
       "      <th>Dim1</th>\n",
       "      <th>First Tooltip</th>\n",
       "    </tr>\n",
       "  </thead>\n",
       "  <tbody>\n",
       "    <tr>\n",
       "      <th>0</th>\n",
       "      <td>Afghanistan</td>\n",
       "      <td>2019</td>\n",
       "      <td>Both sexes</td>\n",
       "      <td>60.27</td>\n",
       "    </tr>\n",
       "    <tr>\n",
       "      <th>1</th>\n",
       "      <td>Afghanistan</td>\n",
       "      <td>2019</td>\n",
       "      <td>Male</td>\n",
       "      <td>63.83</td>\n",
       "    </tr>\n",
       "    <tr>\n",
       "      <th>2</th>\n",
       "      <td>Afghanistan</td>\n",
       "      <td>2019</td>\n",
       "      <td>Female</td>\n",
       "      <td>56.57</td>\n",
       "    </tr>\n",
       "    <tr>\n",
       "      <th>3</th>\n",
       "      <td>Afghanistan</td>\n",
       "      <td>2018</td>\n",
       "      <td>Both sexes</td>\n",
       "      <td>62.54</td>\n",
       "    </tr>\n",
       "    <tr>\n",
       "      <th>4</th>\n",
       "      <td>Afghanistan</td>\n",
       "      <td>2018</td>\n",
       "      <td>Male</td>\n",
       "      <td>66.08</td>\n",
       "    </tr>\n",
       "  </tbody>\n",
       "</table>\n",
       "</div>"
      ],
      "text/plain": [
       "      Location  Period        Dim1  First Tooltip\n",
       "0  Afghanistan    2019  Both sexes          60.27\n",
       "1  Afghanistan    2019        Male          63.83\n",
       "2  Afghanistan    2019      Female          56.57\n",
       "3  Afghanistan    2018  Both sexes          62.54\n",
       "4  Afghanistan    2018        Male          66.08"
      ]
     },
     "execution_count": 72,
     "metadata": {},
     "output_type": "execute_result"
    }
   ],
   "source": [
    "ratedf['First Tooltip'] = ratedf['First Tooltip'].apply(lambda x: float(x[:x.index('[')]))\n",
    "ratedf.head()"
   ]
  },
  {
   "attachments": {},
   "cell_type": "markdown",
   "metadata": {},
   "source": [
    "> x.split(\"[\")[0] 로 하는 방법도 있음"
   ]
  },
  {
   "cell_type": "code",
   "execution_count": 73,
   "metadata": {},
   "outputs": [
    {
     "name": "stdout",
     "output_type": "stream",
     "text": [
      "<class 'pandas.core.frame.DataFrame'>\n",
      "RangeIndex: 29999 entries, 0 to 29998\n",
      "Data columns (total 4 columns):\n",
      " #   Column         Non-Null Count  Dtype  \n",
      "---  ------         --------------  -----  \n",
      " 0   Location       29999 non-null  object \n",
      " 1   Period         29999 non-null  int64  \n",
      " 2   Dim1           29999 non-null  object \n",
      " 3   First Tooltip  29999 non-null  float64\n",
      "dtypes: float64(1), int64(1), object(2)\n",
      "memory usage: 937.6+ KB\n"
     ]
    }
   ],
   "source": [
    "ratedf.info()"
   ]
  },
  {
   "attachments": {},
   "cell_type": "markdown",
   "metadata": {},
   "source": [
    "84. 년도가 2015년 이상, Dim1이 Both sexes인 케이스만 추출하라"
   ]
  },
  {
   "cell_type": "code",
   "execution_count": 74,
   "metadata": {},
   "outputs": [
    {
     "data": {
      "text/html": [
       "<div>\n",
       "<style scoped>\n",
       "    .dataframe tbody tr th:only-of-type {\n",
       "        vertical-align: middle;\n",
       "    }\n",
       "\n",
       "    .dataframe tbody tr th {\n",
       "        vertical-align: top;\n",
       "    }\n",
       "\n",
       "    .dataframe thead th {\n",
       "        text-align: right;\n",
       "    }\n",
       "</style>\n",
       "<table border=\"1\" class=\"dataframe\">\n",
       "  <thead>\n",
       "    <tr style=\"text-align: right;\">\n",
       "      <th></th>\n",
       "      <th>Location</th>\n",
       "      <th>Period</th>\n",
       "      <th>Dim1</th>\n",
       "      <th>First Tooltip</th>\n",
       "    </tr>\n",
       "  </thead>\n",
       "  <tbody>\n",
       "    <tr>\n",
       "      <th>0</th>\n",
       "      <td>Afghanistan</td>\n",
       "      <td>2019</td>\n",
       "      <td>Both sexes</td>\n",
       "      <td>60.27</td>\n",
       "    </tr>\n",
       "    <tr>\n",
       "      <th>3</th>\n",
       "      <td>Afghanistan</td>\n",
       "      <td>2018</td>\n",
       "      <td>Both sexes</td>\n",
       "      <td>62.54</td>\n",
       "    </tr>\n",
       "    <tr>\n",
       "      <th>6</th>\n",
       "      <td>Afghanistan</td>\n",
       "      <td>2017</td>\n",
       "      <td>Both sexes</td>\n",
       "      <td>64.94</td>\n",
       "    </tr>\n",
       "    <tr>\n",
       "      <th>9</th>\n",
       "      <td>Afghanistan</td>\n",
       "      <td>2016</td>\n",
       "      <td>Both sexes</td>\n",
       "      <td>67.57</td>\n",
       "    </tr>\n",
       "    <tr>\n",
       "      <th>12</th>\n",
       "      <td>Afghanistan</td>\n",
       "      <td>2015</td>\n",
       "      <td>Both sexes</td>\n",
       "      <td>70.44</td>\n",
       "    </tr>\n",
       "  </tbody>\n",
       "</table>\n",
       "</div>"
      ],
      "text/plain": [
       "       Location  Period        Dim1  First Tooltip\n",
       "0   Afghanistan    2019  Both sexes          60.27\n",
       "3   Afghanistan    2018  Both sexes          62.54\n",
       "6   Afghanistan    2017  Both sexes          64.94\n",
       "9   Afghanistan    2016  Both sexes          67.57\n",
       "12  Afghanistan    2015  Both sexes          70.44"
      ]
     },
     "execution_count": 74,
     "metadata": {},
     "output_type": "execute_result"
    }
   ],
   "source": [
    "ratedf[(ratedf.Period >= 2015)&(ratedf.Dim1 == 'Both sexes')].head()"
   ]
  },
  {
   "attachments": {},
   "cell_type": "markdown",
   "metadata": {},
   "source": [
    "85. 84번 문제에서 추출한 데이터로 아래와 같이 나라에 따른 년도별 사망률을 데이터 프레임화 하라"
   ]
  },
  {
   "cell_type": "code",
   "execution_count": 76,
   "metadata": {},
   "outputs": [
    {
     "data": {
      "text/html": [
       "<div>\n",
       "<style scoped>\n",
       "    .dataframe tbody tr th:only-of-type {\n",
       "        vertical-align: middle;\n",
       "    }\n",
       "\n",
       "    .dataframe tbody tr th {\n",
       "        vertical-align: top;\n",
       "    }\n",
       "\n",
       "    .dataframe thead th {\n",
       "        text-align: right;\n",
       "    }\n",
       "</style>\n",
       "<table border=\"1\" class=\"dataframe\">\n",
       "  <thead>\n",
       "    <tr style=\"text-align: right;\">\n",
       "      <th>Period</th>\n",
       "      <th>2015</th>\n",
       "      <th>2016</th>\n",
       "      <th>2017</th>\n",
       "      <th>2018</th>\n",
       "      <th>2019</th>\n",
       "    </tr>\n",
       "    <tr>\n",
       "      <th>Location</th>\n",
       "      <th></th>\n",
       "      <th></th>\n",
       "      <th></th>\n",
       "      <th></th>\n",
       "      <th></th>\n",
       "    </tr>\n",
       "  </thead>\n",
       "  <tbody>\n",
       "    <tr>\n",
       "      <th>Afghanistan</th>\n",
       "      <td>70.44</td>\n",
       "      <td>67.57</td>\n",
       "      <td>64.94</td>\n",
       "      <td>62.54</td>\n",
       "      <td>60.27</td>\n",
       "    </tr>\n",
       "    <tr>\n",
       "      <th>Albania</th>\n",
       "      <td>9.57</td>\n",
       "      <td>9.42</td>\n",
       "      <td>9.42</td>\n",
       "      <td>9.53</td>\n",
       "      <td>9.68</td>\n",
       "    </tr>\n",
       "    <tr>\n",
       "      <th>Algeria</th>\n",
       "      <td>25.18</td>\n",
       "      <td>24.79</td>\n",
       "      <td>24.32</td>\n",
       "      <td>23.81</td>\n",
       "      <td>23.26</td>\n",
       "    </tr>\n",
       "    <tr>\n",
       "      <th>Andorra</th>\n",
       "      <td>3.53</td>\n",
       "      <td>3.37</td>\n",
       "      <td>3.22</td>\n",
       "      <td>3.09</td>\n",
       "      <td>2.97</td>\n",
       "    </tr>\n",
       "    <tr>\n",
       "      <th>Angola</th>\n",
       "      <td>88.20</td>\n",
       "      <td>84.21</td>\n",
       "      <td>80.62</td>\n",
       "      <td>77.67</td>\n",
       "      <td>74.69</td>\n",
       "    </tr>\n",
       "  </tbody>\n",
       "</table>\n",
       "</div>"
      ],
      "text/plain": [
       "Period        2015   2016   2017   2018   2019\n",
       "Location                                      \n",
       "Afghanistan  70.44  67.57  64.94  62.54  60.27\n",
       "Albania       9.57   9.42   9.42   9.53   9.68\n",
       "Algeria      25.18  24.79  24.32  23.81  23.26\n",
       "Andorra       3.53   3.37   3.22   3.09   2.97\n",
       "Angola       88.20  84.21  80.62  77.67  74.69"
      ]
     },
     "execution_count": 76,
     "metadata": {},
     "output_type": "execute_result"
    }
   ],
   "source": [
    "result = ratedf[(ratedf.Period >= 2015)&(ratedf.Dim1 == 'Both sexes')]\n",
    "result.pivot(columns='Period', index='Location', values='First Tooltip').head()"
   ]
  },
  {
   "attachments": {},
   "cell_type": "markdown",
   "metadata": {},
   "source": [
    "★ 86. Dim1에 따른 년도별 사망비율의 평균을 구하라"
   ]
  },
  {
   "cell_type": "code",
   "execution_count": 85,
   "metadata": {},
   "outputs": [
    {
     "data": {
      "text/html": [
       "<div>\n",
       "<style scoped>\n",
       "    .dataframe tbody tr th:only-of-type {\n",
       "        vertical-align: middle;\n",
       "    }\n",
       "\n",
       "    .dataframe tbody tr th {\n",
       "        vertical-align: top;\n",
       "    }\n",
       "\n",
       "    .dataframe thead th {\n",
       "        text-align: right;\n",
       "    }\n",
       "</style>\n",
       "<table border=\"1\" class=\"dataframe\">\n",
       "  <thead>\n",
       "    <tr style=\"text-align: right;\">\n",
       "      <th>Period</th>\n",
       "      <th>1950</th>\n",
       "      <th>1951</th>\n",
       "      <th>1952</th>\n",
       "      <th>1953</th>\n",
       "    </tr>\n",
       "    <tr>\n",
       "      <th>Dim1</th>\n",
       "      <th></th>\n",
       "      <th></th>\n",
       "      <th></th>\n",
       "      <th></th>\n",
       "    </tr>\n",
       "  </thead>\n",
       "  <tbody>\n",
       "    <tr>\n",
       "      <th>Both sexes</th>\n",
       "      <td>147.700816</td>\n",
       "      <td>155.537544</td>\n",
       "      <td>157.811094</td>\n",
       "      <td>156.147206</td>\n",
       "    </tr>\n",
       "    <tr>\n",
       "      <th>Female</th>\n",
       "      <td>140.909796</td>\n",
       "      <td>149.210175</td>\n",
       "      <td>151.516094</td>\n",
       "      <td>150.250882</td>\n",
       "    </tr>\n",
       "    <tr>\n",
       "      <th>Male</th>\n",
       "      <td>154.151224</td>\n",
       "      <td>161.538246</td>\n",
       "      <td>163.760781</td>\n",
       "      <td>161.742059</td>\n",
       "    </tr>\n",
       "  </tbody>\n",
       "</table>\n",
       "</div>"
      ],
      "text/plain": [
       "Period            1950        1951        1952        1953\n",
       "Dim1                                                      \n",
       "Both sexes  147.700816  155.537544  157.811094  156.147206\n",
       "Female      140.909796  149.210175  151.516094  150.250882\n",
       "Male        154.151224  161.538246  163.760781  161.742059"
      ]
     },
     "execution_count": 85,
     "metadata": {},
     "output_type": "execute_result"
    }
   ],
   "source": [
    "ratedf.pivot_table(index='Dim1', columns='Period', values='First Tooltip', aggfunc='mean').iloc[:, :4]"
   ]
  },
  {
   "attachments": {},
   "cell_type": "markdown",
   "metadata": {},
   "source": [
    "### 데이터 변경\n",
    "> 올림픽 메달리스트 정보 데이터: https://www.kaggle.com/the-guardian/olympic-games <br>\n",
    "> dataUrl =’https://raw.githubusercontent.com/Datamanim/pandas/main/winter.csv’"
   ]
  },
  {
   "attachments": {},
   "cell_type": "markdown",
   "metadata": {},
   "source": [
    "87. 데이터에서 한국 KOR 데이터만 추출하라"
   ]
  },
  {
   "cell_type": "code",
   "execution_count": 86,
   "metadata": {},
   "outputs": [
    {
     "data": {
      "text/html": [
       "<div>\n",
       "<style scoped>\n",
       "    .dataframe tbody tr th:only-of-type {\n",
       "        vertical-align: middle;\n",
       "    }\n",
       "\n",
       "    .dataframe tbody tr th {\n",
       "        vertical-align: top;\n",
       "    }\n",
       "\n",
       "    .dataframe thead th {\n",
       "        text-align: right;\n",
       "    }\n",
       "</style>\n",
       "<table border=\"1\" class=\"dataframe\">\n",
       "  <thead>\n",
       "    <tr style=\"text-align: right;\">\n",
       "      <th></th>\n",
       "      <th>Year</th>\n",
       "      <th>City</th>\n",
       "      <th>Sport</th>\n",
       "      <th>Discipline</th>\n",
       "      <th>Athlete</th>\n",
       "      <th>Country</th>\n",
       "      <th>Gender</th>\n",
       "      <th>Event</th>\n",
       "      <th>Medal</th>\n",
       "    </tr>\n",
       "  </thead>\n",
       "  <tbody>\n",
       "    <tr>\n",
       "      <th>0</th>\n",
       "      <td>1924</td>\n",
       "      <td>Chamonix</td>\n",
       "      <td>Biathlon</td>\n",
       "      <td>Biathlon</td>\n",
       "      <td>BERTHET, G.</td>\n",
       "      <td>FRA</td>\n",
       "      <td>Men</td>\n",
       "      <td>Military Patrol</td>\n",
       "      <td>Bronze</td>\n",
       "    </tr>\n",
       "    <tr>\n",
       "      <th>1</th>\n",
       "      <td>1924</td>\n",
       "      <td>Chamonix</td>\n",
       "      <td>Biathlon</td>\n",
       "      <td>Biathlon</td>\n",
       "      <td>MANDRILLON, C.</td>\n",
       "      <td>FRA</td>\n",
       "      <td>Men</td>\n",
       "      <td>Military Patrol</td>\n",
       "      <td>Bronze</td>\n",
       "    </tr>\n",
       "    <tr>\n",
       "      <th>2</th>\n",
       "      <td>1924</td>\n",
       "      <td>Chamonix</td>\n",
       "      <td>Biathlon</td>\n",
       "      <td>Biathlon</td>\n",
       "      <td>MANDRILLON, Maurice</td>\n",
       "      <td>FRA</td>\n",
       "      <td>Men</td>\n",
       "      <td>Military Patrol</td>\n",
       "      <td>Bronze</td>\n",
       "    </tr>\n",
       "    <tr>\n",
       "      <th>3</th>\n",
       "      <td>1924</td>\n",
       "      <td>Chamonix</td>\n",
       "      <td>Biathlon</td>\n",
       "      <td>Biathlon</td>\n",
       "      <td>VANDELLE, André</td>\n",
       "      <td>FRA</td>\n",
       "      <td>Men</td>\n",
       "      <td>Military Patrol</td>\n",
       "      <td>Bronze</td>\n",
       "    </tr>\n",
       "    <tr>\n",
       "      <th>4</th>\n",
       "      <td>1924</td>\n",
       "      <td>Chamonix</td>\n",
       "      <td>Biathlon</td>\n",
       "      <td>Biathlon</td>\n",
       "      <td>AUFDENBLATTEN, Adolf</td>\n",
       "      <td>SUI</td>\n",
       "      <td>Men</td>\n",
       "      <td>Military Patrol</td>\n",
       "      <td>Gold</td>\n",
       "    </tr>\n",
       "  </tbody>\n",
       "</table>\n",
       "</div>"
      ],
      "text/plain": [
       "   Year      City     Sport Discipline               Athlete Country Gender  \\\n",
       "0  1924  Chamonix  Biathlon   Biathlon           BERTHET, G.     FRA    Men   \n",
       "1  1924  Chamonix  Biathlon   Biathlon        MANDRILLON, C.     FRA    Men   \n",
       "2  1924  Chamonix  Biathlon   Biathlon   MANDRILLON, Maurice     FRA    Men   \n",
       "3  1924  Chamonix  Biathlon   Biathlon       VANDELLE, André     FRA    Men   \n",
       "4  1924  Chamonix  Biathlon   Biathlon  AUFDENBLATTEN, Adolf     SUI    Men   \n",
       "\n",
       "             Event   Medal  \n",
       "0  Military Patrol  Bronze  \n",
       "1  Military Patrol  Bronze  \n",
       "2  Military Patrol  Bronze  \n",
       "3  Military Patrol  Bronze  \n",
       "4  Military Patrol    Gold  "
      ]
     },
     "execution_count": 86,
     "metadata": {},
     "output_type": "execute_result"
    }
   ],
   "source": [
    "import pandas as pd\n",
    "winter = pd.read_csv('https://raw.githubusercontent.com/Datamanim/pandas/main/winter.csv')\n",
    "winter.head()"
   ]
  },
  {
   "cell_type": "code",
   "execution_count": 88,
   "metadata": {},
   "outputs": [
    {
     "data": {
      "text/html": [
       "<div>\n",
       "<style scoped>\n",
       "    .dataframe tbody tr th:only-of-type {\n",
       "        vertical-align: middle;\n",
       "    }\n",
       "\n",
       "    .dataframe tbody tr th {\n",
       "        vertical-align: top;\n",
       "    }\n",
       "\n",
       "    .dataframe thead th {\n",
       "        text-align: right;\n",
       "    }\n",
       "</style>\n",
       "<table border=\"1\" class=\"dataframe\">\n",
       "  <thead>\n",
       "    <tr style=\"text-align: right;\">\n",
       "      <th></th>\n",
       "      <th>Year</th>\n",
       "      <th>City</th>\n",
       "      <th>Sport</th>\n",
       "      <th>Discipline</th>\n",
       "      <th>Athlete</th>\n",
       "      <th>Country</th>\n",
       "      <th>Gender</th>\n",
       "      <th>Event</th>\n",
       "      <th>Medal</th>\n",
       "    </tr>\n",
       "  </thead>\n",
       "  <tbody>\n",
       "    <tr>\n",
       "      <th>2652</th>\n",
       "      <td>1992</td>\n",
       "      <td>Albertville</td>\n",
       "      <td>Skating</td>\n",
       "      <td>Short Track Speed Skating</td>\n",
       "      <td>LEE, Jun-Ho</td>\n",
       "      <td>KOR</td>\n",
       "      <td>Men</td>\n",
       "      <td>1000M</td>\n",
       "      <td>Bronze</td>\n",
       "    </tr>\n",
       "    <tr>\n",
       "      <th>2653</th>\n",
       "      <td>1992</td>\n",
       "      <td>Albertville</td>\n",
       "      <td>Skating</td>\n",
       "      <td>Short Track Speed Skating</td>\n",
       "      <td>KIM, Ki-Hoon</td>\n",
       "      <td>KOR</td>\n",
       "      <td>Men</td>\n",
       "      <td>1000M</td>\n",
       "      <td>Gold</td>\n",
       "    </tr>\n",
       "    <tr>\n",
       "      <th>2671</th>\n",
       "      <td>1992</td>\n",
       "      <td>Albertville</td>\n",
       "      <td>Skating</td>\n",
       "      <td>Short Track Speed Skating</td>\n",
       "      <td>KIM, Ki-Hoon</td>\n",
       "      <td>KOR</td>\n",
       "      <td>Men</td>\n",
       "      <td>5000M Relay</td>\n",
       "      <td>Gold</td>\n",
       "    </tr>\n",
       "    <tr>\n",
       "      <th>2672</th>\n",
       "      <td>1992</td>\n",
       "      <td>Albertville</td>\n",
       "      <td>Skating</td>\n",
       "      <td>Short Track Speed Skating</td>\n",
       "      <td>LEE, Jun-Ho</td>\n",
       "      <td>KOR</td>\n",
       "      <td>Men</td>\n",
       "      <td>5000M Relay</td>\n",
       "      <td>Gold</td>\n",
       "    </tr>\n",
       "  </tbody>\n",
       "</table>\n",
       "</div>"
      ],
      "text/plain": [
       "      Year         City    Sport                 Discipline       Athlete  \\\n",
       "2652  1992  Albertville  Skating  Short Track Speed Skating   LEE, Jun-Ho   \n",
       "2653  1992  Albertville  Skating  Short Track Speed Skating  KIM, Ki-Hoon   \n",
       "2671  1992  Albertville  Skating  Short Track Speed Skating  KIM, Ki-Hoon   \n",
       "2672  1992  Albertville  Skating  Short Track Speed Skating   LEE, Jun-Ho   \n",
       "\n",
       "     Country Gender        Event   Medal  \n",
       "2652     KOR    Men        1000M  Bronze  \n",
       "2653     KOR    Men        1000M    Gold  \n",
       "2671     KOR    Men  5000M Relay    Gold  \n",
       "2672     KOR    Men  5000M Relay    Gold  "
      ]
     },
     "execution_count": 88,
     "metadata": {},
     "output_type": "execute_result"
    }
   ],
   "source": [
    "winter[winter.Country == 'KOR'].head(4)"
   ]
  },
  {
   "attachments": {},
   "cell_type": "markdown",
   "metadata": {},
   "source": [
    "88. 한국 올림픽 메달리스트 데이터에서 년도에 따른 medal 갯수를 데이터프레임화 하라"
   ]
  },
  {
   "cell_type": "code",
   "execution_count": null,
   "metadata": {},
   "outputs": [],
   "source": []
  },
  {
   "cell_type": "code",
   "execution_count": null,
   "metadata": {},
   "outputs": [],
   "source": []
  }
 ],
 "metadata": {
  "kernelspec": {
   "display_name": "base",
   "language": "python",
   "name": "python3"
  },
  "language_info": {
   "codemirror_mode": {
    "name": "ipython",
    "version": 3
   },
   "file_extension": ".py",
   "mimetype": "text/x-python",
   "name": "python",
   "nbconvert_exporter": "python",
   "pygments_lexer": "ipython3",
   "version": "3.10.9"
  },
  "orig_nbformat": 4
 },
 "nbformat": 4,
 "nbformat_minor": 2
}
