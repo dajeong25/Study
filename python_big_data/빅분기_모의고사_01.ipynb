{
  "nbformat": 4,
  "nbformat_minor": 0,
  "metadata": {
    "colab": {
      "provenance": [],
      "authorship_tag": "ABX9TyPCuObwWpPv5LsXCPYPsGZA",
      "include_colab_link": true
    },
    "kernelspec": {
      "name": "python3",
      "display_name": "Python 3"
    },
    "language_info": {
      "name": "python"
    }
  },
  "cells": [
    {
      "cell_type": "markdown",
      "metadata": {
        "id": "view-in-github",
        "colab_type": "text"
      },
      "source": [
        "<a href=\"https://colab.research.google.com/github/dajeong25/Study/blob/main/python_big_data/%EB%B9%85%EB%B6%84%EA%B8%B0_%EB%AA%A8%EC%9D%98%EA%B3%A0%EC%82%AC_01.ipynb\" target=\"_parent\"><img src=\"https://colab.research.google.com/assets/colab-badge.svg\" alt=\"Open In Colab\"/></a>"
      ]
    },
    {
      "cell_type": "markdown",
      "source": [
        "# 모의고사 1"
      ],
      "metadata": {
        "id": "-0nCgWQAywws"
      }
    },
    {
      "cell_type": "markdown",
      "source": [
        "# 제 1유형\n",
        "> 공기의 질을 측정한 데이터"
      ],
      "metadata": {
        "id": "6Haq9c84yzHZ"
      }
    },
    {
      "cell_type": "code",
      "execution_count": 2,
      "metadata": {
        "colab": {
          "base_uri": "https://localhost:8080/"
        },
        "id": "LrmZzqecyoK-",
        "outputId": "d1b8ebca-1aea-426a-fb60-b31b5abc02ee"
      },
      "outputs": [
        {
          "output_type": "stream",
          "name": "stdout",
          "text": [
            "Mounted at /content/drive\n"
          ]
        }
      ],
      "source": [
        "from google.colab import drive\n",
        "drive.mount('/content/drive')"
      ]
    },
    {
      "cell_type": "code",
      "source": [
        "import pandas as pd\n",
        "from sklearn.preprocessing import MinMaxScaler, StandardScaler"
      ],
      "metadata": {
        "id": "CCckgWfp0dlB"
      },
      "execution_count": 16,
      "outputs": []
    },
    {
      "cell_type": "markdown",
      "source": [
        "## 1-1번"
      ],
      "metadata": {
        "id": "wuqDj3I1GOj1"
      }
    },
    {
      "cell_type": "code",
      "source": [
        "# 1번\n",
        "df = pd.read_csv('/content/drive/MyDrive/airquality.csv')\n",
        "print(df.info())"
      ],
      "metadata": {
        "colab": {
          "base_uri": "https://localhost:8080/"
        },
        "id": "9gzY8qYi0-js",
        "outputId": "1aeb8c39-ccec-4c2a-eb7e-35b80facc8a7"
      },
      "execution_count": 8,
      "outputs": [
        {
          "output_type": "stream",
          "name": "stdout",
          "text": [
            "<class 'pandas.core.frame.DataFrame'>\n",
            "RangeIndex: 153 entries, 0 to 152\n",
            "Data columns (total 6 columns):\n",
            " #   Column   Non-Null Count  Dtype  \n",
            "---  ------   --------------  -----  \n",
            " 0   Ozone    116 non-null    float64\n",
            " 1   Solar.R  146 non-null    float64\n",
            " 2   Wind     153 non-null    float64\n",
            " 3   Temp     153 non-null    int64  \n",
            " 4   Month    153 non-null    int64  \n",
            " 5   Day      153 non-null    int64  \n",
            "dtypes: float64(3), int64(3)\n",
            "memory usage: 7.3 KB\n",
            "None\n"
          ]
        }
      ]
    },
    {
      "cell_type": "code",
      "source": [
        "print(df.head())"
      ],
      "metadata": {
        "colab": {
          "base_uri": "https://localhost:8080/"
        },
        "id": "ExYEl_Kw1nIe",
        "outputId": "4e24c1b9-5f6f-4824-bda4-b975f8db5f40"
      },
      "execution_count": 7,
      "outputs": [
        {
          "output_type": "stream",
          "name": "stdout",
          "text": [
            "   Ozone  Solar.R  Wind  Temp  Month  Day\n",
            "0   41.0    190.0   7.4    67      5    1\n",
            "1   36.0    118.0   8.0    72      5    2\n",
            "2   12.0    149.0  12.6    74      5    3\n",
            "3   18.0    313.0  11.5    62      5    4\n",
            "4    NaN      NaN  14.3    56      5    5\n"
          ]
        }
      ]
    },
    {
      "cell_type": "code",
      "source": [
        "print(df.isnull().sum())"
      ],
      "metadata": {
        "colab": {
          "base_uri": "https://localhost:8080/"
        },
        "id": "GzDQoniC1s_r",
        "outputId": "1ae59b4e-7e52-45d3-bd65-39474295d532"
      },
      "execution_count": 9,
      "outputs": [
        {
          "output_type": "stream",
          "name": "stdout",
          "text": [
            "Ozone      37\n",
            "Solar.R     7\n",
            "Wind        0\n",
            "Temp        0\n",
            "Month       0\n",
            "Day         0\n",
            "dtype: int64\n"
          ]
        }
      ]
    },
    {
      "cell_type": "code",
      "source": [
        "print(df.describe())"
      ],
      "metadata": {
        "colab": {
          "base_uri": "https://localhost:8080/"
        },
        "id": "OdsjSo1pE_-P",
        "outputId": "df271d72-4b0c-42fc-c777-befebaa6c3f6"
      },
      "execution_count": 14,
      "outputs": [
        {
          "output_type": "stream",
          "name": "stdout",
          "text": [
            "            Ozone     Solar.R        Wind        Temp       Month         Day\n",
            "count  116.000000  146.000000  153.000000  153.000000  153.000000  153.000000\n",
            "mean    42.129310  185.931507    9.957516   77.882353    6.993464   15.803922\n",
            "std     32.987885   90.058422    3.523001    9.465270    1.416522    8.864520\n",
            "min      1.000000    7.000000    1.700000   56.000000    5.000000    1.000000\n",
            "25%     18.000000  115.750000    7.400000   72.000000    6.000000    8.000000\n",
            "50%     31.500000  205.000000    9.700000   79.000000    7.000000   16.000000\n",
            "75%     63.250000  258.750000   11.500000   85.000000    8.000000   23.000000\n",
            "max    168.000000  334.000000   20.700000   97.000000    9.000000   31.000000\n"
          ]
        }
      ]
    },
    {
      "cell_type": "code",
      "source": [
        "df_oz = df.fillna(0)\n",
        "df_oz.head()"
      ],
      "metadata": {
        "colab": {
          "base_uri": "https://localhost:8080/",
          "height": 206
        },
        "id": "dSSHqCT812yP",
        "outputId": "ae12af68-6f95-40c0-d1cc-b5beec5527b8"
      },
      "execution_count": 10,
      "outputs": [
        {
          "output_type": "execute_result",
          "data": {
            "text/plain": [
              "   Ozone  Solar.R  Wind  Temp  Month  Day\n",
              "0   41.0    190.0   7.4    67      5    1\n",
              "1   36.0    118.0   8.0    72      5    2\n",
              "2   12.0    149.0  12.6    74      5    3\n",
              "3   18.0    313.0  11.5    62      5    4\n",
              "4    0.0      0.0  14.3    56      5    5"
            ],
            "text/html": [
              "\n",
              "  <div id=\"df-e4ec7958-f7c4-41fe-88ea-da62a1b498af\">\n",
              "    <div class=\"colab-df-container\">\n",
              "      <div>\n",
              "<style scoped>\n",
              "    .dataframe tbody tr th:only-of-type {\n",
              "        vertical-align: middle;\n",
              "    }\n",
              "\n",
              "    .dataframe tbody tr th {\n",
              "        vertical-align: top;\n",
              "    }\n",
              "\n",
              "    .dataframe thead th {\n",
              "        text-align: right;\n",
              "    }\n",
              "</style>\n",
              "<table border=\"1\" class=\"dataframe\">\n",
              "  <thead>\n",
              "    <tr style=\"text-align: right;\">\n",
              "      <th></th>\n",
              "      <th>Ozone</th>\n",
              "      <th>Solar.R</th>\n",
              "      <th>Wind</th>\n",
              "      <th>Temp</th>\n",
              "      <th>Month</th>\n",
              "      <th>Day</th>\n",
              "    </tr>\n",
              "  </thead>\n",
              "  <tbody>\n",
              "    <tr>\n",
              "      <th>0</th>\n",
              "      <td>41.0</td>\n",
              "      <td>190.0</td>\n",
              "      <td>7.4</td>\n",
              "      <td>67</td>\n",
              "      <td>5</td>\n",
              "      <td>1</td>\n",
              "    </tr>\n",
              "    <tr>\n",
              "      <th>1</th>\n",
              "      <td>36.0</td>\n",
              "      <td>118.0</td>\n",
              "      <td>8.0</td>\n",
              "      <td>72</td>\n",
              "      <td>5</td>\n",
              "      <td>2</td>\n",
              "    </tr>\n",
              "    <tr>\n",
              "      <th>2</th>\n",
              "      <td>12.0</td>\n",
              "      <td>149.0</td>\n",
              "      <td>12.6</td>\n",
              "      <td>74</td>\n",
              "      <td>5</td>\n",
              "      <td>3</td>\n",
              "    </tr>\n",
              "    <tr>\n",
              "      <th>3</th>\n",
              "      <td>18.0</td>\n",
              "      <td>313.0</td>\n",
              "      <td>11.5</td>\n",
              "      <td>62</td>\n",
              "      <td>5</td>\n",
              "      <td>4</td>\n",
              "    </tr>\n",
              "    <tr>\n",
              "      <th>4</th>\n",
              "      <td>0.0</td>\n",
              "      <td>0.0</td>\n",
              "      <td>14.3</td>\n",
              "      <td>56</td>\n",
              "      <td>5</td>\n",
              "      <td>5</td>\n",
              "    </tr>\n",
              "  </tbody>\n",
              "</table>\n",
              "</div>\n",
              "      <button class=\"colab-df-convert\" onclick=\"convertToInteractive('df-e4ec7958-f7c4-41fe-88ea-da62a1b498af')\"\n",
              "              title=\"Convert this dataframe to an interactive table.\"\n",
              "              style=\"display:none;\">\n",
              "        \n",
              "  <svg xmlns=\"http://www.w3.org/2000/svg\" height=\"24px\"viewBox=\"0 0 24 24\"\n",
              "       width=\"24px\">\n",
              "    <path d=\"M0 0h24v24H0V0z\" fill=\"none\"/>\n",
              "    <path d=\"M18.56 5.44l.94 2.06.94-2.06 2.06-.94-2.06-.94-.94-2.06-.94 2.06-2.06.94zm-11 1L8.5 8.5l.94-2.06 2.06-.94-2.06-.94L8.5 2.5l-.94 2.06-2.06.94zm10 10l.94 2.06.94-2.06 2.06-.94-2.06-.94-.94-2.06-.94 2.06-2.06.94z\"/><path d=\"M17.41 7.96l-1.37-1.37c-.4-.4-.92-.59-1.43-.59-.52 0-1.04.2-1.43.59L10.3 9.45l-7.72 7.72c-.78.78-.78 2.05 0 2.83L4 21.41c.39.39.9.59 1.41.59.51 0 1.02-.2 1.41-.59l7.78-7.78 2.81-2.81c.8-.78.8-2.07 0-2.86zM5.41 20L4 18.59l7.72-7.72 1.47 1.35L5.41 20z\"/>\n",
              "  </svg>\n",
              "      </button>\n",
              "      \n",
              "  <style>\n",
              "    .colab-df-container {\n",
              "      display:flex;\n",
              "      flex-wrap:wrap;\n",
              "      gap: 12px;\n",
              "    }\n",
              "\n",
              "    .colab-df-convert {\n",
              "      background-color: #E8F0FE;\n",
              "      border: none;\n",
              "      border-radius: 50%;\n",
              "      cursor: pointer;\n",
              "      display: none;\n",
              "      fill: #1967D2;\n",
              "      height: 32px;\n",
              "      padding: 0 0 0 0;\n",
              "      width: 32px;\n",
              "    }\n",
              "\n",
              "    .colab-df-convert:hover {\n",
              "      background-color: #E2EBFA;\n",
              "      box-shadow: 0px 1px 2px rgba(60, 64, 67, 0.3), 0px 1px 3px 1px rgba(60, 64, 67, 0.15);\n",
              "      fill: #174EA6;\n",
              "    }\n",
              "\n",
              "    [theme=dark] .colab-df-convert {\n",
              "      background-color: #3B4455;\n",
              "      fill: #D2E3FC;\n",
              "    }\n",
              "\n",
              "    [theme=dark] .colab-df-convert:hover {\n",
              "      background-color: #434B5C;\n",
              "      box-shadow: 0px 1px 3px 1px rgba(0, 0, 0, 0.15);\n",
              "      filter: drop-shadow(0px 1px 2px rgba(0, 0, 0, 0.3));\n",
              "      fill: #FFFFFF;\n",
              "    }\n",
              "  </style>\n",
              "\n",
              "      <script>\n",
              "        const buttonEl =\n",
              "          document.querySelector('#df-e4ec7958-f7c4-41fe-88ea-da62a1b498af button.colab-df-convert');\n",
              "        buttonEl.style.display =\n",
              "          google.colab.kernel.accessAllowed ? 'block' : 'none';\n",
              "\n",
              "        async function convertToInteractive(key) {\n",
              "          const element = document.querySelector('#df-e4ec7958-f7c4-41fe-88ea-da62a1b498af');\n",
              "          const dataTable =\n",
              "            await google.colab.kernel.invokeFunction('convertToInteractive',\n",
              "                                                     [key], {});\n",
              "          if (!dataTable) return;\n",
              "\n",
              "          const docLinkHtml = 'Like what you see? Visit the ' +\n",
              "            '<a target=\"_blank\" href=https://colab.research.google.com/notebooks/data_table.ipynb>data table notebook</a>'\n",
              "            + ' to learn more about interactive tables.';\n",
              "          element.innerHTML = '';\n",
              "          dataTable['output_type'] = 'display_data';\n",
              "          await google.colab.output.renderOutput(dataTable, element);\n",
              "          const docLink = document.createElement('div');\n",
              "          docLink.innerHTML = docLinkHtml;\n",
              "          element.appendChild(docLink);\n",
              "        }\n",
              "      </script>\n",
              "    </div>\n",
              "  </div>\n",
              "  "
            ]
          },
          "metadata": {},
          "execution_count": 10
        }
      ]
    },
    {
      "cell_type": "code",
      "source": [
        "answer1 = df.Ozone.mean() - df_oz.Ozone.mean()\n",
        "print(answer1)"
      ],
      "metadata": {
        "colab": {
          "base_uri": "https://localhost:8080/"
        },
        "id": "BO1czL73EmnT",
        "outputId": "27ba9bda-2ab1-404a-e6a8-58c32f409046"
      },
      "execution_count": 11,
      "outputs": [
        {
          "output_type": "stream",
          "name": "stdout",
          "text": [
            "10.188133874239352\n"
          ]
        }
      ]
    },
    {
      "cell_type": "markdown",
      "source": [
        "## 1-2번"
      ],
      "metadata": {
        "id": "qt45MfNSGLLx"
      }
    },
    {
      "cell_type": "code",
      "source": [
        "scaler = MinMaxScaler()\n",
        "df_oz['Wind'] = scaler.fit_transform(df_oz[['Wind']])\n",
        "print(df.head())"
      ],
      "metadata": {
        "colab": {
          "base_uri": "https://localhost:8080/"
        },
        "id": "ceOVgzdJE46e",
        "outputId": "9dd3a00b-d300-49e9-b16b-c9b40fd0b31a"
      },
      "execution_count": 19,
      "outputs": [
        {
          "output_type": "stream",
          "name": "stdout",
          "text": [
            "   Ozone  Solar.R  Wind  Temp  Month  Day\n",
            "0   41.0    190.0   7.4    67      5    1\n",
            "1   36.0    118.0   8.0    72      5    2\n",
            "2   12.0    149.0  12.6    74      5    3\n",
            "3   18.0    313.0  11.5    62      5    4\n",
            "4    NaN      NaN  14.3    56      5    5\n"
          ]
        }
      ]
    },
    {
      "cell_type": "code",
      "source": [
        "scaler = StandardScaler()\n",
        "df['Wind'] = scaler.fit_transform(df_oz[['Wind']])\n",
        "print(df.head())"
      ],
      "metadata": {
        "colab": {
          "base_uri": "https://localhost:8080/"
        },
        "id": "jnIv5NkaFcU8",
        "outputId": "eb48cd55-6445-45c4-f78e-c0848af67a95"
      },
      "execution_count": 20,
      "outputs": [
        {
          "output_type": "stream",
          "name": "stdout",
          "text": [
            "   Ozone  Solar.R      Wind  Temp  Month  Day\n",
            "0   41.0    190.0 -0.728332    67      5    1\n",
            "1   36.0    118.0 -0.557464    72      5    2\n",
            "2   12.0    149.0  0.752529    74      5    3\n",
            "3   18.0    313.0  0.439270    62      5    4\n",
            "4    NaN      NaN  1.236657    56      5    5\n"
          ]
        }
      ]
    },
    {
      "cell_type": "code",
      "source": [
        "answer2 = df_oz.Wind.mean() - df.Wind.mean()\n",
        "print(answer2)"
      ],
      "metadata": {
        "colab": {
          "base_uri": "https://localhost:8080/"
        },
        "id": "yP7MoEUCF-LI",
        "outputId": "e2995942-85df-4d3d-a053-d7a9bfee0c62"
      },
      "execution_count": 21,
      "outputs": [
        {
          "output_type": "stream",
          "name": "stdout",
          "text": [
            "0.4346061231510142\n"
          ]
        }
      ]
    },
    {
      "cell_type": "markdown",
      "source": [
        "## 1-3번"
      ],
      "metadata": {
        "id": "Pl_5wqBYHWsA"
      }
    },
    {
      "cell_type": "code",
      "source": [
        "print(df.head())"
      ],
      "metadata": {
        "colab": {
          "base_uri": "https://localhost:8080/"
        },
        "id": "zxoVjOBeGv6P",
        "outputId": "564e2962-89b9-4a6f-aa5e-e28708586718"
      },
      "execution_count": 24,
      "outputs": [
        {
          "output_type": "stream",
          "name": "stdout",
          "text": [
            "   Ozone  Solar.R      Wind  Temp  Month  Day\n",
            "0   41.0    190.0 -0.728332    67      5    1\n",
            "1   36.0    118.0 -0.557464    72      5    2\n",
            "2   12.0    149.0  0.752529    74      5    3\n",
            "3   18.0    313.0  0.439270    62      5    4\n",
            "4    NaN      NaN  1.236657    56      5    5\n"
          ]
        }
      ]
    },
    {
      "cell_type": "code",
      "source": [
        "print(df.groupby('Month')['Temp'].mean())"
      ],
      "metadata": {
        "colab": {
          "base_uri": "https://localhost:8080/"
        },
        "id": "ZHXvgQ89Hbvy",
        "outputId": "e26e4dc2-763e-4990-8f58-ecd84a7ec800"
      },
      "execution_count": 28,
      "outputs": [
        {
          "output_type": "stream",
          "name": "stdout",
          "text": [
            "Month\n",
            "5    65.548387\n",
            "6    79.100000\n",
            "7    83.903226\n",
            "8    83.967742\n",
            "9    76.900000\n",
            "Name: Temp, dtype: float64\n"
          ]
        }
      ]
    },
    {
      "cell_type": "markdown",
      "source": [
        "# 제2유형"
      ],
      "metadata": {
        "id": "lxGtItGmH6Sx"
      }
    },
    {
      "cell_type": "code",
      "source": [
        "import pandas as pd\n",
        "from sklearn.model_selection import train_test_split\n",
        "from sklearn.preprocessing import Normalizer\n",
        "from sklearn.neighbors import KNeighborsClassifier"
      ],
      "metadata": {
        "id": "kqGtlZPDHinG"
      },
      "execution_count": 40,
      "outputs": []
    },
    {
      "cell_type": "code",
      "source": [
        "df = pd.read_csv('/content/drive/MyDrive/Bank_Personal_Loan_Modelling.csv')\n",
        "df.info()"
      ],
      "metadata": {
        "colab": {
          "base_uri": "https://localhost:8080/"
        },
        "id": "MyR6HwExKrWg",
        "outputId": "18b224af-fa8a-43a4-bc41-1f373a97dfdd"
      },
      "execution_count": 33,
      "outputs": [
        {
          "output_type": "stream",
          "name": "stdout",
          "text": [
            "<class 'pandas.core.frame.DataFrame'>\n",
            "RangeIndex: 5000 entries, 0 to 4999\n",
            "Data columns (total 14 columns):\n",
            " #   Column              Non-Null Count  Dtype  \n",
            "---  ------              --------------  -----  \n",
            " 0   ID                  5000 non-null   int64  \n",
            " 1   Age                 5000 non-null   int64  \n",
            " 2   Experience          5000 non-null   int64  \n",
            " 3   Income              5000 non-null   int64  \n",
            " 4   ZIP Code            5000 non-null   int64  \n",
            " 5   Family              5000 non-null   int64  \n",
            " 6   CCAvg               5000 non-null   float64\n",
            " 7   Education           5000 non-null   int64  \n",
            " 8   Mortgage            5000 non-null   int64  \n",
            " 9   Personal Loan       5000 non-null   int64  \n",
            " 10  Securities Account  5000 non-null   int64  \n",
            " 11  CD Account          5000 non-null   int64  \n",
            " 12  Online              5000 non-null   int64  \n",
            " 13  CreditCard          5000 non-null   int64  \n",
            "dtypes: float64(1), int64(13)\n",
            "memory usage: 547.0 KB\n"
          ]
        }
      ]
    },
    {
      "cell_type": "code",
      "source": [
        "df.drop(['ID', 'ZIP Code'], axis=1, inplace=True)\n",
        "print(df.head())\n",
        "print(df.describe())"
      ],
      "metadata": {
        "colab": {
          "base_uri": "https://localhost:8080/"
        },
        "id": "2CX-J1MbOJj0",
        "outputId": "db562fa4-c8c8-41c1-ef61-72e2e7234ea7"
      },
      "execution_count": 39,
      "outputs": [
        {
          "output_type": "stream",
          "name": "stdout",
          "text": [
            "   Age  Experience  Income  Family  CCAvg  Education  Mortgage  Personal Loan  \\\n",
            "0   25           1      49       4    1.6          1         0              0   \n",
            "1   45          19      34       3    1.5          1         0              0   \n",
            "2   39          15      11       1    1.0          1         0              0   \n",
            "3   35           9     100       1    2.7          2         0              0   \n",
            "4   35           8      45       4    1.0          2         0              0   \n",
            "\n",
            "   Securities Account  CD Account  Online  CreditCard  \n",
            "0                   1           0       0           0  \n",
            "1                   1           0       0           0  \n",
            "2                   0           0       0           0  \n",
            "3                   0           0       0           0  \n",
            "4                   0           0       0           1  \n",
            "               Age   Experience       Income       Family        CCAvg  \\\n",
            "count  5000.000000  5000.000000  5000.000000  5000.000000  5000.000000   \n",
            "mean     45.338400    20.104600    73.774200     2.396400     1.937938   \n",
            "std      11.463166    11.467954    46.033729     1.147663     1.747659   \n",
            "min      23.000000    -3.000000     8.000000     1.000000     0.000000   \n",
            "25%      35.000000    10.000000    39.000000     1.000000     0.700000   \n",
            "50%      45.000000    20.000000    64.000000     2.000000     1.500000   \n",
            "75%      55.000000    30.000000    98.000000     3.000000     2.500000   \n",
            "max      67.000000    43.000000   224.000000     4.000000    10.000000   \n",
            "\n",
            "         Education     Mortgage  Personal Loan  Securities Account  \\\n",
            "count  5000.000000  5000.000000    5000.000000         5000.000000   \n",
            "mean      1.881000    56.498800       0.096000            0.104400   \n",
            "std       0.839869   101.713802       0.294621            0.305809   \n",
            "min       1.000000     0.000000       0.000000            0.000000   \n",
            "25%       1.000000     0.000000       0.000000            0.000000   \n",
            "50%       2.000000     0.000000       0.000000            0.000000   \n",
            "75%       3.000000   101.000000       0.000000            0.000000   \n",
            "max       3.000000   635.000000       1.000000            1.000000   \n",
            "\n",
            "       CD Account       Online   CreditCard  \n",
            "count  5000.00000  5000.000000  5000.000000  \n",
            "mean      0.06040     0.596800     0.294000  \n",
            "std       0.23825     0.490589     0.455637  \n",
            "min       0.00000     0.000000     0.000000  \n",
            "25%       0.00000     0.000000     0.000000  \n",
            "50%       0.00000     1.000000     0.000000  \n",
            "75%       0.00000     1.000000     1.000000  \n",
            "max       1.00000     1.000000     1.000000  \n"
          ]
        }
      ]
    },
    {
      "cell_type": "code",
      "source": [
        "X = df.drop('Personal Loan', axis=1)\n",
        "y = df['Personal Loan']\n",
        "X_train, X_test, y_train, y_test = train_test_split(X, y, test_size=0.3, random_state=1234, stratify=y)\n",
        "\n",
        "norma = Normalizer()\n",
        "X_train = norma.fit_transform(X_train)\n",
        "X_test = norma.transform(X_test)"
      ],
      "metadata": {
        "id": "jZqf0o0JK09e"
      },
      "execution_count": 50,
      "outputs": []
    },
    {
      "cell_type": "code",
      "source": [
        "train_acc = []\n",
        "test_acc = []\n",
        "settings = range(1, 25)\n",
        "for k in settings:\n",
        "  clf = KNeighborsClassifier(n_neighbors=k)\n",
        "  clf.fit(X_train, y_train)\n",
        "  train_acc.append(clf.score(X_train, y_train))\n",
        "  test_acc.append(clf.score(X_test, y_test))\n",
        "print(train_acc)\n",
        "print(test_acc)"
      ],
      "metadata": {
        "colab": {
          "base_uri": "https://localhost:8080/"
        },
        "id": "vbAu1kVcU3KB",
        "outputId": "6e890538-0c9c-4146-df90-1297eded30d5"
      },
      "execution_count": 52,
      "outputs": [
        {
          "output_type": "stream",
          "name": "stdout",
          "text": [
            "[1.0, 0.9542857142857143, 0.964, 0.9394285714285714, 0.9471428571428572, 0.9322857142857143, 0.938, 0.9262857142857143, 0.9331428571428572, 0.9231428571428572, 0.9257142857142857, 0.9205714285714286, 0.9237142857142857, 0.9177142857142857, 0.9217142857142857, 0.9171428571428571, 0.9182857142857143, 0.9168571428571428, 0.9191428571428572, 0.9194285714285715, 0.9197142857142857, 0.9182857142857143, 0.9194285714285715, 0.9162857142857143]\n",
            "[0.9213333333333333, 0.9213333333333333, 0.9246666666666666, 0.92, 0.926, 0.916, 0.9166666666666666, 0.9173333333333333, 0.9166666666666666, 0.918, 0.916, 0.914, 0.914, 0.91, 0.914, 0.9093333333333333, 0.91, 0.908, 0.908, 0.9093333333333333, 0.9093333333333333, 0.9073333333333333, 0.9073333333333333, 0.9086666666666666]\n"
          ]
        }
      ]
    },
    {
      "cell_type": "code",
      "source": [
        "print('최적값 k = 5')"
      ],
      "metadata": {
        "colab": {
          "base_uri": "https://localhost:8080/"
        },
        "id": "PvGnbtQLjodF",
        "outputId": "cdb1d386-9a41-4463-dfb7-097437ea1d3d"
      },
      "execution_count": 53,
      "outputs": [
        {
          "output_type": "stream",
          "name": "stdout",
          "text": [
            "최적값 k = 5\n"
          ]
        }
      ]
    },
    {
      "cell_type": "code",
      "source": [],
      "metadata": {
        "id": "Ge-otNJ_nVTO"
      },
      "execution_count": null,
      "outputs": []
    }
  ]
}