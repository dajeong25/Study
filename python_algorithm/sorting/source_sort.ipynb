{
 "cells": [
  {
   "attachments": {},
   "cell_type": "markdown",
   "metadata": {},
   "source": [
    "출처 [저서] : 이것이 취업을 위한 코딩테스트다 with 파이썬"
   ]
  },
  {
   "attachments": {},
   "cell_type": "markdown",
   "metadata": {},
   "source": [
    "# 1. selection sort\n",
    "- 앞에서부터 차근차근 가장 작은 값을 앞으로 보내느 과정을 n-1번 반복\n",
    "- 시간복잡도 : O(N^2) >> 이중for문 사용"
   ]
  },
  {
   "cell_type": "code",
   "execution_count": 1,
   "metadata": {},
   "outputs": [
    {
     "name": "stdout",
     "output_type": "stream",
     "text": [
      "[0, 1, 3, 5, 7, 9]\n"
     ]
    }
   ],
   "source": [
    "array = [7, 5, 0, 9, 3, 1]\n",
    "\n",
    "for i in range(len(array)):\n",
    "    min_index = i #가장 작은 원소의 인덱스\n",
    "    for k in range(i+1, len(array)):\n",
    "        if array[min_index] > array[k]:\n",
    "            min_index = k\n",
    "    array[i], array[min_index] = array[min_index], array[i] #위치 변경\n",
    "\n",
    "print(array)"
   ]
  },
  {
   "attachments": {},
   "cell_type": "markdown",
   "metadata": {},
   "source": [
    "# 2. insertion sort\n",
    "- 적절한 위치에 삽입되기 전, 그 앞까지는 이미 정렬되어 있다고 가정\n",
    "- 정렬되어 있는 리스트에서 적절한 위치에 삽입\n",
    "- 시간복잡도 : O(N^2) >> 이중for문 사용 \n",
    "- 거의 정렬되어 있다면 아주 빠르게 작동함"
   ]
  },
  {
   "cell_type": "code",
   "execution_count": 2,
   "metadata": {},
   "outputs": [
    {
     "name": "stdout",
     "output_type": "stream",
     "text": [
      "[0, 1, 3, 5, 7, 9]\n"
     ]
    }
   ],
   "source": [
    "array = [7, 5, 0, 9, 3, 1]\n",
    "\n",
    "for i in range(len(array)):\n",
    "    for k in range(i, 0, -1):     # i부터 역순으로 반복\n",
    "        if array[k] < array[k-1]: # 한 칸씩 앞으로 이동\n",
    "            array[k], array[k-1] = array[k-1], array[k]\n",
    "        else:\n",
    "            break #자기보다 작은 데이터를 만나면 stop\n",
    "print(array)"
   ]
  },
  {
   "attachments": {},
   "cell_type": "markdown",
   "metadata": {},
   "source": [
    "# 3. 퀵 정렬\n",
    "- 가장 널리 사용되는 직관적인 형태\n",
    "- 시간복잡도 : 평균O(NlogN) 최악O(N^2)\n",
    "- 이미 거의 정렬되어 있으면 느림.\n",
    "1. 첫 데이터 = 기준(피벗 pivot)\n",
    "2. 해당 데이터를 찾은 다음 교환<br>\n",
    "   → : 피벗보다 큰 데이터<br>\n",
    "   ← : 피벗보다 작은 데이터\n",
    "3. 두 값이 엇갈린 경우 : 더이상 교환할 값이 없을 때, 피벗과 피벗보다 작은 값을 교환\n",
    "4. 분할 완료 : (피벗보다 작은값) 피벗 기준 (피벗보다 큰 값)\n",
    "5. 분할을 기준으로 왼쪽, 오른쪽 각각 피벗 설정 후 반복"
   ]
  },
  {
   "cell_type": "code",
   "execution_count": 5,
   "metadata": {},
   "outputs": [
    {
     "name": "stdout",
     "output_type": "stream",
     "text": [
      "[0, 1, 2, 3, 4, 5, 7, 8, 9]\n"
     ]
    }
   ],
   "source": [
    "array = [7, 5, 0, 9, 3, 1, 4, 8, 2]\n",
    "\n",
    "def quick_sort(array, start, end):\n",
    "    if start >= end : #원소가 1개인 경우 종료\n",
    "        return\n",
    "    \n",
    "    pivot = start #피벗=첫데이터\n",
    "    left = start+1\n",
    "    right = end\n",
    "    while left <= right:\n",
    "        #피벗보다 큰 데이터를 찾을 때까지 반복\n",
    "        while left <= end and array[left] <= array[pivot]:\n",
    "            left += 1\n",
    "        #피벗보다 작은 데이터를 찾을 때까지 반복\n",
    "        while right > start and array[right] >= array[pivot]:\n",
    "            right -= 1\n",
    "        \n",
    "        if left > right: #두 위치가 엇갈림\n",
    "            array[right], array[pivot] = array[pivot], array[right] # 작은데이터와 피벗 교환\n",
    "        else: \n",
    "            array[left], array[right] = array[right], array[left] #작은 데이터와 큰 데이터 교환\n",
    "            \n",
    "    #분할이후 왼쪽과 오른쪽 각각 정렬\n",
    "    quick_sort(array, start, right-1)\n",
    "    quick_sort(array, right+1, end)\n",
    "    \n",
    "quick_sort(array, 0, len(array)-1)\n",
    "print(array)"
   ]
  },
  {
   "attachments": {},
   "cell_type": "markdown",
   "metadata": {},
   "source": [
    "> 파이썬의 장점을 살린 퀵 정렬"
   ]
  },
  {
   "cell_type": "code",
   "execution_count": 6,
   "metadata": {},
   "outputs": [
    {
     "name": "stdout",
     "output_type": "stream",
     "text": [
      "[0, 1, 2, 3, 4, 5, 7, 8, 9]\n"
     ]
    }
   ],
   "source": [
    "array = [7, 5, 0, 9, 3, 1, 4, 8, 2]\n",
    "\n",
    "def quick_sort_v2(array):\n",
    "    #리스트에 하나 이하의 원소만 있다면 종료\n",
    "    if len(array) <= 1:\n",
    "        return array\n",
    "    \n",
    "    pivot = array[0]\n",
    "    tail = array[1:]\n",
    "    left_side = [x for x in tail if x <= pivot] #분할된 왼쪽\n",
    "    right_side = [x for x in tail if x > pivot] #분할된 오른쪽\n",
    "    \n",
    "    #분할 이후 각각 정렬\n",
    "    return quick_sort_v2(left_side) + [pivot] + quick_sort_v2(right_side)\n",
    "\n",
    "print(quick_sort_v2(array))"
   ]
  },
  {
   "attachments": {},
   "cell_type": "markdown",
   "metadata": {},
   "source": [
    "# 4. 계수 정렬 Count Sort\n",
    "- 데이터 크기 범위가 제한되어 정수로 표현할 수 있을 때, 매우 빠른 정렬 알고리즘\n",
    "- 모든 데이터 = 양수, max-min <= 1,000,000 일 때, 효과적 <br>\n",
    "    O(N+K) : 데이터개수N, 최대값크기K"
   ]
  },
  {
   "cell_type": "code",
   "execution_count": 7,
   "metadata": {},
   "outputs": [
    {
     "name": "stdout",
     "output_type": "stream",
     "text": [
      "0 0 1 2 2 3 3 4 5 7 8 9 "
     ]
    }
   ],
   "source": [
    "# 모든 원소 값이 0보다 크거나 같다고 가정\n",
    "array = [7, 5, 0, 9, 3, 1, 4, 8, 2, 0, 3, 2]\n",
    "\n",
    "# 모든 범위를 포함하는 리스트 선언(0으로 초기화)\n",
    "count = [0] * (max(array)+1)\n",
    "\n",
    "for i in range(len(array)):\n",
    "    count[array[i]] += 1 # 각 데이터에 해당하는 인덱스 값 증가\n",
    "\n",
    "for i in range(len(count)): #리스트에 기록된 정렬 정보 확인\n",
    "    for k in range(count[i]):\n",
    "        print(i, end=' ')"
   ]
  },
  {
   "attachments": {},
   "cell_type": "markdown",
   "metadata": {},
   "source": [
    "# sorted(), sort()함수\n",
    "- 병합정렬 기반\n",
    "- 시간 복잡도 최악에도 O(NlogN)"
   ]
  },
  {
   "cell_type": "code",
   "execution_count": 9,
   "metadata": {},
   "outputs": [
    {
     "name": "stdout",
     "output_type": "stream",
     "text": [
      "[('a', 2), ('c', 3), ('d', 5)]\n"
     ]
    }
   ],
   "source": [
    "# key 활용\n",
    "array = [('a', 2), ('d', 5), ('c', 3)]\n",
    "\n",
    "def setting(data):\n",
    "    return data[1]\n",
    "\n",
    "result = sorted(array, key=setting)\n",
    "print(result)"
   ]
  },
  {
   "cell_type": "code",
   "execution_count": null,
   "metadata": {},
   "outputs": [],
   "source": []
  }
 ],
 "metadata": {
  "kernelspec": {
   "display_name": "base",
   "language": "python",
   "name": "python3"
  },
  "language_info": {
   "codemirror_mode": {
    "name": "ipython",
    "version": 3
   },
   "file_extension": ".py",
   "mimetype": "text/x-python",
   "name": "python",
   "nbconvert_exporter": "python",
   "pygments_lexer": "ipython3",
   "version": "3.9.12"
  },
  "orig_nbformat": 4
 },
 "nbformat": 4,
 "nbformat_minor": 2
}
