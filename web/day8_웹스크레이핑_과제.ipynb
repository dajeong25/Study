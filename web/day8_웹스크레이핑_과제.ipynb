{
 "cells": [
  {
   "cell_type": "markdown",
   "metadata": {},
   "source": [
    "## 네이버 뉴스 검색 및 크롤링\n",
    "- 코로나 검색해서 첫 페이지의 모든 기사의 제목과 언론사, 요약 크롤링\n",
    "- https://search.naver.com/search.naver?where=news&sm=tab_jum&query=\n"
   ]
  },
  {
   "cell_type": "code",
   "execution_count": 1,
   "metadata": {},
   "outputs": [],
   "source": [
    "def get_newslist(driver):\n",
    "    news_titles = []\n",
    "    news_presses = []\n",
    "    news_summaries = [] \n",
    "    news_list = driver.find_elements(by=By.CLASS_NAME, value='news_wrap.api_ani_send')\n",
    "    \n",
    "    for news in news_list:\n",
    "        #기사 제목 추출\n",
    "        news_title = news.find_element(by=By.CLASS_NAME, value='news_tit')\n",
    "        news_titles.append(news_title.get_attribute('title'))\n",
    "        #언론사 추출\n",
    "        news_press = news.find_element(by=By.CSS_SELECTOR, value='div.news_info > div.info_group > a.info.press')\n",
    "        news_presses.append(news_press.text.replace(\"언론사 선정\", ''))\n",
    "        #기사 요약 추출\n",
    "        news_summary = news.find_element(by=By.CLASS_NAME, value='dsc_wrap')\n",
    "        news_summaries.append(news_summary.text)\n",
    "        \n",
    "    return [news_titles, news_presses, news_summaries]\n",
    "\n",
    "\n",
    "def save_table(data, index, title):\n",
    "    #데이터프레임형식으로 변환 및 저장\n",
    "    import pandas as pd\n",
    "    news_table = pd.DataFrame(data, index=index).T\n",
    "    news_table.to_csv(title)\n",
    "\n",
    "\n",
    "def selenium_service(url='https://search.naver.com/search.naver?where=news&sm=tab_jum&query=', TIMEOUT=3, search_key=\"none\", id_value='nx_query'):\n",
    "    try: \n",
    "        service = Service(executable_path=ChromeDriverManager().install())\n",
    "        driver = webdriver.Chrome(service=service)\n",
    "        driver.get(url)\n",
    "        driver.implicitly_wait(TIMEOUT)\n",
    "        print(\"페이지 접속합니다.\")\n",
    "        \n",
    "        search = driver.find_element(by=By.ID, value=id_value)\n",
    "        search.click()\n",
    "        search.send_keys(search_key)\n",
    "        search.send_keys(Keys.RETURN)\n",
    "        print(f'{search_key} 검색 후 접속')\n",
    "        driver.implicitly_wait(TIMEOUT)\n",
    "        \n",
    "        get = get_newslist(driver)\n",
    "        return get \n",
    "\n",
    "    except Exception:\n",
    "        raise\n",
    "    \n",
    "    finally:\n",
    "        if driver is not None:\n",
    "            driver.quit()"
   ]
  },
  {
   "cell_type": "code",
   "execution_count": 2,
   "metadata": {},
   "outputs": [
    {
     "name": "stdout",
     "output_type": "stream",
     "text": [
      "페이지 접속합니다.\n",
      "코로나 검색 후 접속\n"
     ]
    }
   ],
   "source": [
    "from selenium import webdriver\n",
    "from selenium.webdriver.common.by import By\n",
    "from selenium.webdriver.common.keys import Keys\n",
    "from selenium.webdriver.chrome.service import Service\n",
    "from webdriver_manager.chrome import ChromeDriverManager\n",
    "\n",
    "data = selenium_service(search_key='코로나')\n",
    "save_table(data, ['제목', '언론사', '기사 요약'], \"네이버 코로나 기사 리스트.csv\")"
   ]
  },
  {
   "cell_type": "markdown",
   "metadata": {},
   "source": [
    "## 누적관객수 추출\n",
    "- 누적관객수 1000만 이상인 영화명, 누적매출액, 개봉일 출력\n",
    "- http://www.kobis.or.kr/kobisopenapi/homepg/apiservice/searchServiceInfo.do\n",
    "- http://www.kobis.or.kr/kobisopenapi/homepg/board/findTutorial.do?targetId=section_3\n",
    " "
   ]
  },
  {
   "cell_type": "code",
   "execution_count": 72,
   "metadata": {},
   "outputs": [],
   "source": [
    "def get_DailyBoxOfficeList(targetDt=str):\n",
    "    endpoint = 'http://www.kobis.or.kr/kobisopenapi/webservice/rest/boxoffice/searchDailyBoxOfficeList.'\n",
    "    contentType=\"json\"\n",
    "    key = '6940dfa30d685d37fce05cbacd26f7cc'\n",
    "    \n",
    "    #보고자 하는 해당 날짜의 박스오피스 리스트 추출\n",
    "    paramset = contentType+'?key='+key+'&targetDt='+targetDt \n",
    "    url = endpoint+paramset\n",
    "    result = requests.get(url)\n",
    "    movie_data = result.json()\n",
    "    return movie_data\n",
    "\n",
    "def get_audiAcc(movie_data, condition):\n",
    "    movie_list = movie_data['boxOfficeResult']['dailyBoxOfficeList']\n",
    "    for movie in movie_list:\n",
    "        if movie['audiAcc'] != 'null':\n",
    "            if int(movie['audiAcc']) >= condition:\n",
    "                print(movie['movieNm'], movie['salesAcc'], movie['openDt'])\n"
   ]
  },
  {
   "cell_type": "code",
   "execution_count": 79,
   "metadata": {},
   "outputs": [],
   "source": [
    "import requests\n",
    "\n",
    "movie_list = get_DailyBoxOfficeList('20220924')\n",
    "get_audiAcc(movie_list, 10000000)\n"
   ]
  },
  {
   "cell_type": "code",
   "execution_count": null,
   "metadata": {},
   "outputs": [],
   "source": []
  }
 ],
 "metadata": {
  "kernelspec": {
   "display_name": "Python 3 (ipykernel)",
   "language": "python",
   "name": "python3"
  },
  "language_info": {
   "codemirror_mode": {
    "name": "ipython",
    "version": 3
   },
   "file_extension": ".py",
   "mimetype": "text/x-python",
   "name": "python",
   "nbconvert_exporter": "python",
   "pygments_lexer": "ipython3",
   "version": "3.9.12"
  },
  "toc": {
   "base_numbering": 1,
   "nav_menu": {},
   "number_sections": true,
   "sideBar": true,
   "skip_h1_title": false,
   "title_cell": "Table of Contents",
   "title_sidebar": "Contents",
   "toc_cell": false,
   "toc_position": {},
   "toc_section_display": true,
   "toc_window_display": false
  },
  "vscode": {
   "interpreter": {
    "hash": "631926b96873d2007fbe5ba14401cac9ce99e5e76ded0bffc18be58f3fefa61b"
   }
  }
 },
 "nbformat": 4,
 "nbformat_minor": 2
}
